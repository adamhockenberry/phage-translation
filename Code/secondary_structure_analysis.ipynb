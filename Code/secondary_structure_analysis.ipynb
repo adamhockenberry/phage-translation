{
 "cells": [
  {
   "cell_type": "code",
   "execution_count": 1,
   "metadata": {},
   "outputs": [],
   "source": [
    "%matplotlib inline"
   ]
  },
  {
   "cell_type": "code",
   "execution_count": null,
   "metadata": {},
   "outputs": [],
   "source": [
    "from Bio import SeqIO\n",
    "import pandas as pd"
   ]
  },
  {
   "cell_type": "markdown",
   "metadata": {},
   "source": [
    "# Double checking sequence extraction"
   ]
  },
  {
   "cell_type": "code",
   "execution_count": null,
   "metadata": {},
   "outputs": [],
   "source": [
    "taxa = 287\n",
    "tsv_loc = '../Data/host_genomes/{}.clean.tsv'.format(taxa)\n",
    "df = pd.read_csv(tsv_loc, sep = \"\\t\", index_col = 0)\n",
    "\n",
    "fasta_loc = '../Data/host_genomes/{}.fasta'.format(taxa)\n",
    "genome_seq = SeqIO.read(fasta_loc, 'fasta')\n",
    "\n",
    "gff3_loc = '../Data/host_genomes/{}.gff3'.format(taxa)\n",
    "gff3_df = pd.read_csv(gff3_loc, sep='\\t', comment='#', header=None)"
   ]
  },
  {
   "cell_type": "code",
   "execution_count": null,
   "metadata": {},
   "outputs": [],
   "source": [
    "seq_dicty = {}\n",
    "gff3_df = gff3_df[gff3_df[2]=='CDS']\n",
    "\n",
    "for index in gff3_df.index:\n",
    "    if gff3_df.at[index, 6] == '+':\n",
    "        start = gff3_df.at[index, 3]\n",
    "        locus_tag = gff3_df.at[index, 8].split(';Parent=gene-')[1].split(';')[0]\n",
    "        seq_dicty[locus_tag] = genome_seq.seq[start-31:start+29]\n",
    "for index in df.index:\n",
    "    if df.at[index, 'strand'] == '+':\n",
    "        assert df.at[index, 'upstream_sequence']+df.at[index, 'coding_sequence'][:30] ==\\\n",
    "                seq_dicty[df.at[index, 'locus_tag']]"
   ]
  },
  {
   "cell_type": "code",
   "execution_count": null,
   "metadata": {},
   "outputs": [],
   "source": [
    "seq_dicty = {}\n",
    "gff3_df = gff3_df[gff3_df[2]=='CDS']\n",
    "\n",
    "for index in gff3_df.index:\n",
    "    if gff3_df.at[index, 6] == '-':\n",
    "        start = gff3_df.at[index, 4]\n",
    "        locus_tag = gff3_df.at[index, 8].split(';Parent=gene-')[1].split(';')[0]\n",
    "        seq_dicty[locus_tag] = genome_seq.seq[start-30:start+30].reverse_complement()\n",
    "for index in df.index:\n",
    "    if df.at[index, 'strand'] == '-':\n",
    "        assert df.at[index, 'upstream_sequence']+df.at[index, 'coding_sequence'][:30] ==\\\n",
    "                seq_dicty[df.at[index, 'locus_tag']]"
   ]
  },
  {
   "cell_type": "code",
   "execution_count": null,
   "metadata": {},
   "outputs": [],
   "source": []
  },
  {
   "cell_type": "code",
   "execution_count": null,
   "metadata": {},
   "outputs": [],
   "source": []
  },
  {
   "cell_type": "markdown",
   "metadata": {},
   "source": [
    "# And a little null analysis on the *expected* relationship between secondary structure and aSD binding energy"
   ]
  },
  {
   "cell_type": "code",
   "execution_count": 15,
   "metadata": {},
   "outputs": [],
   "source": [
    "import json\n",
    "import numpy as np\n",
    "\n",
    "import statsmodels.formula.api as smf"
   ]
  },
  {
   "cell_type": "code",
   "execution_count": 10,
   "metadata": {},
   "outputs": [],
   "source": [
    "gaps=(4,10)\n",
    "RBS_len=6\n",
    "with open('../Data/energy_files/energyRef_CCUCCU_ensemble_noneConstraint.json', 'r') as infile:\n",
    "       energy_dict = json.load(infile)\n",
    "        \n",
    "ec_df = pd.read_csv('../Data/562_associated_data/ecoli.combined.tsv', sep='\\t', index_col=0)\n",
    "ec_df_indices = list(ec_df.index)"
   ]
  },
  {
   "cell_type": "code",
   "execution_count": 11,
   "metadata": {},
   "outputs": [
    {
     "name": "stdout",
     "output_type": "stream",
     "text": [
      "A 0.3184646962233169\n",
      "T 0.25085385878489325\n",
      "G 0.24104269293924466\n",
      "C 0.18963875205254516\n"
     ]
    }
   ],
   "source": [
    "total_nts = ec_df['upstream_sequence'].str.len().sum()\n",
    "for nt in ['A', 'T', 'G', 'C']:\n",
    "    print(nt, ec_df['upstream_sequence'].str.count(nt).sum()/total_nts)"
   ]
  },
  {
   "cell_type": "markdown",
   "metadata": {},
   "source": [
    "**This takes a little while so I only am running once (thus commenting to prevent screwing it up) and saving the file and reading it back in later**"
   ]
  },
  {
   "cell_type": "code",
   "execution_count": 94,
   "metadata": {},
   "outputs": [],
   "source": [
    "# ss_list = []\n",
    "# rbs_list = []\n",
    "# for i in range(200000):\n",
    "# #     utr_str = ''.join(np.random.choice(['A', 'U', 'G', 'C'], p=[0.25, 0.25, 0.25, 0.25], size=30))\n",
    "#     utr_str = ''.join(np.random.choice(['A', 'U', 'G', 'C'], p=[0.3185, 0.2509, 0.2410, 0.1896], size=30))\n",
    "#     cds_seq = ec_df.iloc[np.random.choice(ec_df_indices)]['coding_sequence']\n",
    "#     if len(cds_seq) > 30:\n",
    "#         combined = utr_str + cds_seq[:30]\n",
    "#         assert len(combined) == 60\n",
    "#         rna_out = call_RNAfold(combined)\n",
    "#         e1, e2 = get_energy_RNAfold(rna_out)\n",
    "#         ss_list.append(e2)\n",
    "        \n",
    "#         ###Calculate the energy for the indicated gap offsets\n",
    "#         energy_list = []\n",
    "#         for gap in range(gaps[0],gaps[1]+1):\n",
    "#              energy_list.append(energy_dict[utr_str[-gap - RBS_len: -gap]])\n",
    "\n",
    "#         rbs_list.append(min(energy_list))\n",
    "        \n",
    "        \n",
    "# random_df = pd.DataFrame(zip(ss_list, rbs_list), columns=['secondary_structure', 'RBS_energy'])\n",
    "# print(random_df.shape)\n",
    "# random_df.to_csv('../Data/562_associated_data/randomdata.tsv', sep='\\t')"
   ]
  },
  {
   "cell_type": "code",
   "execution_count": 105,
   "metadata": {},
   "outputs": [
    {
     "name": "stdout",
     "output_type": "stream",
     "text": [
      "(200000, 2)\n"
     ]
    },
    {
     "data": {
      "text/html": [
       "<div>\n",
       "<style scoped>\n",
       "    .dataframe tbody tr th:only-of-type {\n",
       "        vertical-align: middle;\n",
       "    }\n",
       "\n",
       "    .dataframe tbody tr th {\n",
       "        vertical-align: top;\n",
       "    }\n",
       "\n",
       "    .dataframe thead th {\n",
       "        text-align: right;\n",
       "    }\n",
       "</style>\n",
       "<table border=\"1\" class=\"dataframe\">\n",
       "  <thead>\n",
       "    <tr style=\"text-align: right;\">\n",
       "      <th></th>\n",
       "      <th>secondary_structure</th>\n",
       "      <th>RBS_energy</th>\n",
       "    </tr>\n",
       "  </thead>\n",
       "  <tbody>\n",
       "    <tr>\n",
       "      <td>0</td>\n",
       "      <td>-13.36</td>\n",
       "      <td>-0.56</td>\n",
       "    </tr>\n",
       "    <tr>\n",
       "      <td>1</td>\n",
       "      <td>-15.99</td>\n",
       "      <td>-0.55</td>\n",
       "    </tr>\n",
       "    <tr>\n",
       "      <td>2</td>\n",
       "      <td>-12.12</td>\n",
       "      <td>-3.54</td>\n",
       "    </tr>\n",
       "    <tr>\n",
       "      <td>3</td>\n",
       "      <td>-4.07</td>\n",
       "      <td>-0.01</td>\n",
       "    </tr>\n",
       "    <tr>\n",
       "      <td>4</td>\n",
       "      <td>-10.99</td>\n",
       "      <td>-2.50</td>\n",
       "    </tr>\n",
       "  </tbody>\n",
       "</table>\n",
       "</div>"
      ],
      "text/plain": [
       "   secondary_structure  RBS_energy\n",
       "0               -13.36       -0.56\n",
       "1               -15.99       -0.55\n",
       "2               -12.12       -3.54\n",
       "3                -4.07       -0.01\n",
       "4               -10.99       -2.50"
      ]
     },
     "execution_count": 105,
     "metadata": {},
     "output_type": "execute_result"
    }
   ],
   "source": [
    "random_df = pd.read_csv('../Data/562_associated_data/randomdata.tsv', sep='\\t', index_col=0)\n",
    "print(random_df.shape)\n",
    "random_df.head()"
   ]
  },
  {
   "cell_type": "code",
   "execution_count": 109,
   "metadata": {},
   "outputs": [
    {
     "name": "stdout",
     "output_type": "stream",
     "text": [
      "(204060, 26)\n"
     ]
    }
   ],
   "source": [
    "assert len(list(ec_df['genome_id'].value_counts().keys())) == 1\n",
    "host_name = ec_df['genome_id'].value_counts().keys()[0]\n",
    "#\n",
    "concat_df = pd.concat((ec_df, random_df), ignore_index=True, sort=False)\n",
    "concat_df['binary_predictor'] = 1\n",
    "concat_df.at[concat_df[concat_df['genome_id'] == host_name].index, 'binary_predictor'] = 0\n",
    "print(concat_df.shape)\n",
    "\n",
    "concat_df['RBS_energy'] += 9.51"
   ]
  },
  {
   "cell_type": "code",
   "execution_count": 162,
   "metadata": {},
   "outputs": [
    {
     "name": "stdout",
     "output_type": "stream",
     "text": [
      "                             OLS Regression Results                            \n",
      "===============================================================================\n",
      "Dep. Variable:     secondary_structure   R-squared:                       0.028\n",
      "Model:                             OLS   Adj. R-squared:                  0.028\n",
      "Method:                  Least Squares   F-statistic:                     2908.\n",
      "Date:                 Tue, 10 Mar 2020   Prob (F-statistic):               0.00\n",
      "Time:                         12:30:35   Log-Likelihood:            -5.4169e+05\n",
      "No. Observations:               204060   AIC:                         1.083e+06\n",
      "Df Residuals:                   204057   BIC:                         1.083e+06\n",
      "Df Model:                            2                                         \n",
      "Covariance Type:             nonrobust                                         \n",
      "=======================================================================================\n",
      "                          coef    std err          t      P>|t|      [0.025      0.975]\n",
      "---------------------------------------------------------------------------------------\n",
      "Intercept             -11.1982      0.057   -195.861      0.000     -11.310     -11.086\n",
      "RBS_energy              0.2981      0.004     75.217      0.000       0.290       0.306\n",
      "I(binary_predictor)    -1.5523      0.056    -27.847      0.000      -1.662      -1.443\n",
      "==============================================================================\n",
      "Omnibus:                     9448.165   Durbin-Watson:                   1.994\n",
      "Prob(Omnibus):                  0.000   Jarque-Bera (JB):            11237.373\n",
      "Skew:                          -0.514   Prob(JB):                         0.00\n",
      "Kurtosis:                       3.514   Cond. No.                         80.2\n",
      "==============================================================================\n",
      "\n",
      "Warnings:\n",
      "[1] Standard Errors assume that the covariance matrix of the errors is correctly specified.\n"
     ]
    }
   ],
   "source": [
    "###Fixed intercept effect\n",
    "fitted = smf.ols('secondary_structure ~ RBS_energy + I(binary_predictor)', data=concat_df).fit(disp=0)\n",
    "\n",
    "###Random intercept \n",
    "# fitted = smf.mixedlm('secondary_structure ~ RBS_energy',\\\n",
    "#                  data=concat_df, groups=concat_df['binary_predictor']).fit(disp=0)\n",
    "\n",
    "###Random slope\n",
    "# fitted = smf.mixedlm('secondary_structure ~ RBS_energy',\\\n",
    "#                  data=concat_df, re_formula='0+RBS_energy', groups=concat_df['binary_predictor']).fit(disp=0)\n",
    "\n",
    "###Random intercept and random slope\n",
    "# fitted = smf.mixedlm('secondary_structure ~ RBS_energy',\\\n",
    "#                  data=concat_df, re_formula='RBS_energy', groups=concat_df['binary_predictor']).fit(disp=0)\n",
    "\n",
    "print(fitted.summary())\n",
    "\n"
   ]
  },
  {
   "cell_type": "markdown",
   "metadata": {},
   "source": [
    "**Parsimoniously grabbing similar values**"
   ]
  },
  {
   "cell_type": "code",
   "execution_count": 166,
   "metadata": {},
   "outputs": [],
   "source": [
    "random_indices = []\n",
    "for index in ec_df.index[:]:\n",
    "    rbs = ec_df.loc[index]['RBS_energy']\n",
    "    temp_df = random_df[random_df['RBS_energy'] == rbs]\n",
    "    if temp_df.shape[0]>0:\n",
    "        choice = np.random.choice(temp_df.index)\n",
    "        random_indices.append(choice)"
   ]
  },
  {
   "cell_type": "code",
   "execution_count": 167,
   "metadata": {},
   "outputs": [
    {
     "name": "stdout",
     "output_type": "stream",
     "text": [
      "(8120, 26)\n"
     ]
    }
   ],
   "source": [
    "temp_df = random_df.loc[random_indices]\n",
    "concat_df = pd.concat((ec_df, temp_df), ignore_index=True, sort=False)\n",
    "concat_df['binary_predictor'] = 1\n",
    "concat_df.at[concat_df[concat_df['genome_id'] == host_name].index, 'binary_predictor'] = 0\n",
    "print(concat_df.shape)"
   ]
  },
  {
   "cell_type": "code",
   "execution_count": 168,
   "metadata": {},
   "outputs": [
    {
     "name": "stdout",
     "output_type": "stream",
     "text": [
      "                             OLS Regression Results                            \n",
      "===============================================================================\n",
      "Dep. Variable:     secondary_structure   R-squared:                       0.072\n",
      "Model:                             OLS   Adj. R-squared:                  0.072\n",
      "Method:                  Least Squares   F-statistic:                     314.7\n",
      "Date:                 Tue, 10 Mar 2020   Prob (F-statistic):           7.04e-68\n",
      "Time:                         12:32:28   Log-Likelihood:                -10833.\n",
      "No. Observations:                 4060   AIC:                         2.167e+04\n",
      "Df Residuals:                     4058   BIC:                         2.168e+04\n",
      "Df Model:                            1                                         \n",
      "Covariance Type:             nonrobust                                         \n",
      "==============================================================================\n",
      "                 coef    std err          t      P>|t|      [0.025      0.975]\n",
      "------------------------------------------------------------------------------\n",
      "Intercept     -7.7048      0.129    -59.554      0.000      -7.958      -7.451\n",
      "RBS_energy     0.4363      0.025     17.740      0.000       0.388       0.485\n",
      "==============================================================================\n",
      "Omnibus:                      719.577   Durbin-Watson:                   1.922\n",
      "Prob(Omnibus):                  0.000   Jarque-Bera (JB):             1590.235\n",
      "Skew:                          -1.022   Prob(JB):                         0.00\n",
      "Kurtosis:                       5.285   Cond. No.                         12.8\n",
      "==============================================================================\n",
      "\n",
      "Warnings:\n",
      "[1] Standard Errors assume that the covariance matrix of the errors is correctly specified.\n",
      "                             OLS Regression Results                            \n",
      "===============================================================================\n",
      "Dep. Variable:     secondary_structure   R-squared:                       0.009\n",
      "Model:                             OLS   Adj. R-squared:                  0.008\n",
      "Method:                  Least Squares   F-statistic:                     34.86\n",
      "Date:                 Tue, 10 Mar 2020   Prob (F-statistic):           3.83e-09\n",
      "Time:                         12:32:28   Log-Likelihood:                -10825.\n",
      "No. Observations:                 4060   AIC:                         2.165e+04\n",
      "Df Residuals:                     4058   BIC:                         2.167e+04\n",
      "Df Model:                            1                                         \n",
      "Covariance Type:             nonrobust                                         \n",
      "==============================================================================\n",
      "                 coef    std err          t      P>|t|      [0.025      0.975]\n",
      "------------------------------------------------------------------------------\n",
      "Intercept    -10.2323      0.129    -79.245      0.000     -10.485      -9.979\n",
      "RBS_energy     0.1449      0.025      5.904      0.000       0.097       0.193\n",
      "==============================================================================\n",
      "Omnibus:                      139.996   Durbin-Watson:                   2.016\n",
      "Prob(Omnibus):                  0.000   Jarque-Bera (JB):              155.065\n",
      "Skew:                          -0.455   Prob(JB):                     2.13e-34\n",
      "Kurtosis:                       3.298   Cond. No.                         12.8\n",
      "==============================================================================\n",
      "\n",
      "Warnings:\n",
      "[1] Standard Errors assume that the covariance matrix of the errors is correctly specified.\n"
     ]
    }
   ],
   "source": [
    "fitted = smf.ols('secondary_structure ~ RBS_energy',\\\n",
    "                 data=ec_df).fit(disp=0)\n",
    "print(fitted.summary())\n",
    "\n",
    "fitted = smf.ols('secondary_structure ~ RBS_energy',\\\n",
    "                 data=temp_df).fit(disp=0)\n",
    "print(fitted.summary())"
   ]
  },
  {
   "cell_type": "code",
   "execution_count": 169,
   "metadata": {},
   "outputs": [
    {
     "data": {
      "text/plain": [
       "<matplotlib.axes._subplots.AxesSubplot at 0x1165c9050>"
      ]
     },
     "execution_count": 169,
     "metadata": {},
     "output_type": "execute_result"
    },
    {
     "data": {
      "image/png": "[encoded data removed]",
      "text/plain": [
       "<Figure size 432x288 with 1 Axes>"
      ]
     },
     "metadata": {
      "needs_background": "light"
     },
     "output_type": "display_data"
    }
   ],
   "source": [
    "temp_df['RBS_energy'].hist()"
   ]
  },
  {
   "cell_type": "code",
   "execution_count": null,
   "metadata": {},
   "outputs": [],
   "source": []
  },
  {
   "cell_type": "code",
   "execution_count": null,
   "metadata": {},
   "outputs": [],
   "source": [
    "from scipy import stats\n",
    "print(stats.spearmanr(rbs_list, ss_list), '\\n\\n', stats.linregress(rbs_list, ss_list))"
   ]
  },
  {
   "cell_type": "code",
   "execution_count": null,
   "metadata": {},
   "outputs": [],
   "source": [
    "stats.linregress(old['RBS_energy'], old['secondary_structure'])"
   ]
  },
  {
   "cell_type": "code",
   "execution_count": null,
   "metadata": {},
   "outputs": [],
   "source": [
    "print(old['secondary_structure'].mean(), np.mean(ss_list),\\\n",
    "      stats.ttest_ind(old['secondary_structure'], ss_list))\n",
    "print()\n",
    "print(old['RBS_energy'].mean(), np.mean(rbs_list),\\\n",
    "      stats.ttest_ind(old['RBS_energy'], rbs_list))"
   ]
  },
  {
   "cell_type": "code",
   "execution_count": null,
   "metadata": {},
   "outputs": [],
   "source": [
    "(0.3111*-9.51) + -9.91"
   ]
  },
  {
   "cell_type": "code",
   "execution_count": null,
   "metadata": {},
   "outputs": [],
   "source": [
    "(0.436*-9.51) + -7.7"
   ]
  },
  {
   "cell_type": "code",
   "execution_count": null,
   "metadata": {},
   "outputs": [],
   "source": []
  }
 ],
 "metadata": {
  "kernelspec": {
   "display_name": "Python 3",
   "language": "python",
   "name": "python3"
  },
  "language_info": {
   "codemirror_mode": {
    "name": "ipython",
    "version": 3
   },
   "file_extension": ".py",
   "mimetype": "text/x-python",
   "name": "python",
   "nbconvert_exporter": "python",
   "pygments_lexer": "ipython3",
   "version": "3.7.4"
  },
  "toc": {
   "colors": {
    "hover_highlight": "#DAA520",
    "navigate_num": "#000000",
    "navigate_text": "#333333",
    "running_highlight": "#FF0000",
    "selected_highlight": "#FFD700",
    "sidebar_border": "#EEEEEE",
    "wrapper_background": "#FFFFFF"
   },
   "moveMenuLeft": true,
   "nav_menu": {
    "height": "30px",
    "width": "252px"
   },
   "navigate_menu": true,
   "number_sections": true,
   "sideBar": true,
   "threshold": 4,
   "toc_cell": false,
   "toc_section_display": "block",
   "toc_window_display": false,
   "widenNotebook": false
  }
 },
 "nbformat": 4,
 "nbformat_minor": 2
}
