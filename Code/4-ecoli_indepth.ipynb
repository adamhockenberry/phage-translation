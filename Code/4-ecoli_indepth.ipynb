{
 "cells": [
  {
   "cell_type": "code",
   "execution_count": 1,
   "metadata": {},
   "outputs": [],
   "source": [
    "%matplotlib inline"
   ]
  },
  {
   "cell_type": "markdown",
   "metadata": {},
   "source": [
    "# Imports"
   ]
  },
  {
   "cell_type": "code",
   "execution_count": 2,
   "metadata": {},
   "outputs": [],
   "source": [
    "import glob\n",
    "import pandas as pd\n",
    "from scipy import stats\n",
    "import numpy as np\n",
    "from matplotlib import pyplot as plt\n",
    "\n",
    "import statsmodels.formula.api as smf\n",
    "import statsmodels.stats.multitest as multi\n",
    "from scipy.stats.mstats import zscore\n",
    "\n",
    "\n",
    "###The following is used to create some sensible results folders according to the year/month\n",
    "import datetime\n",
    "year = datetime.date.today().year\n",
    "month = datetime.date.today().month\n",
    "import os\n",
    "figs_dir = '../Results/Figures/{}_{:02}'.format(year, month)\n",
    "if not os.path.exists(figs_dir):\n",
    "    os.makedirs(figs_dir)"
   ]
  },
  {
   "cell_type": "markdown",
   "metadata": {},
   "source": [
    "# Custom plotting parameters"
   ]
  },
  {
   "cell_type": "code",
   "execution_count": 3,
   "metadata": {},
   "outputs": [],
   "source": [
    "import matplotlib\n",
    "###Default for jupyter display\n",
    "matplotlib.rcParams['figure.dpi']= 150\n",
    "\n",
    "matplotlib.rcParams['xtick.labelsize'] = 10\n",
    "matplotlib.rcParams['ytick.labelsize'] = 10\n",
    "matplotlib.rcParams['axes.labelsize'] = 10\n",
    "matplotlib.rcParams['axes.titlesize'] = 10\n",
    "\n",
    "matplotlib.rcParams['axes.grid'] = True\n",
    "matplotlib.rcParams['grid.color'] = '0.8'\n",
    "matplotlib.rcParams['grid.linewidth'] = '0.5'\n",
    "\n",
    "matplotlib.rcParams['axes.edgecolor'] = '0.25'\n",
    "matplotlib.rcParams['xtick.color'] = '0'\n",
    "matplotlib.rcParams['ytick.color'] = '0'\n",
    "\n",
    "matplotlib.rcParams['xtick.major.width'] = 1\n",
    "matplotlib.rcParams['ytick.major.width'] = 1\n",
    "matplotlib.rcParams['ytick.major.size'] = 5\n",
    "matplotlib.rcParams['xtick.major.size'] = 5\n",
    "matplotlib.rcParams['axes.spines.right'] = True\n",
    "matplotlib.rcParams['axes.spines.left'] = True\n",
    "matplotlib.rcParams['axes.spines.top'] = True\n",
    "matplotlib.rcParams['axes.spines.bottom'] = True\n",
    "\n",
    "matplotlib.rcParams['font.family'] = 'sans-serif'\n",
    "matplotlib.rcParams['font.sans-serif'] = 'Helvetica'\n",
    "matplotlib.rcParams['font.weight']='normal'\n",
    "matplotlib.rcParams['axes.axisbelow'] = True\n",
    "matplotlib.rcParams['legend.fontsize'] = 10\n",
    "# matplotlib.rcParams['text.usetex'] = True\n",
    "\n",
    "prop_cycle = plt.rcParams['axes.prop_cycle']\n",
    "colors = prop_cycle.by_key()['color']"
   ]
  },
  {
   "cell_type": "markdown",
   "metadata": {},
   "source": [
    "# Load in the combined `.tsv` file and some notebook-wide variables\n"
   ]
  },
  {
   "cell_type": "code",
   "execution_count": 4,
   "metadata": {},
   "outputs": [
    {
     "name": "stdout",
     "output_type": "stream",
     "text": [
      "(1473, 40)\n"
     ]
    },
    {
     "data": {
      "text/html": [
       "<div>\n",
       "<style scoped>\n",
       "    .dataframe tbody tr th:only-of-type {\n",
       "        vertical-align: middle;\n",
       "    }\n",
       "\n",
       "    .dataframe tbody tr th {\n",
       "        vertical-align: top;\n",
       "    }\n",
       "\n",
       "    .dataframe thead th {\n",
       "        text-align: right;\n",
       "    }\n",
       "</style>\n",
       "<table border=\"1\" class=\"dataframe\">\n",
       "  <thead>\n",
       "    <tr style=\"text-align: right;\">\n",
       "      <th></th>\n",
       "      <th>Accession</th>\n",
       "      <th>SRA_Accession</th>\n",
       "      <th>Release_Date</th>\n",
       "      <th>Species</th>\n",
       "      <th>Genus</th>\n",
       "      <th>Family</th>\n",
       "      <th>Length</th>\n",
       "      <th>Sequence_Type</th>\n",
       "      <th>Nuc_Completeness</th>\n",
       "      <th>Genotype</th>\n",
       "      <th>...</th>\n",
       "      <th>Host_order_name</th>\n",
       "      <th>Host_family_id</th>\n",
       "      <th>Host_family_name</th>\n",
       "      <th>Host_genus_id</th>\n",
       "      <th>Host_genus_name</th>\n",
       "      <th>arbitrary_cluster_id</th>\n",
       "      <th>ranking_in_cluster</th>\n",
       "      <th>cluster_representative</th>\n",
       "      <th>CDS_density</th>\n",
       "      <th>CDS_number</th>\n",
       "    </tr>\n",
       "  </thead>\n",
       "  <tbody>\n",
       "    <tr>\n",
       "      <th>0</th>\n",
       "      <td>NC_050154</td>\n",
       "      <td>NaN</td>\n",
       "      <td>2020-08-13T00:00:00Z</td>\n",
       "      <td>Escherichia phage D6</td>\n",
       "      <td>NaN</td>\n",
       "      <td>Myoviridae</td>\n",
       "      <td>91159</td>\n",
       "      <td>RefSeq</td>\n",
       "      <td>complete</td>\n",
       "      <td>NaN</td>\n",
       "      <td>...</td>\n",
       "      <td>Enterobacterales</td>\n",
       "      <td>543.0</td>\n",
       "      <td>Enterobacteriaceae</td>\n",
       "      <td>561.0</td>\n",
       "      <td>Escherichia</td>\n",
       "      <td>35</td>\n",
       "      <td>1</td>\n",
       "      <td>1.0</td>\n",
       "      <td>0.897366</td>\n",
       "      <td>118.0</td>\n",
       "    </tr>\n",
       "    <tr>\n",
       "      <th>10</th>\n",
       "      <td>NC_049941</td>\n",
       "      <td>NaN</td>\n",
       "      <td>2020-07-29T00:00:00Z</td>\n",
       "      <td>Stx2-converting phage Stx2a_WGPS2</td>\n",
       "      <td>NaN</td>\n",
       "      <td>Siphoviridae</td>\n",
       "      <td>58326</td>\n",
       "      <td>RefSeq</td>\n",
       "      <td>complete</td>\n",
       "      <td>NaN</td>\n",
       "      <td>...</td>\n",
       "      <td>Enterobacterales</td>\n",
       "      <td>543.0</td>\n",
       "      <td>Enterobacteriaceae</td>\n",
       "      <td>561.0</td>\n",
       "      <td>Escherichia</td>\n",
       "      <td>74</td>\n",
       "      <td>1</td>\n",
       "      <td>1.0</td>\n",
       "      <td>0.842300</td>\n",
       "      <td>66.0</td>\n",
       "    </tr>\n",
       "    <tr>\n",
       "      <th>11</th>\n",
       "      <td>NC_049942</td>\n",
       "      <td>NaN</td>\n",
       "      <td>2020-07-29T00:00:00Z</td>\n",
       "      <td>Escherichia phage JLK-2012</td>\n",
       "      <td>NaN</td>\n",
       "      <td>Siphoviridae</td>\n",
       "      <td>57198</td>\n",
       "      <td>RefSeq</td>\n",
       "      <td>complete</td>\n",
       "      <td>NaN</td>\n",
       "      <td>...</td>\n",
       "      <td>Enterobacterales</td>\n",
       "      <td>543.0</td>\n",
       "      <td>Enterobacteriaceae</td>\n",
       "      <td>561.0</td>\n",
       "      <td>Escherichia</td>\n",
       "      <td>77</td>\n",
       "      <td>1</td>\n",
       "      <td>1.0</td>\n",
       "      <td>0.860572</td>\n",
       "      <td>79.0</td>\n",
       "    </tr>\n",
       "    <tr>\n",
       "      <th>12</th>\n",
       "      <td>NC_049943</td>\n",
       "      <td>NaN</td>\n",
       "      <td>2020-07-29T00:00:00Z</td>\n",
       "      <td>Enterobacteria phage 2851</td>\n",
       "      <td>NaN</td>\n",
       "      <td>Siphoviridae</td>\n",
       "      <td>57248</td>\n",
       "      <td>RefSeq</td>\n",
       "      <td>complete</td>\n",
       "      <td>NaN</td>\n",
       "      <td>...</td>\n",
       "      <td>Enterobacterales</td>\n",
       "      <td>543.0</td>\n",
       "      <td>Enterobacteriaceae</td>\n",
       "      <td>561.0</td>\n",
       "      <td>Escherichia</td>\n",
       "      <td>67</td>\n",
       "      <td>3</td>\n",
       "      <td>NaN</td>\n",
       "      <td>NaN</td>\n",
       "      <td>NaN</td>\n",
       "    </tr>\n",
       "    <tr>\n",
       "      <th>13</th>\n",
       "      <td>NC_049944</td>\n",
       "      <td>NaN</td>\n",
       "      <td>2020-07-29T00:00:00Z</td>\n",
       "      <td>Stx2-converting phage Stx2a_WGPS8</td>\n",
       "      <td>NaN</td>\n",
       "      <td>Siphoviridae</td>\n",
       "      <td>55023</td>\n",
       "      <td>RefSeq</td>\n",
       "      <td>complete</td>\n",
       "      <td>NaN</td>\n",
       "      <td>...</td>\n",
       "      <td>Enterobacterales</td>\n",
       "      <td>543.0</td>\n",
       "      <td>Enterobacteriaceae</td>\n",
       "      <td>561.0</td>\n",
       "      <td>Escherichia</td>\n",
       "      <td>67</td>\n",
       "      <td>4</td>\n",
       "      <td>NaN</td>\n",
       "      <td>NaN</td>\n",
       "      <td>NaN</td>\n",
       "    </tr>\n",
       "  </tbody>\n",
       "</table>\n",
       "<p>5 rows × 40 columns</p>\n",
       "</div>"
      ],
      "text/plain": [
       "    Accession SRA_Accession          Release_Date  \\\n",
       "0   NC_050154           NaN  2020-08-13T00:00:00Z   \n",
       "10  NC_049941           NaN  2020-07-29T00:00:00Z   \n",
       "11  NC_049942           NaN  2020-07-29T00:00:00Z   \n",
       "12  NC_049943           NaN  2020-07-29T00:00:00Z   \n",
       "13  NC_049944           NaN  2020-07-29T00:00:00Z   \n",
       "\n",
       "                              Species Genus        Family  Length  \\\n",
       "0                Escherichia phage D6   NaN    Myoviridae   91159   \n",
       "10  Stx2-converting phage Stx2a_WGPS2   NaN  Siphoviridae   58326   \n",
       "11         Escherichia phage JLK-2012   NaN  Siphoviridae   57198   \n",
       "12          Enterobacteria phage 2851   NaN  Siphoviridae   57248   \n",
       "13  Stx2-converting phage Stx2a_WGPS8   NaN  Siphoviridae   55023   \n",
       "\n",
       "   Sequence_Type Nuc_Completeness Genotype  ...   Host_order_name  \\\n",
       "0         RefSeq         complete      NaN  ...  Enterobacterales   \n",
       "10        RefSeq         complete      NaN  ...  Enterobacterales   \n",
       "11        RefSeq         complete      NaN  ...  Enterobacterales   \n",
       "12        RefSeq         complete      NaN  ...  Enterobacterales   \n",
       "13        RefSeq         complete      NaN  ...  Enterobacterales   \n",
       "\n",
       "   Host_family_id    Host_family_name Host_genus_id Host_genus_name  \\\n",
       "0           543.0  Enterobacteriaceae         561.0     Escherichia   \n",
       "10          543.0  Enterobacteriaceae         561.0     Escherichia   \n",
       "11          543.0  Enterobacteriaceae         561.0     Escherichia   \n",
       "12          543.0  Enterobacteriaceae         561.0     Escherichia   \n",
       "13          543.0  Enterobacteriaceae         561.0     Escherichia   \n",
       "\n",
       "   arbitrary_cluster_id ranking_in_cluster cluster_representative CDS_density  \\\n",
       "0                    35                  1                    1.0    0.897366   \n",
       "10                   74                  1                    1.0    0.842300   \n",
       "11                   77                  1                    1.0    0.860572   \n",
       "12                   67                  3                    NaN         NaN   \n",
       "13                   67                  4                    NaN         NaN   \n",
       "\n",
       "   CDS_number  \n",
       "0       118.0  \n",
       "10       66.0  \n",
       "11       79.0  \n",
       "12        NaN  \n",
       "13        NaN  \n",
       "\n",
       "[5 rows x 40 columns]"
      ]
     },
     "execution_count": 4,
     "metadata": {},
     "output_type": "execute_result"
    }
   ],
   "source": [
    "full_df = pd.read_csv('../Data/NCBI_phage_db/paper_dataset_11_2020_with_clusters.tsv', sep='\\t')\n",
    "phages_df = full_df[full_df['Host_species_id']==562]\n",
    "print(phages_df.shape)\n",
    "phages_df.head()"
   ]
  },
  {
   "cell_type": "code",
   "execution_count": 5,
   "metadata": {},
   "outputs": [
    {
     "name": "stdout",
     "output_type": "stream",
     "text": [
      "(4018, 21)\n"
     ]
    },
    {
     "data": {
      "text/html": [
       "<div>\n",
       "<style scoped>\n",
       "    .dataframe tbody tr th:only-of-type {\n",
       "        vertical-align: middle;\n",
       "    }\n",
       "\n",
       "    .dataframe tbody tr th {\n",
       "        vertical-align: top;\n",
       "    }\n",
       "\n",
       "    .dataframe thead th {\n",
       "        text-align: right;\n",
       "    }\n",
       "</style>\n",
       "<table border=\"1\" class=\"dataframe\">\n",
       "  <thead>\n",
       "    <tr style=\"text-align: right;\">\n",
       "      <th></th>\n",
       "      <th>Genome_source</th>\n",
       "      <th>Start</th>\n",
       "      <th>Stop</th>\n",
       "      <th>Strand</th>\n",
       "      <th>CDS_seq</th>\n",
       "      <th>Upstream_seq</th>\n",
       "      <th>locus_tag</th>\n",
       "      <th>gene_id</th>\n",
       "      <th>aSD_binding</th>\n",
       "      <th>sec_struct</th>\n",
       "      <th>...</th>\n",
       "      <th>iCUB</th>\n",
       "      <th>GC_cds</th>\n",
       "      <th>GC_upstream</th>\n",
       "      <th>Start_accessibility</th>\n",
       "      <th>prot_abundance</th>\n",
       "      <th>trans_eff_2014</th>\n",
       "      <th>trans_eff_2019</th>\n",
       "      <th>essentiality_ds1</th>\n",
       "      <th>essentiality_ds2</th>\n",
       "      <th>essentiality</th>\n",
       "    </tr>\n",
       "  </thead>\n",
       "  <tbody>\n",
       "    <tr>\n",
       "      <th>0</th>\n",
       "      <td>NC_000913.3</td>\n",
       "      <td>336</td>\n",
       "      <td>2799</td>\n",
       "      <td>+</td>\n",
       "      <td>ATGCGAGTGTTGAAGTTCGGCGGTACATCAGTGGCAAATGCAGAAC...</td>\n",
       "      <td>TTTTCGACCAAAGGTAACGAGGTAACAACC</td>\n",
       "      <td>b0002</td>\n",
       "      <td>thrA</td>\n",
       "      <td>-5.42</td>\n",
       "      <td>-21.31</td>\n",
       "      <td>...</td>\n",
       "      <td>55.949262</td>\n",
       "      <td>0.530654</td>\n",
       "      <td>0.433333</td>\n",
       "      <td>-8.50</td>\n",
       "      <td>317.0</td>\n",
       "      <td>0.98</td>\n",
       "      <td>NaN</td>\n",
       "      <td>Non-essential</td>\n",
       "      <td>Non-essential</td>\n",
       "      <td>Non-essential</td>\n",
       "    </tr>\n",
       "    <tr>\n",
       "      <th>1</th>\n",
       "      <td>NC_000913.3</td>\n",
       "      <td>2800</td>\n",
       "      <td>3733</td>\n",
       "      <td>+</td>\n",
       "      <td>ATGGTTAAAGTTTATGCCCCGGCTTCCAGTGCCAATATGAGCGTCG...</td>\n",
       "      <td>GTACCCTCTCATGGAAGTTAGGAGTCTGAC</td>\n",
       "      <td>b0003</td>\n",
       "      <td>thrB</td>\n",
       "      <td>-6.51</td>\n",
       "      <td>-21.87</td>\n",
       "      <td>...</td>\n",
       "      <td>56.062386</td>\n",
       "      <td>0.562701</td>\n",
       "      <td>0.500000</td>\n",
       "      <td>-7.82</td>\n",
       "      <td>76.3</td>\n",
       "      <td>0.63</td>\n",
       "      <td>NaN</td>\n",
       "      <td>Non-essential</td>\n",
       "      <td>Non-essential</td>\n",
       "      <td>Non-essential</td>\n",
       "    </tr>\n",
       "    <tr>\n",
       "      <th>2</th>\n",
       "      <td>NC_000913.3</td>\n",
       "      <td>3733</td>\n",
       "      <td>5020</td>\n",
       "      <td>+</td>\n",
       "      <td>ATGAAACTCTACAATCTGAAAGATCACAACGAGCAGGTCAGCTTTG...</td>\n",
       "      <td>ACGGCGGGCGCACGAGTACTGGAAAACTAA</td>\n",
       "      <td>b0004</td>\n",
       "      <td>thrC</td>\n",
       "      <td>-3.40</td>\n",
       "      <td>-24.44</td>\n",
       "      <td>...</td>\n",
       "      <td>53.052776</td>\n",
       "      <td>0.528361</td>\n",
       "      <td>0.566667</td>\n",
       "      <td>-3.73</td>\n",
       "      <td>530.0</td>\n",
       "      <td>1.40</td>\n",
       "      <td>NaN</td>\n",
       "      <td>Non-essential</td>\n",
       "      <td>Non-essential</td>\n",
       "      <td>Non-essential</td>\n",
       "    </tr>\n",
       "    <tr>\n",
       "      <th>3</th>\n",
       "      <td>NC_000913.3</td>\n",
       "      <td>5233</td>\n",
       "      <td>5530</td>\n",
       "      <td>+</td>\n",
       "      <td>GTGAAAAAGATGCAATCTATCGTACTCGCACTTTCCCTGGTTCTGG...</td>\n",
       "      <td>CATAACGGGCAATGATAAAAGGAGTAACCT</td>\n",
       "      <td>b0005</td>\n",
       "      <td>yaaX</td>\n",
       "      <td>-6.51</td>\n",
       "      <td>-17.15</td>\n",
       "      <td>...</td>\n",
       "      <td>50.705530</td>\n",
       "      <td>0.538721</td>\n",
       "      <td>0.400000</td>\n",
       "      <td>-9.77</td>\n",
       "      <td>NaN</td>\n",
       "      <td>0.28</td>\n",
       "      <td>NaN</td>\n",
       "      <td>Non-essential</td>\n",
       "      <td>Non-essential</td>\n",
       "      <td>Non-essential</td>\n",
       "    </tr>\n",
       "    <tr>\n",
       "      <th>4</th>\n",
       "      <td>NC_000913.3</td>\n",
       "      <td>5682</td>\n",
       "      <td>6459</td>\n",
       "      <td>-</td>\n",
       "      <td>ATGCTGATTCTTATTTCACCTGCGAAAACGCTTGATTACCAAAGCC...</td>\n",
       "      <td>GTCGGCATAAATTTCCTGCAAGGACTGGAT</td>\n",
       "      <td>b0006</td>\n",
       "      <td>yaaA</td>\n",
       "      <td>-4.00</td>\n",
       "      <td>-18.60</td>\n",
       "      <td>...</td>\n",
       "      <td>53.158862</td>\n",
       "      <td>0.496782</td>\n",
       "      <td>0.466667</td>\n",
       "      <td>-10.08</td>\n",
       "      <td>47.9</td>\n",
       "      <td>2.07</td>\n",
       "      <td>0.410931</td>\n",
       "      <td>Non-essential</td>\n",
       "      <td>Non-essential</td>\n",
       "      <td>Non-essential</td>\n",
       "    </tr>\n",
       "  </tbody>\n",
       "</table>\n",
       "<p>5 rows × 21 columns</p>\n",
       "</div>"
      ],
      "text/plain": [
       "  Genome_source  Start  Stop Strand  \\\n",
       "0   NC_000913.3    336  2799      +   \n",
       "1   NC_000913.3   2800  3733      +   \n",
       "2   NC_000913.3   3733  5020      +   \n",
       "3   NC_000913.3   5233  5530      +   \n",
       "4   NC_000913.3   5682  6459      -   \n",
       "\n",
       "                                             CDS_seq  \\\n",
       "0  ATGCGAGTGTTGAAGTTCGGCGGTACATCAGTGGCAAATGCAGAAC...   \n",
       "1  ATGGTTAAAGTTTATGCCCCGGCTTCCAGTGCCAATATGAGCGTCG...   \n",
       "2  ATGAAACTCTACAATCTGAAAGATCACAACGAGCAGGTCAGCTTTG...   \n",
       "3  GTGAAAAAGATGCAATCTATCGTACTCGCACTTTCCCTGGTTCTGG...   \n",
       "4  ATGCTGATTCTTATTTCACCTGCGAAAACGCTTGATTACCAAAGCC...   \n",
       "\n",
       "                     Upstream_seq locus_tag gene_id  aSD_binding  sec_struct  \\\n",
       "0  TTTTCGACCAAAGGTAACGAGGTAACAACC     b0002    thrA        -5.42      -21.31   \n",
       "1  GTACCCTCTCATGGAAGTTAGGAGTCTGAC     b0003    thrB        -6.51      -21.87   \n",
       "2  ACGGCGGGCGCACGAGTACTGGAAAACTAA     b0004    thrC        -3.40      -24.44   \n",
       "3  CATAACGGGCAATGATAAAAGGAGTAACCT     b0005    yaaX        -6.51      -17.15   \n",
       "4  GTCGGCATAAATTTCCTGCAAGGACTGGAT     b0006    yaaA        -4.00      -18.60   \n",
       "\n",
       "   ...       iCUB    GC_cds  GC_upstream  Start_accessibility  prot_abundance  \\\n",
       "0  ...  55.949262  0.530654     0.433333                -8.50           317.0   \n",
       "1  ...  56.062386  0.562701     0.500000                -7.82            76.3   \n",
       "2  ...  53.052776  0.528361     0.566667                -3.73           530.0   \n",
       "3  ...  50.705530  0.538721     0.400000                -9.77             NaN   \n",
       "4  ...  53.158862  0.496782     0.466667               -10.08            47.9   \n",
       "\n",
       "   trans_eff_2014  trans_eff_2019  essentiality_ds1 essentiality_ds2  \\\n",
       "0            0.98             NaN     Non-essential    Non-essential   \n",
       "1            0.63             NaN     Non-essential    Non-essential   \n",
       "2            1.40             NaN     Non-essential    Non-essential   \n",
       "3            0.28             NaN     Non-essential    Non-essential   \n",
       "4            2.07        0.410931     Non-essential    Non-essential   \n",
       "\n",
       "    essentiality  \n",
       "0  Non-essential  \n",
       "1  Non-essential  \n",
       "2  Non-essential  \n",
       "3  Non-essential  \n",
       "4  Non-essential  \n",
       "\n",
       "[5 rows x 21 columns]"
      ]
     },
     "execution_count": 5,
     "metadata": {},
     "output_type": "execute_result"
    }
   ],
   "source": [
    "host_df = pd.read_csv('../Data/562_associated_data/ecoli.combined.tsv', sep='\\t', index_col=0)\n",
    "print(host_df.shape)\n",
    "host_df.head()"
   ]
  },
  {
   "cell_type": "code",
   "execution_count": 6,
   "metadata": {},
   "outputs": [],
   "source": [
    "###For prettier plotting\n",
    "col_to_label_dict = {'aSD_binding': 'aSD binding energy (kcal/mol)',\n",
    "                    'Start_accessibility': 'Start accessibility (kcal/mol)',\n",
    "                    'prot_abundance': 'Protein abundance',\n",
    "                    'iCUB': 'iCUB',\n",
    "                    'GC_upstream': 'Upstream GC content',\n",
    "                    'GC_cds': 'Coding sequence GC content',\n",
    "                    'sec_struct': 'Start codon secondary\\nstructure (kcal/mol)',\n",
    "                    'sec_struct_bound': 'Ribosome bound\\nstart codon secondary\\nstructure (kcal/mol)',\n",
    "                    'trans_eff_2014': 'Translational efficiency',\\\n",
    "                    'trans_eff_2019': 'Translational efficiency'}\n",
    "\n",
    "mean_col_to_label_dict = {}\n",
    "for key, val in col_to_label_dict.items():\n",
    "    if val[0]==val[0].upper():\n",
    "        mean_col_to_label_dict[key] = 'Mean ' + val[0].lower() + val[1:]\n",
    "    else:\n",
    "        mean_col_to_label_dict[key] = 'Mean ' + val"
   ]
  },
  {
   "cell_type": "markdown",
   "metadata": {},
   "source": [
    "\n",
    "## Example comparison between host and phage\n",
    "\n",
    "Note that phage T7 is `NC_001604`"
   ]
  },
  {
   "cell_type": "code",
   "execution_count": 124,
   "metadata": {},
   "outputs": [
    {
     "name": "stdout",
     "output_type": "stream",
     "text": [
      "(57, 13)\n"
     ]
    },
    {
     "data": {
      "text/html": [
       "<div>\n",
       "<style scoped>\n",
       "    .dataframe tbody tr th:only-of-type {\n",
       "        vertical-align: middle;\n",
       "    }\n",
       "\n",
       "    .dataframe tbody tr th {\n",
       "        vertical-align: top;\n",
       "    }\n",
       "\n",
       "    .dataframe thead th {\n",
       "        text-align: right;\n",
       "    }\n",
       "</style>\n",
       "<table border=\"1\" class=\"dataframe\">\n",
       "  <thead>\n",
       "    <tr style=\"text-align: right;\">\n",
       "      <th></th>\n",
       "      <th>Genome_source</th>\n",
       "      <th>Start</th>\n",
       "      <th>Stop</th>\n",
       "      <th>Strand</th>\n",
       "      <th>CDS_seq</th>\n",
       "      <th>Upstream_seq</th>\n",
       "      <th>aSD_binding</th>\n",
       "      <th>sec_struct</th>\n",
       "      <th>sec_struct_bound</th>\n",
       "      <th>iCUB</th>\n",
       "      <th>GC_cds</th>\n",
       "      <th>GC_upstream</th>\n",
       "      <th>Start_accessibility</th>\n",
       "    </tr>\n",
       "  </thead>\n",
       "  <tbody>\n",
       "    <tr>\n",
       "      <th>0</th>\n",
       "      <td>NC_001604</td>\n",
       "      <td>925</td>\n",
       "      <td>1278</td>\n",
       "      <td>+</td>\n",
       "      <td>ATGGCTATGTCTAACATGACTTACAACAACGTTTTCGACCACGCTT...</td>\n",
       "      <td>TTCACTAATAACTGCACGAGGTAACACAAG</td>\n",
       "      <td>-5.42</td>\n",
       "      <td>-10.13</td>\n",
       "      <td>-3.81</td>\n",
       "      <td>50.525906</td>\n",
       "      <td>0.468927</td>\n",
       "      <td>0.400000</td>\n",
       "      <td>-6.32</td>\n",
       "    </tr>\n",
       "    <tr>\n",
       "      <th>1</th>\n",
       "      <td>NC_001604</td>\n",
       "      <td>1278</td>\n",
       "      <td>1433</td>\n",
       "      <td>+</td>\n",
       "      <td>ATGTCTACTACCAACGTGCAATACGGTCTGACCGCTCAAACTGTAC...</td>\n",
       "      <td>AGTCGAGGAGTACGAGGAGGATGAAGAGTA</td>\n",
       "      <td>-9.31</td>\n",
       "      <td>-19.01</td>\n",
       "      <td>-12.96</td>\n",
       "      <td>43.066882</td>\n",
       "      <td>0.455128</td>\n",
       "      <td>0.500000</td>\n",
       "      <td>-6.05</td>\n",
       "    </tr>\n",
       "    <tr>\n",
       "      <th>2</th>\n",
       "      <td>NC_001604</td>\n",
       "      <td>1496</td>\n",
       "      <td>1639</td>\n",
       "      <td>+</td>\n",
       "      <td>ATGTATATGCTTACTATCGGTCTACTCACCGCTCTAGGTCTAGCTG...</td>\n",
       "      <td>TATGATTATCACTTTACTTATGAGGGAGTA</td>\n",
       "      <td>-5.82</td>\n",
       "      <td>-19.87</td>\n",
       "      <td>-8.50</td>\n",
       "      <td>39.155014</td>\n",
       "      <td>0.458333</td>\n",
       "      <td>0.300000</td>\n",
       "      <td>-11.37</td>\n",
       "    </tr>\n",
       "    <tr>\n",
       "      <th>3</th>\n",
       "      <td>NC_001604</td>\n",
       "      <td>1636</td>\n",
       "      <td>1797</td>\n",
       "      <td>+</td>\n",
       "      <td>ATGATGAAGCACTACGTTATGCCAATCCACACGTCCAACGGGGCAA...</td>\n",
       "      <td>CATAGGAATCATCAAAGGGGCACTACGCAA</td>\n",
       "      <td>-5.53</td>\n",
       "      <td>-17.68</td>\n",
       "      <td>-7.52</td>\n",
       "      <td>42.406008</td>\n",
       "      <td>0.481481</td>\n",
       "      <td>0.466667</td>\n",
       "      <td>-10.16</td>\n",
       "    </tr>\n",
       "    <tr>\n",
       "      <th>4</th>\n",
       "      <td>NC_001604</td>\n",
       "      <td>2021</td>\n",
       "      <td>3100</td>\n",
       "      <td>+</td>\n",
       "      <td>ATGAACATTACCGACATCATGAACGCTATCGACGCAATCAAAGCAC...</td>\n",
       "      <td>TCTCATAACGAACATAAAGGACACAATGCA</td>\n",
       "      <td>-4.00</td>\n",
       "      <td>-7.46</td>\n",
       "      <td>-3.80</td>\n",
       "      <td>55.711182</td>\n",
       "      <td>0.493519</td>\n",
       "      <td>0.366667</td>\n",
       "      <td>-3.66</td>\n",
       "    </tr>\n",
       "  </tbody>\n",
       "</table>\n",
       "</div>"
      ],
      "text/plain": [
       "  Genome_source  Start  Stop Strand  \\\n",
       "0     NC_001604    925  1278      +   \n",
       "1     NC_001604   1278  1433      +   \n",
       "2     NC_001604   1496  1639      +   \n",
       "3     NC_001604   1636  1797      +   \n",
       "4     NC_001604   2021  3100      +   \n",
       "\n",
       "                                             CDS_seq  \\\n",
       "0  ATGGCTATGTCTAACATGACTTACAACAACGTTTTCGACCACGCTT...   \n",
       "1  ATGTCTACTACCAACGTGCAATACGGTCTGACCGCTCAAACTGTAC...   \n",
       "2  ATGTATATGCTTACTATCGGTCTACTCACCGCTCTAGGTCTAGCTG...   \n",
       "3  ATGATGAAGCACTACGTTATGCCAATCCACACGTCCAACGGGGCAA...   \n",
       "4  ATGAACATTACCGACATCATGAACGCTATCGACGCAATCAAAGCAC...   \n",
       "\n",
       "                     Upstream_seq  aSD_binding  sec_struct  sec_struct_bound  \\\n",
       "0  TTCACTAATAACTGCACGAGGTAACACAAG        -5.42      -10.13             -3.81   \n",
       "1  AGTCGAGGAGTACGAGGAGGATGAAGAGTA        -9.31      -19.01            -12.96   \n",
       "2  TATGATTATCACTTTACTTATGAGGGAGTA        -5.82      -19.87             -8.50   \n",
       "3  CATAGGAATCATCAAAGGGGCACTACGCAA        -5.53      -17.68             -7.52   \n",
       "4  TCTCATAACGAACATAAAGGACACAATGCA        -4.00       -7.46             -3.80   \n",
       "\n",
       "        iCUB    GC_cds  GC_upstream  Start_accessibility  \n",
       "0  50.525906  0.468927     0.400000                -6.32  \n",
       "1  43.066882  0.455128     0.500000                -6.05  \n",
       "2  39.155014  0.458333     0.300000               -11.37  \n",
       "3  42.406008  0.481481     0.466667               -10.16  \n",
       "4  55.711182  0.493519     0.366667                -3.66  "
      ]
     },
     "execution_count": 124,
     "metadata": {},
     "output_type": "execute_result"
    }
   ],
   "source": [
    "ind_phage_df = pd.read_csv('../Data/NCBI_phage_db/phage_genomes/562_phage_genomes/NC_001604.clean.tsv',\\\n",
    "                       sep='\\t')\n",
    "assert len(set(ind_phage_df['Genome_source'])) == 1\n",
    "phage_name = ind_phage_df.iloc[0]['Genome_source']\n",
    "print(ind_phage_df.shape)\n",
    "ind_phage_df.head()"
   ]
  },
  {
   "cell_type": "markdown",
   "metadata": {},
   "source": [
    "**Get statistics and perform basic visualization**\n",
    "\n",
    "Looking at three different assessments of \"significance\", ranksums test, independent t-test, and a logistic regression framework."
   ]
  },
  {
   "cell_type": "code",
   "execution_count": 127,
   "metadata": {},
   "outputs": [
    {
     "name": "stdout",
     "output_type": "stream",
     "text": [
      "Rank sums test:\n",
      "RanksumsResult(statistic=3.4239207458303933, pvalue=0.0006172461941712087)\n",
      "Welchs T-test:\n",
      "Ttest_indResult(statistic=3.369923749654847, pvalue=0.0013566013459806515)\n",
      "\n",
      "Logistic regression\n",
      "                           Logit Regression Results                           \n",
      "==============================================================================\n",
      "Dep. Variable:       binary_predictor   No. Observations:                 4075\n",
      "Model:                          Logit   Df Residuals:                     4073\n",
      "Method:                           MLE   Df Model:                            1\n",
      "Date:                Tue, 17 Nov 2020   Pseudo R-squ.:                 0.02848\n",
      "Time:                        16:27:51   Log-Likelihood:                -291.42\n",
      "converged:                       True   LL-Null:                       -299.97\n",
      "Covariance Type:            nonrobust   LLR p-value:                 3.573e-05\n",
      "==============================================================================\n",
      "                 coef    std err          z      P>|z|      [0.025      0.975]\n",
      "------------------------------------------------------------------------------\n",
      "Intercept      1.8080      1.315      1.375      0.169      -0.769       4.385\n",
      "iCUB          -0.1181      0.026     -4.526      0.000      -0.169      -0.067\n",
      "==============================================================================\n",
      "Intercept    0.169116\n",
      "iCUB         0.000006\n",
      "dtype: float64\n",
      "\n",
      "Means (host, virus):\n",
      "52.39521670162789 50.05665034301101\n"
     ]
    }
   ],
   "source": [
    "# col_name = 'aSD_binding'\n",
    "# col_name = 'sec_struct'\n",
    "# col_name = 'Start_accessibility'\n",
    "# col_name = 'GC_cds'\n",
    "col_name = 'iCUB'\n",
    "\n",
    "\n",
    "temp_df = host_df\n",
    "\n",
    "print('Rank sums test:')\n",
    "print(stats.ranksums(temp_df[col_name], ind_phage_df[col_name]))\n",
    "print('Welchs T-test:')\n",
    "print(stats.ttest_ind(temp_df[col_name], ind_phage_df[col_name], equal_var=False))\n",
    "print()\n",
    "host_name = temp_df['Genome_source'].value_counts().keys()[0]\n",
    "concat_df = pd.concat((temp_df, ind_phage_df), ignore_index=True, sort=False)\n",
    "concat_df['binary_predictor'] = 0\n",
    "concat_df.at[concat_df[concat_df['Genome_source'] == phage_name].index, 'binary_predictor'] = 1 \n",
    "# fitted = smf.ols('binary_predictor ~ {}'.format(col_name), data=concat_df).fit(disp=0)\n",
    "fitted = smf.logit('binary_predictor ~ {}'.format(col_name), data=concat_df).fit(disp=0)\n",
    "print('Logistic regression')\n",
    "print(fitted.summary())\n",
    "print(fitted.pvalues)\n",
    "print()\n",
    "print('Means (host, virus):')\n",
    "print(temp_df[col_name].mean(), ind_phage_df[col_name].mean())"
   ]
  },
  {
   "cell_type": "code",
   "execution_count": 128,
   "metadata": {},
   "outputs": [
    {
     "data": {
      "image/png": "[encoded data removed]",
      "text/plain": [
       "<Figure size 420x300 with 1 Axes>"
      ]
     },
     "metadata": {
      "needs_background": "light"
     },
     "output_type": "display_data"
    }
   ],
   "source": [
    "a, b = np.histogram(np.concatenate((temp_df[col_name].values, ind_phage_df[col_name].values)), 20)\n",
    "fig, ax = plt.subplots(figsize=(2.8,2))\n",
    "ax.hist(temp_df[col_name], bins=b, label='$E.\\, coli$', density=True, alpha=0.7)\n",
    "ax.hist(ind_phage_df[col_name], bins=b, label='Phage T7', density=True, alpha=0.7)\n",
    "ax.axvline(temp_df[col_name].mean(), color=colors[0], linestyle='-.')\n",
    "ax.axvline(ind_phage_df[col_name].mean(), color=colors[1], linestyle='-.')\n",
    "ax.set_xlabel(col_to_label_dict[col_name])\n",
    "ax.set_ylabel('Probability density')\n",
    "plt.legend(title='CDS genes', framealpha=1.0, handlelength=1, handleheight=1)\n",
    "plt.savefig(figs_dir + '/Ecoli_T7_{}.png'.format(col_name), dpi=300, bbox_inches='tight')"
   ]
  },
  {
   "cell_type": "code",
   "execution_count": null,
   "metadata": {},
   "outputs": [],
   "source": []
  },
  {
   "cell_type": "markdown",
   "metadata": {},
   "source": [
    "# Extended analysis to many *E. coli* viruses\n",
    "\n",
    "Compare each virus separately to all *E. coli* genes"
   ]
  },
  {
   "cell_type": "code",
   "execution_count": 156,
   "metadata": {},
   "outputs": [
    {
     "name": "stdout",
     "output_type": "stream",
     "text": [
      "N significant no FDR (total=254): 17 102\n",
      "N significant w/ FDR(total=254): 13 99\n",
      "N on either side regardless of significance(total=254): 102 152\n",
      "Host value: -19.47593578894972, and mean of viruses: -18.489634524777806\n"
     ]
    }
   ],
   "source": [
    "# col_name = 'aSD_binding'\n",
    "col_name = 'sec_struct'\n",
    "# col_name = 'Start_accessibility'\n",
    "# col_name = 'GC_cds'\n",
    "# col_name = 'iCUB'\n",
    "\n",
    "temp_df = host_df\n",
    "host_mean = temp_df[col_name].mean()\n",
    "\n",
    "mean_virus = []\n",
    "p_vals = []\n",
    "for index in phages_df[phages_df['cluster_representative']==1].index:\n",
    "    phage_name = phages_df.loc[index]['Accession']\n",
    "    phage_tsv = '../Data/NCBI_phage_db/phage_genomes/562_phage_genomes/{}.clean.tsv'.format(phage_name)\n",
    "    ind_phage_df = pd.read_csv(phage_tsv, sep='\\t')\n",
    "    mean_virus.append(ind_phage_df[col_name].mean())\n",
    "    t, p = stats.ttest_ind(temp_df[col_name], ind_phage_df[col_name], equal_var=False)\n",
    "    p_vals.append(p)\n",
    "    \n",
    "###Correct the p-value distribution post-hoc\n",
    "truth_array, correct_p_vals = multi.fdrcorrection(p_vals, alpha=0.01)\n",
    "#\n",
    "#\n",
    "#\n",
    "zippy = list(zip(p_vals, mean_virus))\n",
    "lside = len([1 for i,j in zippy if i < 0.01 and j < host_mean])\n",
    "rside = len([1 for i,j in zippy if i < 0.01 and j >= host_mean])\n",
    "print('N significant no FDR (total={}):'.format(len(p_vals)), lside, rside)\n",
    "#\n",
    "zippy = list(zip(correct_p_vals, mean_virus))\n",
    "lside = len([1 for i,j in zippy if i < 0.01 and j < host_mean])\n",
    "rside = len([1 for i,j in zippy if i < 0.01 and j >= host_mean])\n",
    "print('N significant w/ FDR(total={}):'.format(len(p_vals)), lside, rside)\n",
    "#\n",
    "zippy = list(zip(correct_p_vals, mean_virus))\n",
    "lside = len([1 for i,j in zippy if j < host_mean])\n",
    "rside = len([1 for i,j in zippy if j >= host_mean])\n",
    "print('N on either side regardless of significance(total={}):'.format(len(p_vals)), lside, rside)\n",
    "print('Host value: {}, and mean of viruses: {}'.format(host_mean, np.mean(mean_virus)))"
   ]
  },
  {
   "cell_type": "code",
   "execution_count": 154,
   "metadata": {},
   "outputs": [
    {
     "data": {
      "image/png": "[encoded data removed]",
      "text/plain": [
       "<Figure size 420x300 with 1 Axes>"
      ]
     },
     "metadata": {
      "needs_background": "light"
     },
     "output_type": "display_data"
    }
   ],
   "source": [
    "fig, ax = plt.subplots(figsize=(2.8, 2))\n",
    "ax.hist(mean_virus, 20, color=colors[1], label='Phages', alpha=0.7)\n",
    "ax.axvline(temp_df[col_name].mean(), color=colors[0], linestyle='-.', label='$E.\\, coli$')\n",
    "ax.set_ylabel('Counts')\n",
    "ax.set_xlabel(mean_col_to_label_dict[col_name])\n",
    "plt.legend(title='Genomes', framealpha=1.0, handlelength=1, handleheight=1, handletextpad=0.3, labelspacing=0.3)\n",
    "if col_name == 'aSD_binding':\n",
    "    ax.set_xlim(-8.01, -2.)\n",
    "elif col_name == 'sec_struct':\n",
    "    ax.set_xlim(-27.01, -13)\n",
    "elif col_name == 'iCUB':\n",
    "    ax.set_xlim(45, 60)\n",
    "plt.savefig(figs_dir + '/Ecoli_allphage_{}.png'.format(col_name), dpi=300, bbox_inches='tight')"
   ]
  },
  {
   "cell_type": "markdown",
   "metadata": {},
   "source": [
    "**Comparing against different categories of *E. coli* genes**"
   ]
  },
  {
   "cell_type": "code",
   "execution_count": 101,
   "metadata": {},
   "outputs": [],
   "source": [
    "col_name = 'aSD_binding'\n",
    "# col_name = 'sec_struct'\n",
    "# col_name = 'Start_accessibility'\n",
    "\n",
    "###For the violin plot at the top\n",
    "mean_virus = []\n",
    "for index in phages_df[phages_df['cluster_representative']==1].index:\n",
    "    phage_name = phages_df.loc[index]['Accession']\n",
    "    phage_tsv = '../Data/NCBI_phage_db/phage_genomes/562_phage_genomes/{}.clean.tsv'.format(phage_name)\n",
    "    ind_phage_df = pd.read_csv(phage_tsv, sep='\\t')\n",
    "    mean_virus.append(ind_phage_df[col_name].mean())\n",
    "    \n",
    "###For all the host information    \n",
    "host_df_list = []\n",
    "host_df_list.append(host_df)\n",
    "percentiles_to_test = [25, 50, 75, 90, 95]\n",
    "for i in percentiles_to_test:\n",
    "    temp_df = host_df[host_df['prot_abundance'].isnull()==False]\n",
    "    percentile_thresh = np.percentile(temp_df['prot_abundance'], i)\n",
    "    host_df_list.append(temp_df[temp_df['prot_abundance']>=percentile_thresh])\n",
    "host_df_list.append(host_df[(host_df['essentiality']=='Essential')])\n",
    "host_df_list.append(host_df[(host_df['essentiality']=='Non-essential')])\n",
    "#\n",
    "host_means = [temp_df[col_name].mean() for temp_df in host_df_list]\n",
    "host_errs = [temp_df[col_name].std()/np.sqrt(temp_df.shape[0]) for temp_df in host_df_list]"
   ]
  },
  {
   "cell_type": "code",
   "execution_count": 102,
   "metadata": {},
   "outputs": [
    {
     "data": {
      "image/png": "[encoded data removed]",
      "text/plain": [
       "<Figure size 600x450 with 1 Axes>"
      ]
     },
     "metadata": {
      "needs_background": "light"
     },
     "output_type": "display_data"
    }
   ],
   "source": [
    "###Plotting\n",
    "all_y_vals = list(np.arange(0, -(len(percentiles_to_test)+1)/2, -0.5))\n",
    "highest = all_y_vals[-1]\n",
    "all_y_vals = all_y_vals + list(np.arange(highest-1.0, highest-2.0, -0.5))\n",
    "\n",
    "fig, ax = plt.subplots(figsize=(4,3))\n",
    "vparts = ax.violinplot([mean_virus], widths=0.6, vert=False, showextrema=False, points=100)\n",
    "for pc in vparts['bodies']:\n",
    "    pc.set_facecolor(colors[1])\n",
    "    pc.set_edgecolor(colors[1])\n",
    "ax.axvline(np.median(mean_virus), c=colors[1], linestyle='-.')\n",
    "ax.axhline(0.5, c='gray')\n",
    "#Plotting two here to hack the line/dot overlaps\n",
    "ax.errorbar(host_means, all_y_vals, xerr=host_errs,\\\n",
    "            marker='|', linestyle='', mfc=colors[0], mec=colors[0], ecolor='gray',\\\n",
    "            zorder=2, markersize=8, mew=2)\n",
    "ax.errorbar(host_means, all_y_vals, xerr=host_errs,\\\n",
    "            marker='', linestyle='', mfc=colors[0], mec=colors[0], ecolor='gray',\\\n",
    "            zorder=1, capsize=3, capthick=1, elinewidth=1)\n",
    "#\n",
    "ax.axhline(-3, c='gray')\n",
    "ax.set_xlabel(mean_col_to_label_dict[col_name])\n",
    "ax.set_yticks([1]+all_y_vals)\n",
    "ax.set_yticklabels(['{} individual\\nphage genomes'.format(len(mean_virus)),\\\n",
    "                    'All',\\\n",
    "                    'Top 75%',\\\n",
    "                    'Top 50%',\\\n",
    "                    'Top 25%',\\\n",
    "                    'Top 10%',\\\n",
    "                    'Top 5%',\\\n",
    "                    'Essential genes',\\\n",
    "                    'Non-essential genes']);\n",
    "# if col_name == 'aSD_binding':\n",
    "#     ax.set_xlim(-7.99, -3.1)\n",
    "# elif col_name == 'sec_struct':\n",
    "#     ax.set_xlim(-26, -13) \n",
    "plt.savefig(figs_dir + '/Ecoli_{}_categories.png'.format(col_name), dpi=300, bbox_inches='tight')"
   ]
  },
  {
   "cell_type": "markdown",
   "metadata": {},
   "source": [
    "**And getting statistics for all those comparisons**\n",
    "\n",
    "Currently takes a minute or two to run this but... meh? I'm pretty okay with it."
   ]
  },
  {
   "cell_type": "code",
   "execution_count": 103,
   "metadata": {},
   "outputs": [],
   "source": [
    "results = []\n",
    "for temp_df in host_df_list:\n",
    "    beta_vals = []\n",
    "    p_vals = []\n",
    "    for index in phages_df[phages_df['cluster_representative']==1].index:\n",
    "        phage_name = phages_df.loc[index]['Accession']\n",
    "        phage_tsv = '../Data/NCBI_phage_db/phage_genomes/562_phage_genomes/{}.clean.tsv'.format(phage_name)\n",
    "        ind_phage_df = pd.read_csv(phage_tsv, sep='\\t')\n",
    "        assert len(list(ind_phage_df['Genome_source'].value_counts().keys())) == 1\n",
    "        ###Welch's T-test, not assuming equal variance\n",
    "        t, p = stats.ttest_ind(temp_df[col_name], ind_phage_df[col_name], equal_var=False)\n",
    "        p_vals.append(p)\n",
    "        ###Logistic regression to get the directionality of the difference\n",
    "        concat_df = pd.concat((temp_df, ind_phage_df), ignore_index=True, sort=False)\n",
    "        concat_df['binary_predictor'] = 0\n",
    "        concat_df.at[concat_df[concat_df['Genome_source'] == phage_name].index, 'binary_predictor'] = 1 \n",
    "        fitted = smf.logit('binary_predictor ~ {}'.format(col_name), data=concat_df).fit(disp=0)\n",
    "        beta_vals.append(fitted.params[1])\n",
    "    truth_array, correct_p_vals = multi.fdrcorrection(p_vals, alpha=0.01)\n",
    "    zippy = list(zip(correct_p_vals, beta_vals))\n",
    "    lside = len([1 for i,j in zippy if i < 0.01 and j < 0])\n",
    "    rside = len([1 for i,j in zippy if i < 0.01 and j >= 0])\n",
    "    results.append((lside, rside))"
   ]
  },
  {
   "cell_type": "code",
   "execution_count": 104,
   "metadata": {},
   "outputs": [
    {
     "data": {
      "image/png": "[encoded data removed]",
      "text/plain": [
       "<Figure size 300x367.5 with 1 Axes>"
      ]
     },
     "metadata": {
      "needs_background": "light"
     },
     "output_type": "display_data"
    }
   ],
   "source": [
    "fig, ax = plt.subplots(figsize=(2,2.45))\n",
    "l_bar = ax.barh(all_y_vals, [-1*i[0] for i in results], height=0.4,\\\n",
    "             color='gray')\n",
    "r_bar = ax.barh(all_y_vals, [i[1] for i in results], height=0.4,\\\n",
    "            color='gray')\n",
    "ax.set_yticklabels('')\n",
    "ax.set_xticks([-120, -60, 0, 60, 120])\n",
    "# ax.set_xticklabels([300, 150, 0, 150, 300])\n",
    "ax.set_xlim(-135, 135)\n",
    "ax.axvline(0, c='k')\n",
    "ax.set_yticks(all_y_vals[::-1])\n",
    "ax.set_ylim(-4.25, 0.5)\n",
    "ax.axhline(-3, c='gray')\n",
    "\n",
    "\n",
    "ax.set_xlabel('Number of phage genomes\\nwith significant differences')\n",
    "plt.savefig(figs_dir + '/Ecoli_{}_categories_bar.png'.format(col_name), dpi=300, bbox_inches='tight')"
   ]
  },
  {
   "cell_type": "code",
   "execution_count": null,
   "metadata": {},
   "outputs": [],
   "source": []
  },
  {
   "cell_type": "markdown",
   "metadata": {},
   "source": [
    "# Multi-variate analysis"
   ]
  },
  {
   "cell_type": "code",
   "execution_count": 173,
   "metadata": {},
   "outputs": [],
   "source": [
    "temp_df = host_df\n",
    "\n",
    "comparison_vals_a = []\n",
    "comparison_vals_b = []\n",
    "p_vals_a = []\n",
    "p_vals_b = []\n",
    "\n",
    "for index in phages_df[phages_df['cluster_representative']==1].index:\n",
    "    phage_name = phages_df.loc[index]['Accession']\n",
    "    phage_tsv = '../Data/NCBI_phage_db/phage_genomes/562_phage_genomes/{}.clean.tsv'.format(phage_name)\n",
    "    ind_phage_df = pd.read_csv(phage_tsv, sep='\\t')\n",
    "    assert len(list(ind_phage_df['Genome_source'].value_counts().keys())) == 1\n",
    "    #\n",
    "    concat_df = pd.concat((temp_df, ind_phage_df), ignore_index=True, sort=False)\n",
    "    concat_df['binary_predictor'] = 0\n",
    "    concat_df.at[concat_df[concat_df['Genome_source'] == phage_name].index, 'binary_predictor'] = 1\n",
    "#     fitted = smf.logit('binary_predictor ~ zscore(aSD_binding) + zscore(sec_struct)', data=concat_df).fit(disp=0)    \n",
    "    fitted = smf.logit('binary_predictor ~ zscore(aSD_binding) + zscore(sec_struct) + zscore(GC_cds) + zscore(iCUB)', data=concat_df).fit(disp=0)\n",
    "\n",
    "    comparison_vals_a.append(fitted.params[1])\n",
    "    comparison_vals_b.append(fitted.params[2])\n",
    "\n",
    "    p_vals_a.append(fitted.pvalues[1])\n",
    "    p_vals_b.append(fitted.pvalues[2])"
   ]
  },
  {
   "cell_type": "code",
   "execution_count": 174,
   "metadata": {},
   "outputs": [
    {
     "name": "stdout",
     "output_type": "stream",
     "text": [
      "Number significantly different aSD binding: 108\n",
      "Number significantly different sec_struct: 71\n"
     ]
    }
   ],
   "source": [
    "truth_array_a, correct_p_vals_a = multi.fdrcorrection(p_vals_a, alpha=0.01)\n",
    "print('Number significantly different aSD binding:', np.sum(truth_array_a))\n",
    "truth_array_b, correct_p_vals_b = multi.fdrcorrection(p_vals_b, alpha=0.01)\n",
    "print('Number significantly different sec_struct:', np.sum(truth_array_b))"
   ]
  },
  {
   "cell_type": "code",
   "execution_count": 177,
   "metadata": {},
   "outputs": [
    {
     "name": "stdout",
     "output_type": "stream",
     "text": [
      "98 31 1 9\n"
     ]
    }
   ],
   "source": [
    "tl = 0\n",
    "bl = 0\n",
    "tr = 0\n",
    "br = 0\n",
    "for i,j,k,l in zip(comparison_vals_a, comparison_vals_b, correct_p_vals_a, correct_p_vals_b):\n",
    "    if k < 0.01 or l < 0.01:\n",
    "        if i < 0 and j < 0:\n",
    "            bl += 1\n",
    "        if i < 0 and j > 0:\n",
    "            tl += 1\n",
    "        if i > 0 and j < 0:\n",
    "            br += 1\n",
    "        if i > 0 and j > 0:\n",
    "            tr += 1\n",
    "print(tl, bl, tr, br)"
   ]
  },
  {
   "cell_type": "code",
   "execution_count": 176,
   "metadata": {},
   "outputs": [
    {
     "data": {
      "text/plain": [
       "Text(0, 0.5, 'Effect size\\n(Start codon secondary structure)')"
      ]
     },
     "execution_count": 176,
     "metadata": {},
     "output_type": "execute_result"
    },
    {
     "data": {
      "image/png": "[encoded data removed]",
      "text/plain": [
       "<Figure size 450x405 with 1 Axes>"
      ]
     },
     "metadata": {
      "needs_background": "light"
     },
     "output_type": "display_data"
    }
   ],
   "source": [
    "fig, ax = plt.subplots(figsize=(3,2.7))\n",
    "ax.plot(comparison_vals_a, comparison_vals_b, marker='o', linestyle='', c=colors[1], alpha=0.3)\n",
    "ax.axvline(0, c=colors[0])\n",
    "ax.axhline(0, c=colors[0])\n",
    "ax.set_xlim(-2, 2)\n",
    "ax.set_ylim(-2, 2)\n",
    "# ax.set_xlim(-6.5, 6.5)\n",
    "# ax.set_ylim(-6.5, 6.5)\n",
    "ax.set_xlabel('Effect size\\n(aSD binding strength)')\n",
    "ax.set_ylabel('Effect size\\n(Start codon secondary structure)')\n",
    "# plt.savefig(figs_dir + '/Ecoli_multivariate_scatter.png'.format(col_name), dpi=300, bbox_inches='tight')\n",
    "# plt.savefig(figs_dir + '/Ecoli_multivariate_scatter_withcovariates.png'.format(col_name), dpi=300, bbox_inches='tight')"
   ]
  },
  {
   "cell_type": "markdown",
   "metadata": {},
   "source": [
    "# Getting lifestyle predictions"
   ]
  },
  {
   "cell_type": "code",
   "execution_count": 151,
   "metadata": {},
   "outputs": [
    {
     "name": "stdout",
     "output_type": "stream",
     "text": [
      "(254, 4)\n"
     ]
    },
    {
     "data": {
      "text/html": [
       "<div>\n",
       "<style scoped>\n",
       "    .dataframe tbody tr th:only-of-type {\n",
       "        vertical-align: middle;\n",
       "    }\n",
       "\n",
       "    .dataframe tbody tr th {\n",
       "        vertical-align: top;\n",
       "    }\n",
       "\n",
       "    .dataframe thead th {\n",
       "        text-align: right;\n",
       "    }\n",
       "</style>\n",
       "<table border=\"1\" class=\"dataframe\">\n",
       "  <thead>\n",
       "    <tr style=\"text-align: right;\">\n",
       "      <th></th>\n",
       "      <th>host_id</th>\n",
       "      <th>phage_id</th>\n",
       "      <th>phage_lifestyle</th>\n",
       "      <th>lifestyle_probability_difference</th>\n",
       "    </tr>\n",
       "  </thead>\n",
       "  <tbody>\n",
       "    <tr>\n",
       "      <th>833</th>\n",
       "      <td>562</td>\n",
       "      <td>NC_050154</td>\n",
       "      <td>Temperate</td>\n",
       "      <td>0.900</td>\n",
       "    </tr>\n",
       "    <tr>\n",
       "      <th>834</th>\n",
       "      <td>562</td>\n",
       "      <td>NC_049941</td>\n",
       "      <td>Temperate</td>\n",
       "      <td>0.950</td>\n",
       "    </tr>\n",
       "    <tr>\n",
       "      <th>835</th>\n",
       "      <td>562</td>\n",
       "      <td>NC_049942</td>\n",
       "      <td>Temperate</td>\n",
       "      <td>0.975</td>\n",
       "    </tr>\n",
       "    <tr>\n",
       "      <th>836</th>\n",
       "      <td>562</td>\n",
       "      <td>NC_049924</td>\n",
       "      <td>Temperate</td>\n",
       "      <td>0.975</td>\n",
       "    </tr>\n",
       "    <tr>\n",
       "      <th>837</th>\n",
       "      <td>562</td>\n",
       "      <td>NC_049926</td>\n",
       "      <td>Temperate</td>\n",
       "      <td>1.000</td>\n",
       "    </tr>\n",
       "  </tbody>\n",
       "</table>\n",
       "</div>"
      ],
      "text/plain": [
       "     host_id   phage_id phage_lifestyle  lifestyle_probability_difference\n",
       "833      562  NC_050154       Temperate                             0.900\n",
       "834      562  NC_049941       Temperate                             0.950\n",
       "835      562  NC_049942       Temperate                             0.975\n",
       "836      562  NC_049924       Temperate                             0.975\n",
       "837      562  NC_049926       Temperate                             1.000"
      ]
     },
     "execution_count": 151,
     "metadata": {},
     "output_type": "execute_result"
    }
   ],
   "source": [
    "lifestyle_df = pd.read_csv('../Data/lifestyle_results_BACPHLIP.tsv', sep='\\t')\n",
    "lifestyle_df = lifestyle_df[lifestyle_df['host_id']==int(562)]\n",
    "print(lifestyle_df.shape)\n",
    "lifestyle_df.head()"
   ]
  },
  {
   "cell_type": "code",
   "execution_count": 118,
   "metadata": {},
   "outputs": [
    {
     "data": {
      "text/plain": [
       "host_id                                  562\n",
       "phage_lifestyle                     Virulent\n",
       "lifestyle_probability_difference    0.997166\n",
       "Name: NC_001604, dtype: object"
      ]
     },
     "execution_count": 118,
     "metadata": {},
     "output_type": "execute_result"
    }
   ],
   "source": [
    "lifestyle_df.loc['NC_001604'] #T7\n",
    "# lifestyle_df.loc['NC_001416'] #Phage lambda"
   ]
  },
  {
   "cell_type": "markdown",
   "metadata": {},
   "source": [
    "# Re-doing analyses to assess robustness"
   ]
  },
  {
   "cell_type": "code",
   "execution_count": 147,
   "metadata": {},
   "outputs": [],
   "source": [
    "temp_df = host_df\n",
    "\n",
    "comparison_vals_a = []\n",
    "comparison_vals_b = []\n",
    "p_vals_a = []\n",
    "p_vals_b = []\n",
    "lifestyle_vals = []\n",
    "\n",
    "for index in phages_df[phages_df['cluster_representative']==1].index:\n",
    "    phage_name = phages_df.loc[index]['Accession']\n",
    "    phage_tsv = '../Data/NCBI_phage_db/phage_genomes/562_phage_genomes/{}.clean.tsv'.format(phage_name)\n",
    "    ind_phage_df = pd.read_csv(phage_tsv, sep='\\t')\n",
    "    assert len(list(ind_phage_df['Genome_source'].value_counts().keys())) == 1\n",
    "    \n",
    "    ind_lifestyle = lifestyle_df.loc[phage_name]['phage_lifestyle']\n",
    "    ind_lifestyle_prob = lifestyle_df.loc[phage_name]['lifestyle_probability_difference']\n",
    "    if ind_lifestyle_prob < 0.95:\n",
    "        continue\n",
    "    lifestyle_vals.append(ind_lifestyle)    \n",
    "\n",
    "    #\n",
    "    concat_df = pd.concat((temp_df, ind_phage_df), ignore_index=True, sort=False)\n",
    "    concat_df['binary_predictor'] = 0\n",
    "    concat_df.at[concat_df[concat_df['Genome_source'] == phage_name].index, 'binary_predictor'] = 1\n",
    "#     fitted = smf.logit('binary_predictor ~ zscore(aSD_binding) + zscore(sec_struct)', data=concat_df).fit(disp=0)    \n",
    "    fitted = smf.logit('binary_predictor ~ zscore(aSD_binding) + zscore(sec_struct) + zscore(GC_cds) + zscore(iCUB)', data=concat_df).fit(disp=0)\n",
    "\n",
    "    comparison_vals_a.append(fitted.params[1])\n",
    "    comparison_vals_b.append(fitted.params[2])\n",
    "\n",
    "    p_vals_a.append(fitted.pvalues[1])\n",
    "    p_vals_b.append(fitted.pvalues[2])"
   ]
  },
  {
   "cell_type": "code",
   "execution_count": 148,
   "metadata": {},
   "outputs": [
    {
     "name": "stdout",
     "output_type": "stream",
     "text": [
      "(143, 3)\n"
     ]
    }
   ],
   "source": [
    "quick_df = pd.DataFrame(\n",
    "    {'aSD_binding': comparison_vals_a,\n",
    "     'sec_struct': comparison_vals_b,\n",
    "     'lifestyle': lifestyle_vals\n",
    "    })\n",
    "print(quick_df.shape)"
   ]
  },
  {
   "cell_type": "code",
   "execution_count": 149,
   "metadata": {},
   "outputs": [
    {
     "data": {
      "image/png": "[encoded data removed]",
      "text/plain": [
       "<Figure size 450x405 with 1 Axes>"
      ]
     },
     "metadata": {
      "needs_background": "light"
     },
     "output_type": "display_data"
    }
   ],
   "source": [
    "fig, ax = plt.subplots(figsize=(3,2.7))\n",
    "ax.plot(quick_df[quick_df['lifestyle']=='Virulent']['aSD_binding'],\n",
    "        quick_df[quick_df['lifestyle']=='Virulent']['sec_struct'], \n",
    "        marker='o', linestyle='', c=colors[4], alpha=0.5,\n",
    "        label='Virulent')\n",
    "ax.plot(quick_df[quick_df['lifestyle']=='Temperate']['aSD_binding'],\n",
    "        quick_df[quick_df['lifestyle']=='Temperate']['sec_struct'], \n",
    "        marker='o', linestyle='', c='gold', alpha=0.5,\n",
    "        label='Temperate')\n",
    "ax.axvline(0, c=colors[0])\n",
    "ax.axhline(0, c=colors[0])\n",
    "# ax.set_xlim(-2, 2)\n",
    "# ax.set_ylim(-2, 2)\n",
    "ax.set_xlabel('Effect size\\n(aSD binding strength)')\n",
    "ax.set_ylabel('Effect size\\n(Start codon secondary structure)')\n",
    "leg = plt.legend(loc=1, framealpha=1.0, handlelength=0.5, handleheight=0.5)\n",
    "bb = leg.get_bbox_to_anchor().inverse_transformed(ax.transAxes)\n",
    "bb.y1 -=0.12\n",
    "bb.x1 += 0.01\n",
    "leg.set_bbox_to_anchor(bb, transform = ax.transAxes)\n",
    "# plt.savefig(figs_dir + '/Ecoli_multivariate_scatter_lifestyle.png'.format(col_name), dpi=300, bbox_inches='tight')\n",
    "# plt.savefig(figs_dir + '/Ecoli_multivariate_scatter_withcovariates_lifestyle.png'.format(col_name), dpi=300, bbox_inches='tight')"
   ]
  },
  {
   "cell_type": "code",
   "execution_count": null,
   "metadata": {},
   "outputs": [],
   "source": []
  }
 ],
 "metadata": {
  "kernelspec": {
   "display_name": "Python 3",
   "language": "python",
   "name": "python3"
  },
  "language_info": {
   "codemirror_mode": {
    "name": "ipython",
    "version": 3
   },
   "file_extension": ".py",
   "mimetype": "text/x-python",
   "name": "python",
   "nbconvert_exporter": "python",
   "pygments_lexer": "ipython3",
   "version": "3.7.7"
  },
  "toc": {
   "colors": {
    "hover_highlight": "#DAA520",
    "navigate_num": "#000000",
    "navigate_text": "#333333",
    "running_highlight": "#FF0000",
    "selected_highlight": "#FFD700",
    "sidebar_border": "#EEEEEE",
    "wrapper_background": "#FFFFFF"
   },
   "moveMenuLeft": true,
   "nav_menu": {
    "height": "102px",
    "width": "252px"
   },
   "navigate_menu": true,
   "number_sections": true,
   "sideBar": true,
   "threshold": 4,
   "toc_cell": false,
   "toc_section_display": "block",
   "toc_window_display": false,
   "widenNotebook": false
  }
 },
 "nbformat": 4,
 "nbformat_minor": 2
}
