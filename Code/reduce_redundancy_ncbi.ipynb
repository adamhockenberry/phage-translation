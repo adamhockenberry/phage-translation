{
 "cells": [
  {
   "cell_type": "code",
   "execution_count": null,
   "metadata": {},
   "outputs": [],
   "source": [
    "%matplotlib inline"
   ]
  },
  {
   "cell_type": "markdown",
   "metadata": {},
   "source": [
    "# Offline portion\n",
    "\n",
    "I manually ran fastANI on the set of phage genomes (`.fasta` files) for each host.\n",
    "\n",
    "For example:\n",
    "```\n",
    "find ../Data/MVP_DB/562_rep_viruses/*.fasta -type f> file_listing.txt\n",
    "\n",
    "fastANI --ql file_listing.txt --rl file_listing.txt --fragLen 300 --minFraction 0.8 -o 562_ANI.output\n",
    "```\n",
    "\n",
    "To run for all hosts, just replace both instances of `562` in the above code. Didn't seem worth writing a bash script for. "
   ]
  },
  {
   "cell_type": "code",
   "execution_count": null,
   "metadata": {},
   "outputs": [],
   "source": [
    "import pandas as pd\n",
    "import glob\n",
    "from Bio import SeqIO"
   ]
  },
  {
   "cell_type": "code",
   "execution_count": null,
   "metadata": {},
   "outputs": [],
   "source": [
    "taxon_id = '562'\n",
    "input_df = pd.read_csv('../Data/MVP_data/fastANI_results/{}_ANI.output'.format(taxon_id), sep='\\t', header=None)\n",
    "print('Shape:', input_df.shape)\n",
    "print('Non-null shape:', input_df[input_df[2].isnull()==False].shape)\n",
    "input_df.head()"
   ]
  },
  {
   "cell_type": "code",
   "execution_count": null,
   "metadata": {},
   "outputs": [],
   "source": [
    "input_df['temp'] = input_df[0].str.split(\"/\").str[-1]\n",
    "input_df['query_seq'] = input_df['temp'].str.split('.').str[0]\n",
    "input_df['temp'] = input_df[1].str.split(\"/\").str[-1]\n",
    "input_df['ref_seq'] = input_df['temp'].str.split('.').str[0]\n",
    "input_df = input_df[['query_seq', 'ref_seq', 2, 3, 4]]\n",
    "print(input_df[input_df[2]==100.].shape)\n",
    "input_df = input_df[input_df['query_seq'] != input_df['ref_seq']]\n",
    "print(input_df.shape)\n",
    "input_df.head(n=20)"
   ]
  },
  {
   "cell_type": "markdown",
   "metadata": {},
   "source": [
    "# Re-create the cd-hit-est algorithm for clustering\n",
    "\n",
    "There's probably a faster way to do this but it seemed straightforward enough to quickly write up the greedy incremental clustering approach."
   ]
  },
  {
   "cell_type": "code",
   "execution_count": null,
   "metadata": {},
   "outputs": [],
   "source": [
    "records = []\n",
    "for infile in glob.glob('../Data/MVP_data/host_linked_genomes/{}_rep_viruses/*.fasta'.format(taxon_id)):\n",
    "    tempy = SeqIO.read(infile, 'fasta')\n",
    "    records.append((infile.split('/')[-1].split('.')[0], len(tempy.seq)))\n",
    "records = sorted(records, key=lambda x: x[1], reverse=True) ###Critical step!\n",
    "print('First, last record sequence length:', records[0][1], ',', records[-1][1])\n",
    "print('Total sequences:', len(records))\n",
    "len_dict = dict(records) #useful for sorting later"
   ]
  },
  {
   "cell_type": "code",
   "execution_count": null,
   "metadata": {},
   "outputs": [],
   "source": [
    "input_df_copy = input_df.copy(deep=True)\n",
    "thresh = 80\n",
    "clusters = []\n",
    "found = []\n",
    "for record in records: \n",
    "    ### Records must be sorted in order! (see above)\n",
    "    if record[0] in found:\n",
    "        continue\n",
    "    ###Find all instances of this record in the dataframe\n",
    "    temp_df = input_df_copy[(input_df_copy['query_seq']==record[0]) | (input_df_copy['ref_seq']==record[0])]\n",
    "    ###Select all cases where the identity is greater than the specified threshold\n",
    "    temp_df = temp_df[temp_df[2] > thresh]\n",
    "    \n",
    "    ###Two paths!\n",
    "    ###If there are some cases\n",
    "    if temp_df.shape[0] != 0:\n",
    "        ###Find everyone involved\n",
    "        all_seqs = list(set(list(temp_df['query_seq'])+list(temp_df['ref_seq'])))        \n",
    "        ###Move my sequence (the longest) to the front of the list\n",
    "        all_seqs.insert(0, all_seqs.pop(all_seqs.index(record[0])))\n",
    "        \n",
    "        ###Loop through everyone else\n",
    "        stop = False\n",
    "        while stop == False:\n",
    "            current_len = len(all_seqs)\n",
    "            added = 1\n",
    "            for seq_id in all_seqs[added:]:\n",
    "                ###Find all instances of this record in the dataframe\n",
    "                temp_df = input_df_copy[(input_df_copy['query_seq']==seq_id) | (input_df_copy['ref_seq']==seq_id)]\n",
    "                ###Select all cases where the identity is greater than the specified threshold\n",
    "                temp_df = temp_df[temp_df[2] > thresh]\n",
    "                if temp_df.shape[0] != 0:\n",
    "                    ###Find everyone involved\n",
    "                    all_seqs_rd2 = list(set(list(temp_df['query_seq'])+list(temp_df['ref_seq'])))        \n",
    "                    for new_seq in all_seqs_rd2:\n",
    "                        if new_seq not in all_seqs:\n",
    "                            all_seqs.append(new_seq)\n",
    "                added += 1\n",
    "            final_len = len(all_seqs)\n",
    "            if final_len == current_len:\n",
    "                stop = True\n",
    "        ###Finally, call it a cluster\n",
    "        clusters.append(all_seqs)\n",
    "        ###Note that everyone in the cluster is accounted for and should be skipped\n",
    "        found.extend(all_seqs)\n",
    "        ###Remove everyone that I found from the temporary dataframe\n",
    "        input_df_copy = input_df_copy[input_df_copy['query_seq'].isin(all_seqs)==False]\n",
    "        input_df_copy = input_df_copy[input_df_copy['ref_seq'].isin(all_seqs)==False]\n",
    "    ###If the sequence is a beautiful little snowflake\n",
    "    else:\n",
    "        ###It's a unique cluster of one\n",
    "        clusters.append([record[0]])\n",
    "        ###That has been found, though it found no one\n",
    "        found.append(record[0])\n",
    "        ###Remove everyone that I found from the temporary dataframe\n",
    "        input_df_copy = input_df_copy[input_df_copy['query_seq']!= record[0]]\n",
    "        input_df_copy = input_df_copy[input_df_copy['ref_seq']!= record[0]]\n",
    "for i, j in enumerate(clusters):\n",
    "    clusters[i] = sorted(j, key=lambda x: len_dict[x], reverse=True)\n",
    "    \n",
    "print(len(clusters), sum([len(i) for i in clusters]))"
   ]
  },
  {
   "cell_type": "code",
   "execution_count": null,
   "metadata": {},
   "outputs": [],
   "source": []
  },
  {
   "cell_type": "markdown",
   "metadata": {},
   "source": [
    "# Write to file"
   ]
  },
  {
   "cell_type": "code",
   "execution_count": null,
   "metadata": {},
   "outputs": [],
   "source": [
    "with open('../Data/MVP_data/host_linked_genomes/{}_independent.txt'.format(taxon_id), 'w') as outfile:\n",
    "    for cluster in clusters:\n",
    "        outfile.write('{}\\n'.format(cluster[0]))"
   ]
  },
  {
   "cell_type": "code",
   "execution_count": null,
   "metadata": {},
   "outputs": [],
   "source": []
  },
  {
   "cell_type": "code",
   "execution_count": null,
   "metadata": {},
   "outputs": [],
   "source": []
  },
  {
   "cell_type": "code",
   "execution_count": null,
   "metadata": {},
   "outputs": [],
   "source": []
  },
  {
   "cell_type": "code",
   "execution_count": null,
   "metadata": {},
   "outputs": [],
   "source": []
  },
  {
   "cell_type": "markdown",
   "metadata": {},
   "source": [
    "# Visualize what those results look like"
   ]
  },
  {
   "cell_type": "code",
   "execution_count": null,
   "metadata": {},
   "outputs": [],
   "source": [
    "input_df = pd.read_csv('../Data/MVP_data/fastANI_results/{}_ANI.output'.format(taxon_id), sep='\\t', header=None)\n",
    "print('Shape:', input_df.shape)\n",
    "print('Non-null shape:', input_df[input_df[2].isnull()==False].shape)\n",
    "input_df['temp'] = input_df[0].str.split(\"/\").str[-1]\n",
    "input_df['query_seq'] = input_df['temp'].str.split('.').str[0]\n",
    "input_df['temp'] = input_df[1].str.split(\"/\").str[-1]\n",
    "input_df['ref_seq'] = input_df['temp'].str.split('.').str[0]\n",
    "input_df = input_df[['query_seq', 'ref_seq', 2, 3, 4]]\n",
    "print(input_df.shape)\n",
    "\n",
    "sim_df = input_df.pivot(index='query_seq', columns='ref_seq', values=2)\n",
    "sim_matrix = sim_df.values"
   ]
  },
  {
   "cell_type": "code",
   "execution_count": null,
   "metadata": {},
   "outputs": [],
   "source": [
    "temp = [str(item) for sublist in clusters for item in sublist if item in sim_df.index]\n",
    "ordered_sim_matrix = sim_df.loc[temp][temp].values"
   ]
  },
  {
   "cell_type": "code",
   "execution_count": null,
   "metadata": {},
   "outputs": [],
   "source": [
    "print(len(sim_df.index), len(sim_df.index))"
   ]
  },
  {
   "cell_type": "code",
   "execution_count": null,
   "metadata": {},
   "outputs": [],
   "source": [
    "from matplotlib import pyplot as plt"
   ]
  },
  {
   "cell_type": "code",
   "execution_count": null,
   "metadata": {},
   "outputs": [],
   "source": [
    "fig, ax_arr = plt.subplots(nrows=1, ncols=2, figsize=(16,8))\n",
    "ax_arr[0].matshow(sim_matrix)\n",
    "ax_arr[0].set_title('Unsorted in any seemingly logical way')\n",
    "ax_arr[1].matshow(ordered_sim_matrix)\n",
    "ax_arr[1].set_title('After greedy algorithm')"
   ]
  },
  {
   "cell_type": "code",
   "execution_count": null,
   "metadata": {},
   "outputs": [],
   "source": []
  }
 ],
 "metadata": {
  "kernelspec": {
   "display_name": "Python 3",
   "language": "python",
   "name": "python3"
  },
  "language_info": {
   "codemirror_mode": {
    "name": "ipython",
    "version": 3
   },
   "file_extension": ".py",
   "mimetype": "text/x-python",
   "name": "python",
   "nbconvert_exporter": "python",
   "pygments_lexer": "ipython3",
   "version": "3.7.7"
  },
  "toc": {
   "base_numbering": 1,
   "colors": {
    "hover_highlight": "#DAA520",
    "navigate_num": "#000000",
    "navigate_text": "#333333",
    "running_highlight": "#FF0000",
    "selected_highlight": "#FFD700",
    "sidebar_border": "#EEEEEE",
    "wrapper_background": "#FFFFFF"
   },
   "moveMenuLeft": true,
   "nav_menu": {},
   "navigate_menu": true,
   "number_sections": true,
   "sideBar": true,
   "skip_h1_title": false,
   "threshold": 4,
   "title_cell": "Table of Contents",
   "title_sidebar": "Contents",
   "toc_cell": false,
   "toc_position": {},
   "toc_section_display": true,
   "toc_window_display": false,
   "widenNotebook": false
  }
 },
 "nbformat": 4,
 "nbformat_minor": 4
}
