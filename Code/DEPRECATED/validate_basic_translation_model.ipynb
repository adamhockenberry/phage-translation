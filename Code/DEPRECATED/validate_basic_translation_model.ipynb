{
 "cells": [
  {
   "cell_type": "code",
   "execution_count": 1,
   "metadata": {},
   "outputs": [],
   "source": [
    "%matplotlib inline"
   ]
  },
  {
   "cell_type": "code",
   "execution_count": 2,
   "metadata": {},
   "outputs": [],
   "source": [
    "import pandas as pd\n",
    "from scipy import stats\n",
    "import numpy as np\n",
    "\n",
    "import statsmodels.formula.api as smf\n",
    "from matplotlib import pyplot as plt"
   ]
  },
  {
   "cell_type": "code",
   "execution_count": 131,
   "metadata": {},
   "outputs": [
    {
     "name": "stdout",
     "output_type": "stream",
     "text": [
      "(4016, 25)\n"
     ]
    }
   ],
   "source": [
    "df = pd.read_csv('../Data/MVP_data/562_associated_data/ecoli.combined.tsv', index_col=0, sep='\\t')\n",
    "print(df.shape)"
   ]
  },
  {
   "cell_type": "code",
   "execution_count": 155,
   "metadata": {},
   "outputs": [],
   "source": [
    "df['trans_eff_mean'] = df[['trans_eff_2014', 'trans_eff_2019']].mean(axis=1, skipna=False)"
   ]
  },
  {
   "cell_type": "code",
   "execution_count": null,
   "metadata": {},
   "outputs": [],
   "source": []
  },
  {
   "cell_type": "markdown",
   "metadata": {},
   "source": [
    "**Statistics**"
   ]
  },
  {
   "cell_type": "code",
   "execution_count": 133,
   "metadata": {},
   "outputs": [],
   "source": [
    "# feature = 'trans_eff_2019'\n",
    "# temp_df = df[(df[feature].isnull()==False)]\n",
    "# temp_df = temp_df[temp_df['sec_struct'].isnull()==False]\n",
    "# print(temp_df.shape)"
   ]
  },
  {
   "cell_type": "code",
   "execution_count": 171,
   "metadata": {},
   "outputs": [
    {
     "name": "stdout",
     "output_type": "stream",
     "text": [
      "prot_abundance\n",
      "(3577, 26)\n",
      "SpearmanrResult(correlation=0.09373273552328562, pvalue=1.9500098965987393e-08)\n",
      "SpearmanrResult(correlation=0.1471696978784738, pvalue=8.985142624842398e-19)\n",
      "SpearmanrResult(correlation=-0.10371334245802365, pvalue=5.051541529236013e-10)\n",
      "SpearmanrResult(correlation=0.20579271533309068, pvalue=1.6436008903473472e-35)\n",
      "\n",
      "trans_eff_2014\n",
      "(2152, 26)\n",
      "SpearmanrResult(correlation=0.416269107963277, pvalue=5.96599531231718e-91)\n",
      "SpearmanrResult(correlation=0.34030246567953937, pvalue=1.7419312915021884e-59)\n",
      "SpearmanrResult(correlation=-0.030547655145263763, pvalue=0.15659920993019144)\n",
      "SpearmanrResult(correlation=0.338057050552747, pvalue=1.1154778567547605e-58)\n",
      "\n",
      "trans_eff_2019\n",
      "(656, 26)\n",
      "SpearmanrResult(correlation=0.3277280869555164, pvalue=6.871115381979682e-18)\n",
      "SpearmanrResult(correlation=0.1406487148557211, pvalue=0.0003021246059741151)\n",
      "SpearmanrResult(correlation=-0.13154200587504025, pvalue=0.0007317986977623431)\n",
      "SpearmanrResult(correlation=0.22770401970546952, pvalue=3.6658857558571778e-09)\n",
      "\n",
      "trans_eff_mean\n",
      "(571, 26)\n",
      "SpearmanrResult(correlation=0.376229297547315, pvalue=1.2200591577647788e-20)\n",
      "SpearmanrResult(correlation=0.26081622785145614, pvalue=2.474551877080939e-10)\n",
      "SpearmanrResult(correlation=-0.10007221977980074, pvalue=0.01675440177951757)\n",
      "SpearmanrResult(correlation=0.3156493545337669, pvalue=1.1233792155500443e-14)\n",
      "\n",
      "iCUB\n",
      "(4016, 26)\n",
      "SpearmanrResult(correlation=-0.0030755285632101366, pvalue=0.8455166943863747)\n",
      "SpearmanrResult(correlation=-0.06289954952970052, pvalue=6.641562128554285e-05)\n",
      "SpearmanrResult(correlation=0.10791236026022497, pvalue=7.056107222314772e-12)\n",
      "SpearmanrResult(correlation=-0.146849118939076, pvalue=8.442293137572144e-21)\n"
     ]
    }
   ],
   "source": [
    "feature = 'prot_abundance'\n",
    "print(feature)\n",
    "temp_df = df[(df[feature].isnull()==False)]\n",
    "temp_df = temp_df[temp_df['sec_struct'].isnull()==False]\n",
    "print(temp_df.shape)\n",
    "print(stats.spearmanr(temp_df[feature], temp_df['sec_struct']))\n",
    "print(stats.spearmanr(temp_df[feature], temp_df['sec_struct']-temp_df['sec_struct_bound']))\n",
    "print(stats.spearmanr(temp_df[feature], temp_df['aSD_binding']))\n",
    "print(stats.spearmanr(temp_df[feature],\\\n",
    "                temp_df['sec_struct'] - (temp_df['sec_struct_bound'] + temp_df['aSD_binding'])))\n",
    "print()\n",
    "feature = 'trans_eff_2014'\n",
    "print(feature)\n",
    "temp_df = df[(df[feature].isnull()==False)]\n",
    "temp_df = temp_df[temp_df['sec_struct'].isnull()==False]\n",
    "print(temp_df.shape)\n",
    "print(stats.spearmanr(temp_df[feature], temp_df['sec_struct']))\n",
    "print(stats.spearmanr(temp_df[feature], temp_df['sec_struct']-temp_df['sec_struct_bound']))\n",
    "print(stats.spearmanr(temp_df[feature], temp_df['aSD_binding']))\n",
    "print(stats.spearmanr(temp_df[feature],\\\n",
    "                temp_df['sec_struct'] - (temp_df['sec_struct_bound'] + temp_df['aSD_binding'])))\n",
    "print()\n",
    "feature = 'trans_eff_2019'\n",
    "print(feature)\n",
    "temp_df = df[(df[feature].isnull()==False)]\n",
    "temp_df = temp_df[temp_df['sec_struct'].isnull()==False]\n",
    "print(temp_df.shape)\n",
    "print(stats.spearmanr(temp_df[feature], temp_df['sec_struct']))\n",
    "print(stats.spearmanr(temp_df[feature], temp_df['sec_struct']-temp_df['sec_struct_bound']))\n",
    "print(stats.spearmanr(temp_df[feature], temp_df['aSD_binding']))\n",
    "print(stats.spearmanr(temp_df[feature],\\\n",
    "                temp_df['sec_struct'] - (temp_df['sec_struct_bound'] + temp_df['aSD_binding'])))\n",
    "print()\n",
    "feature = 'trans_eff_mean'\n",
    "print(feature)\n",
    "temp_df = df[(df[feature].isnull()==False)]\n",
    "temp_df = temp_df[temp_df['sec_struct'].isnull()==False]\n",
    "print(temp_df.shape)\n",
    "print(stats.spearmanr(temp_df[feature], temp_df['sec_struct']))\n",
    "print(stats.spearmanr(temp_df[feature], temp_df['sec_struct']-temp_df['sec_struct_bound']))\n",
    "print(stats.spearmanr(temp_df[feature], temp_df['aSD_binding']))\n",
    "print(stats.spearmanr(temp_df[feature],\\\n",
    "                temp_df['sec_struct'] - (temp_df['sec_struct_bound'] + temp_df['aSD_binding'])))\n",
    "print()\n",
    "feature = 'iCUB'\n",
    "print(feature)\n",
    "temp_df = df[(df[feature].isnull()==False)]\n",
    "temp_df = temp_df[temp_df['sec_struct'].isnull()==False]\n",
    "print(temp_df.shape)\n",
    "print(stats.spearmanr(temp_df[feature], temp_df['sec_struct']))\n",
    "print(stats.spearmanr(temp_df[feature], temp_df['sec_struct']-temp_df['sec_struct_bound']))\n",
    "print(stats.spearmanr(temp_df[feature], temp_df['aSD_binding']))\n",
    "print(stats.spearmanr(temp_df[feature],\\\n",
    "                temp_df['sec_struct'] - (temp_df['sec_struct_bound'] + temp_df['aSD_binding'])))"
   ]
  },
  {
   "cell_type": "code",
   "execution_count": null,
   "metadata": {},
   "outputs": [],
   "source": []
  },
  {
   "cell_type": "code",
   "execution_count": 175,
   "metadata": {},
   "outputs": [
    {
     "name": "stdout",
     "output_type": "stream",
     "text": [
      "(2152, 26)\n",
      "                            OLS Regression Results                            \n",
      "==============================================================================\n",
      "Dep. Variable:         trans_eff_2014   R-squared:                       0.218\n",
      "Model:                            OLS   Adj. R-squared:                  0.217\n",
      "Method:                 Least Squares   F-statistic:                     200.0\n",
      "Date:                Fri, 12 Jun 2020   Prob (F-statistic):          2.18e-114\n",
      "Time:                        17:30:37   Log-Likelihood:                -2289.5\n",
      "No. Observations:                2152   AIC:                             4587.\n",
      "Df Residuals:                    2148   BIC:                             4610.\n",
      "Df Model:                           3                                         \n",
      "Covariance Type:            nonrobust                                         \n",
      "====================================================================================\n",
      "                       coef    std err          t      P>|t|      [0.025      0.975]\n",
      "------------------------------------------------------------------------------------\n",
      "Intercept            2.6648      0.078     34.356      0.000       2.513       2.817\n",
      "sec_struct           0.1012      0.005     18.840      0.000       0.091       0.112\n",
      "sec_struct_bound    -0.0569      0.006     -9.592      0.000      -0.069      -0.045\n",
      "aSD_binding         -0.0581      0.007     -8.081      0.000      -0.072      -0.044\n",
      "==============================================================================\n",
      "Omnibus:                      220.954   Durbin-Watson:                   1.992\n",
      "Prob(Omnibus):                  0.000   Jarque-Bera (JB):              308.550\n",
      "Skew:                           0.800   Prob(JB):                     9.98e-68\n",
      "Kurtosis:                       3.939   Cond. No.                         200.\n",
      "==============================================================================\n",
      "\n",
      "Warnings:\n",
      "[1] Standard Errors assume that the covariance matrix of the errors is correctly specified.\n"
     ]
    }
   ],
   "source": [
    "feature = 'trans_eff_2014'\n",
    "temp_df = df[(df[feature].isnull()==False)]\n",
    "temp_df = temp_df[temp_df['sec_struct'].isnull()==False]\n",
    "print(temp_df.shape)\n",
    "fitted = smf.ols('{} ~ sec_struct + sec_struct_bound + aSD_binding'.format(feature), data=temp_df).fit()\n",
    "print(fitted.summary())"
   ]
  },
  {
   "cell_type": "code",
   "execution_count": null,
   "metadata": {},
   "outputs": [],
   "source": []
  },
  {
   "cell_type": "code",
   "execution_count": null,
   "metadata": {},
   "outputs": [],
   "source": []
  },
  {
   "cell_type": "code",
   "execution_count": null,
   "metadata": {},
   "outputs": [],
   "source": []
  },
  {
   "cell_type": "code",
   "execution_count": null,
   "metadata": {},
   "outputs": [],
   "source": []
  },
  {
   "cell_type": "code",
   "execution_count": null,
   "metadata": {},
   "outputs": [],
   "source": []
  }
 ],
 "metadata": {
  "kernelspec": {
   "display_name": "Python 3",
   "language": "python",
   "name": "python3"
  },
  "language_info": {
   "codemirror_mode": {
    "name": "ipython",
    "version": 3
   },
   "file_extension": ".py",
   "mimetype": "text/x-python",
   "name": "python",
   "nbconvert_exporter": "python",
   "pygments_lexer": "ipython3",
   "version": "3.7.7"
  },
  "toc": {
   "colors": {
    "hover_highlight": "#DAA520",
    "navigate_num": "#000000",
    "navigate_text": "#333333",
    "running_highlight": "#FF0000",
    "selected_highlight": "#FFD700",
    "sidebar_border": "#EEEEEE",
    "wrapper_background": "#FFFFFF"
   },
   "moveMenuLeft": true,
   "nav_menu": {
    "height": "12px",
    "width": "252px"
   },
   "navigate_menu": true,
   "number_sections": true,
   "sideBar": true,
   "threshold": 4,
   "toc_cell": false,
   "toc_section_display": "block",
   "toc_window_display": false,
   "widenNotebook": false
  }
 },
 "nbformat": 4,
 "nbformat_minor": 4
}
