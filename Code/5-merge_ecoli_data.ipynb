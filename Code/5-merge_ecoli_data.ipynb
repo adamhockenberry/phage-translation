{
 "cells": [
  {
   "cell_type": "code",
   "execution_count": null,
   "metadata": {},
   "outputs": [],
   "source": [
    "%matplotlib inline"
   ]
  },
  {
   "cell_type": "markdown",
   "metadata": {},
   "source": [
    "# Imports"
   ]
  },
  {
   "cell_type": "code",
   "execution_count": null,
   "metadata": {},
   "outputs": [],
   "source": [
    "import pandas as pd\n",
    "import numpy as np"
   ]
  },
  {
   "cell_type": "markdown",
   "metadata": {},
   "source": [
    "# Load in the clean *E. coli* `.tsv` file\n"
   ]
  },
  {
   "cell_type": "code",
   "execution_count": null,
   "metadata": {},
   "outputs": [],
   "source": [
    "df = pd.read_csv('../Data/NCBI_phage_db/host_genomes/562.clean.tsv', sep='\\t')\n",
    "df.head()"
   ]
  },
  {
   "cell_type": "markdown",
   "metadata": {},
   "source": [
    "**Some later data will require the \"Gene\" merge so make it a dedicated column and filter any duplicates**"
   ]
  },
  {
   "cell_type": "code",
   "execution_count": null,
   "metadata": {},
   "outputs": [],
   "source": [
    "print(df.shape)\n",
    "df = df.drop_duplicates('gene_id', keep=False)\n",
    "print(df.shape)\n",
    "df = df.drop_duplicates('locus_tag', keep=False)\n",
    "print(df.shape)"
   ]
  },
  {
   "cell_type": "markdown",
   "metadata": {},
   "source": [
    "# Add in knowledge of protein abundances and join the dataframes\n",
    "\n",
    "This comes from PaxDB (release 4.1). See:\n",
    "\n",
    "https://pax-db.org/\n",
    "\n",
    "and the associated paper:\n",
    "\n",
    "https://doi.org/10.1002/pmic.201400441"
   ]
  },
  {
   "cell_type": "code",
   "execution_count": null,
   "metadata": {},
   "outputs": [],
   "source": [
    "prot_df = pd.read_csv('../Data/562_associated_data/511145-WHOLE_ORGANISM-integrated.txt',\\\n",
    "                      sep='\\t', comment='#', header=None)\n",
    "print(prot_df.shape)\n",
    "\n",
    "###Add in a dedicated `locus_tag` column by splitting column 1\n",
    "prot_df['locus_tag']= prot_df[1].str.split(\".\", n = 1, expand = True)[1]\n",
    "assert prot_df['locus_tag'].value_counts().max() == 1\n",
    "\n",
    "###Rename the columns and drop the unnecessary bits\n",
    "prot_df = prot_df.drop([0, 1], axis=1)\n",
    "prot_df.columns = ['prot_abundance', 'locus_tag']\n",
    "\n",
    "###Merge with the original dataframe on `locus_tag`\n",
    "combined_df = df.merge(prot_df, on='locus_tag', how='left')\n",
    "print(combined_df.shape)\n",
    "\n",
    "###Not sure how 0.0 protein abundances are determined / make sense so let's change them to NaN\n",
    "print(combined_df[combined_df['prot_abundance']==0.0].shape)\n",
    "combined_df.at[combined_df[combined_df['prot_abundance']==0.0].index, 'prot_abundance'] = np.nan\n",
    "print(combined_df[combined_df['prot_abundance'].isnull()].shape)\n",
    "combined_df.head()"
   ]
  },
  {
   "cell_type": "code",
   "execution_count": null,
   "metadata": {},
   "outputs": [],
   "source": []
  },
  {
   "cell_type": "markdown",
   "metadata": {},
   "source": [
    "# Add in translation efficiency data\n",
    "\n",
    "This data comes from two separate data sources:\n",
    "\n",
    "https://doi.org/10.1016/j.cell.2014.02.033\n",
    "\n",
    "and more recently:\n",
    "\n",
    "https://doi.org/10.15252/msb.20188719"
   ]
  },
  {
   "cell_type": "code",
   "execution_count": null,
   "metadata": {},
   "outputs": [],
   "source": [
    "teff_df = pd.read_excel('../Data/562_associated_data/Li_et_al_2014.xlsx')\n",
    "print(teff_df.shape)\n",
    "teff_df = teff_df.drop(['mRNA level (RPKM)'], axis=1)\n",
    "teff_df.columns = ['gene_id', 'trans_eff_2014']\n",
    "\n",
    "combined_df = combined_df.merge(teff_df, on='gene_id', how='left')\n",
    "print(combined_df.shape)\n",
    "combined_df.head()"
   ]
  },
  {
   "cell_type": "code",
   "execution_count": null,
   "metadata": {},
   "outputs": [],
   "source": [
    "###Read in data from two separate experiments\n",
    "teff_df1 = pd.read_excel('../Data/562_associated_data/msb188719-sup-0002-datasetev1.xlsx',\\\n",
    "                       sheet_name='LacZ')\n",
    "teff_df2 = pd.read_excel('../Data/562_associated_data/msb188719-sup-0002-datasetev1.xlsx',\\\n",
    "                       sheet_name='PK-LacZ')\n",
    "\n",
    "###And average them to calculate trans_eff_2019\n",
    "teff_df1.columns = ['gene_id', 'teff1', 'teff2']\n",
    "teff_df2.columns = ['gene_id', 'teff1', 'teff2']\n",
    "teff_df = teff_df1.merge(teff_df2, on='gene_id')\n",
    "teff_df['trans_eff_2019'] = np.mean(teff_df[['teff1_x', 'teff1_y']], axis=1)\n",
    "\n",
    "###Append to full dataframe\n",
    "teff_df = teff_df.drop(['teff1_x', 'teff1_y', 'teff2_x', 'teff2_y'], axis=1)\n",
    "combined_df = combined_df.merge(teff_df, on='gene_id', how='left')\n",
    "print(combined_df.shape)\n",
    "combined_df.head()"
   ]
  },
  {
   "cell_type": "code",
   "execution_count": null,
   "metadata": {},
   "outputs": [],
   "source": []
  },
  {
   "cell_type": "markdown",
   "metadata": {},
   "source": [
    "# Add in knowledge from two essential gene sets\n",
    "\n",
    "Using two separate datasets for robustness. First:\n",
    "\n",
    "https://doi.org/10.1128/mBio.02096-17\n",
    "\n",
    "And then:\n",
    "https://doi.org/10.1038/s41586-018-0124-0"
   ]
  },
  {
   "cell_type": "code",
   "execution_count": null,
   "metadata": {},
   "outputs": [],
   "source": [
    "essential_df = pd.read_csv('../Data/562_associated_data/ecoli_essential.txt', sep='\\t')\n",
    "essential_df.rename(columns={'Gene':'gene_id'}, inplace=True)\n",
    "print('All:', essential_df.shape)\n",
    "print('Essential:', essential_df[essential_df['Essential'] == True].shape)\n",
    "print('Non-essential:', essential_df[essential_df['Non-essential'] == True].shape)\n",
    "print('Unclear:', essential_df[essential_df['Unclear'] == True].shape)\n",
    "\n",
    "###Re-factoring this dataframe a bit\n",
    "essential_df['essentiality_ds1'] = ''\n",
    "indices = essential_df[essential_df['Essential']==True].index\n",
    "essential_df.loc[indices, 'essentiality_ds1'] = 'Essential'\n",
    "indices = essential_df[essential_df['Non-essential']==True].index\n",
    "essential_df.loc[indices, 'essentiality_ds1'] = 'Non-essential'\n",
    "indices = essential_df[essential_df['Unclear']==True].index\n",
    "essential_df.loc[indices, 'essentiality_ds1'] = 'Unclear'\n",
    "print(essential_df['essentiality_ds1'].value_counts())\n",
    "\n",
    "###Drop the unnecessary bits\n",
    "essential_df = essential_df.drop(set(essential_df.columns)-set(['gene_id', 'essentiality_ds1']), axis=1)\n",
    "\n",
    "###And combine\n",
    "combined_df = combined_df.merge(essential_df, on='gene_id', how='left')\n",
    "print(combined_df.shape)\n",
    "combined_df.head()"
   ]
  },
  {
   "cell_type": "code",
   "execution_count": null,
   "metadata": {},
   "outputs": [],
   "source": [
    "essential_df = pd.read_csv('../Data/562_associated_data/ecoli_essential_Price.txt', sep='\\t', skiprows=13)\n",
    "print(essential_df.shape)\n",
    "\n",
    "###Drop the unnecessary bits\n",
    "essential_df['essentiality_ds2'] = 'Essential'\n",
    "essential_df = essential_df.drop(set(essential_df.columns) - set(['sysName', 'essentiality_ds2']), axis=1)\n",
    "essential_df.columns = ['locus_tag', 'essentiality_ds2']\n",
    "\n",
    "###And merge\n",
    "combined_df = combined_df.merge(essential_df, on='locus_tag', how='left')\n",
    "print(combined_df.shape)\n",
    "indices = combined_df[combined_df['essentiality_ds2']!='Essential'].index\n",
    "combined_df.loc[indices, 'essentiality_ds2'] = 'Non-essential'\n",
    "combined_df.head()"
   ]
  },
  {
   "cell_type": "markdown",
   "metadata": {},
   "source": [
    "**Finally, add a consensus column of gene essentiality**"
   ]
  },
  {
   "cell_type": "code",
   "execution_count": null,
   "metadata": {},
   "outputs": [],
   "source": [
    "combined_df['essentiality'] = 'Unclear'\n",
    "indices = combined_df[(combined_df['essentiality_ds1']=='Essential')&\n",
    "                      (combined_df['essentiality_ds2']=='Essential')].index\n",
    "combined_df.at[indices, 'essentiality'] = 'Essential'\n",
    "indices = combined_df[(combined_df['essentiality_ds1']!='Essential')&\n",
    "                      (combined_df['essentiality_ds2']!='Essential')].index\n",
    "combined_df.at[indices, 'essentiality'] = 'Non-essential'\n",
    "\n",
    "print(combined_df['essentiality'].value_counts())\n",
    "combined_df.head()"
   ]
  },
  {
   "cell_type": "markdown",
   "metadata": {},
   "source": [
    "# Save file"
   ]
  },
  {
   "cell_type": "code",
   "execution_count": null,
   "metadata": {},
   "outputs": [],
   "source": [
    "combined_df.to_csv('../Data/562_associated_data/ecoli.combined.tsv', sep='\\t')"
   ]
  },
  {
   "cell_type": "code",
   "execution_count": null,
   "metadata": {},
   "outputs": [],
   "source": []
  }
 ],
 "metadata": {
  "kernelspec": {
   "display_name": "Python 3",
   "language": "python",
   "name": "python3"
  },
  "language_info": {
   "codemirror_mode": {
    "name": "ipython",
    "version": 3
   },
   "file_extension": ".py",
   "mimetype": "text/x-python",
   "name": "python",
   "nbconvert_exporter": "python",
   "pygments_lexer": "ipython3",
   "version": "3.7.7"
  },
  "toc": {
   "colors": {
    "hover_highlight": "#DAA520",
    "navigate_num": "#000000",
    "navigate_text": "#333333",
    "running_highlight": "#FF0000",
    "selected_highlight": "#FFD700",
    "sidebar_border": "#EEEEEE",
    "wrapper_background": "#FFFFFF"
   },
   "moveMenuLeft": true,
   "nav_menu": {
    "height": "102px",
    "width": "252px"
   },
   "navigate_menu": true,
   "number_sections": true,
   "sideBar": true,
   "threshold": 4,
   "toc_cell": false,
   "toc_section_display": "block",
   "toc_window_display": false,
   "widenNotebook": false
  }
 },
 "nbformat": 4,
 "nbformat_minor": 2
}
