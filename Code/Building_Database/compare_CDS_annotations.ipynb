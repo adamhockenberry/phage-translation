{
 "cells": [
  {
   "cell_type": "code",
   "execution_count": 5,
   "metadata": {},
   "outputs": [],
   "source": [
    "from Bio import SeqIO\n",
    "import pandas as pd"
   ]
  },
  {
   "cell_type": "markdown",
   "metadata": {},
   "source": [
    "**For T7 first**"
   ]
  },
  {
   "cell_type": "code",
   "execution_count": 55,
   "metadata": {},
   "outputs": [],
   "source": [
    "# actual_genome = SeqIO.read('../Data/benchmark_viruses/T7.fasta', 'fasta')\n",
    "# predict_genome = SeqIO.read('../Data/benchmark_viruses/T7_predict.fasta', 'fasta')\n",
    "\n",
    "actual_genome = SeqIO.read('../Data/benchmark_viruses/lambda.fasta', 'fasta')\n",
    "predict_genome = SeqIO.read('../Data/benchmark_viruses/lambda_predict.fasta', 'fasta')"
   ]
  },
  {
   "cell_type": "code",
   "execution_count": 56,
   "metadata": {},
   "outputs": [
    {
     "data": {
      "text/plain": [
       "True"
      ]
     },
     "execution_count": 56,
     "metadata": {},
     "output_type": "execute_result"
    }
   ],
   "source": [
    "actual_genome.seq == predict_genome.seq"
   ]
  },
  {
   "cell_type": "code",
   "execution_count": 57,
   "metadata": {},
   "outputs": [
    {
     "data": {
      "text/html": [
       "<div>\n",
       "<style scoped>\n",
       "    .dataframe tbody tr th:only-of-type {\n",
       "        vertical-align: middle;\n",
       "    }\n",
       "\n",
       "    .dataframe tbody tr th {\n",
       "        vertical-align: top;\n",
       "    }\n",
       "\n",
       "    .dataframe thead th {\n",
       "        text-align: right;\n",
       "    }\n",
       "</style>\n",
       "<table border=\"1\" class=\"dataframe\">\n",
       "  <thead>\n",
       "    <tr style=\"text-align: right;\">\n",
       "      <th></th>\n",
       "      <th>0</th>\n",
       "      <th>1</th>\n",
       "      <th>2</th>\n",
       "      <th>3</th>\n",
       "      <th>4</th>\n",
       "      <th>5</th>\n",
       "      <th>6</th>\n",
       "      <th>7</th>\n",
       "      <th>8</th>\n",
       "    </tr>\n",
       "  </thead>\n",
       "  <tbody>\n",
       "    <tr>\n",
       "      <th>2</th>\n",
       "      <td>NC_001416.1</td>\n",
       "      <td>RefSeq</td>\n",
       "      <td>CDS</td>\n",
       "      <td>191</td>\n",
       "      <td>736</td>\n",
       "      <td>.</td>\n",
       "      <td>+</td>\n",
       "      <td>0</td>\n",
       "      <td>ID=cds-NP_040580.1;Parent=gene-lambdap01;Dbxre...</td>\n",
       "    </tr>\n",
       "    <tr>\n",
       "      <th>4</th>\n",
       "      <td>NC_001416.1</td>\n",
       "      <td>RefSeq</td>\n",
       "      <td>CDS</td>\n",
       "      <td>711</td>\n",
       "      <td>2636</td>\n",
       "      <td>.</td>\n",
       "      <td>+</td>\n",
       "      <td>0</td>\n",
       "      <td>ID=cds-NP_040581.1;Parent=gene-lambdap02;Dbxre...</td>\n",
       "    </tr>\n",
       "    <tr>\n",
       "      <th>6</th>\n",
       "      <td>NC_001416.1</td>\n",
       "      <td>RefSeq</td>\n",
       "      <td>CDS</td>\n",
       "      <td>2633</td>\n",
       "      <td>2839</td>\n",
       "      <td>.</td>\n",
       "      <td>+</td>\n",
       "      <td>0</td>\n",
       "      <td>ID=cds-NP_040582.1;Parent=gene-lambdap03;Dbxre...</td>\n",
       "    </tr>\n",
       "    <tr>\n",
       "      <th>8</th>\n",
       "      <td>NC_001416.1</td>\n",
       "      <td>RefSeq</td>\n",
       "      <td>CDS</td>\n",
       "      <td>2836</td>\n",
       "      <td>4437</td>\n",
       "      <td>.</td>\n",
       "      <td>+</td>\n",
       "      <td>0</td>\n",
       "      <td>ID=cds-NP_040583.1;Parent=gene-lambdap04;Dbxre...</td>\n",
       "    </tr>\n",
       "    <tr>\n",
       "      <th>10</th>\n",
       "      <td>NC_001416.1</td>\n",
       "      <td>RefSeq</td>\n",
       "      <td>CDS</td>\n",
       "      <td>4418</td>\n",
       "      <td>5737</td>\n",
       "      <td>.</td>\n",
       "      <td>+</td>\n",
       "      <td>0</td>\n",
       "      <td>ID=cds-NP_040584.1;Parent=gene-lambdap05;Dbxre...</td>\n",
       "    </tr>\n",
       "  </tbody>\n",
       "</table>\n",
       "</div>"
      ],
      "text/plain": [
       "              0       1    2     3     4  5  6  7  \\\n",
       "2   NC_001416.1  RefSeq  CDS   191   736  .  +  0   \n",
       "4   NC_001416.1  RefSeq  CDS   711  2636  .  +  0   \n",
       "6   NC_001416.1  RefSeq  CDS  2633  2839  .  +  0   \n",
       "8   NC_001416.1  RefSeq  CDS  2836  4437  .  +  0   \n",
       "10  NC_001416.1  RefSeq  CDS  4418  5737  .  +  0   \n",
       "\n",
       "                                                    8  \n",
       "2   ID=cds-NP_040580.1;Parent=gene-lambdap01;Dbxre...  \n",
       "4   ID=cds-NP_040581.1;Parent=gene-lambdap02;Dbxre...  \n",
       "6   ID=cds-NP_040582.1;Parent=gene-lambdap03;Dbxre...  \n",
       "8   ID=cds-NP_040583.1;Parent=gene-lambdap04;Dbxre...  \n",
       "10  ID=cds-NP_040584.1;Parent=gene-lambdap05;Dbxre...  "
      ]
     },
     "execution_count": 57,
     "metadata": {},
     "output_type": "execute_result"
    }
   ],
   "source": [
    "# actual_df = pd.read_csv('../Data/benchmark_viruses/T7.gff3', header=None, comment='#', sep='\\t')\n",
    "actual_df = pd.read_csv('../Data/benchmark_viruses/lambda.gff3', header=None, comment='#', sep='\\t')\n",
    "\n",
    "actual_df = actual_df[actual_df[2]=='CDS']\n",
    "actual_df.head()"
   ]
  },
  {
   "cell_type": "code",
   "execution_count": 58,
   "metadata": {},
   "outputs": [
    {
     "data": {
      "text/html": [
       "<div>\n",
       "<style scoped>\n",
       "    .dataframe tbody tr th:only-of-type {\n",
       "        vertical-align: middle;\n",
       "    }\n",
       "\n",
       "    .dataframe tbody tr th {\n",
       "        vertical-align: top;\n",
       "    }\n",
       "\n",
       "    .dataframe thead th {\n",
       "        text-align: right;\n",
       "    }\n",
       "</style>\n",
       "<table border=\"1\" class=\"dataframe\">\n",
       "  <thead>\n",
       "    <tr style=\"text-align: right;\">\n",
       "      <th></th>\n",
       "      <th>0</th>\n",
       "      <th>1</th>\n",
       "      <th>2</th>\n",
       "      <th>3</th>\n",
       "      <th>4</th>\n",
       "      <th>5</th>\n",
       "      <th>6</th>\n",
       "      <th>7</th>\n",
       "      <th>8</th>\n",
       "    </tr>\n",
       "  </thead>\n",
       "  <tbody>\n",
       "    <tr>\n",
       "      <th>0</th>\n",
       "      <td>NC_001416|10710</td>\n",
       "      <td>Prodigal_v2.6.3</td>\n",
       "      <td>CDS</td>\n",
       "      <td>191</td>\n",
       "      <td>736</td>\n",
       "      <td>70.5</td>\n",
       "      <td>+</td>\n",
       "      <td>0</td>\n",
       "      <td>ID=349_1;partial=00;start_type=ATG;rbs_motif=G...</td>\n",
       "    </tr>\n",
       "    <tr>\n",
       "      <th>1</th>\n",
       "      <td>NC_001416|10710</td>\n",
       "      <td>Prodigal_v2.6.3</td>\n",
       "      <td>CDS</td>\n",
       "      <td>711</td>\n",
       "      <td>2636</td>\n",
       "      <td>215.1</td>\n",
       "      <td>+</td>\n",
       "      <td>0</td>\n",
       "      <td>ID=349_2;partial=00;start_type=GTG;rbs_motif=N...</td>\n",
       "    </tr>\n",
       "    <tr>\n",
       "      <th>2</th>\n",
       "      <td>NC_001416|10710</td>\n",
       "      <td>Prodigal_v2.6.3</td>\n",
       "      <td>CDS</td>\n",
       "      <td>2633</td>\n",
       "      <td>2839</td>\n",
       "      <td>30.5</td>\n",
       "      <td>+</td>\n",
       "      <td>0</td>\n",
       "      <td>ID=349_3;partial=00;start_type=ATG;rbs_motif=G...</td>\n",
       "    </tr>\n",
       "    <tr>\n",
       "      <th>3</th>\n",
       "      <td>NC_001416|10710</td>\n",
       "      <td>Prodigal_v2.6.3</td>\n",
       "      <td>CDS</td>\n",
       "      <td>2836</td>\n",
       "      <td>4437</td>\n",
       "      <td>173.5</td>\n",
       "      <td>+</td>\n",
       "      <td>0</td>\n",
       "      <td>ID=349_4;partial=00;start_type=ATG;rbs_motif=A...</td>\n",
       "    </tr>\n",
       "    <tr>\n",
       "      <th>4</th>\n",
       "      <td>NC_001416|10710</td>\n",
       "      <td>Prodigal_v2.6.3</td>\n",
       "      <td>CDS</td>\n",
       "      <td>4418</td>\n",
       "      <td>5737</td>\n",
       "      <td>161.4</td>\n",
       "      <td>+</td>\n",
       "      <td>0</td>\n",
       "      <td>ID=349_5;partial=00;start_type=GTG;rbs_motif=A...</td>\n",
       "    </tr>\n",
       "  </tbody>\n",
       "</table>\n",
       "</div>"
      ],
      "text/plain": [
       "                 0                1    2     3     4      5  6  7  \\\n",
       "0  NC_001416|10710  Prodigal_v2.6.3  CDS   191   736   70.5  +  0   \n",
       "1  NC_001416|10710  Prodigal_v2.6.3  CDS   711  2636  215.1  +  0   \n",
       "2  NC_001416|10710  Prodigal_v2.6.3  CDS  2633  2839   30.5  +  0   \n",
       "3  NC_001416|10710  Prodigal_v2.6.3  CDS  2836  4437  173.5  +  0   \n",
       "4  NC_001416|10710  Prodigal_v2.6.3  CDS  4418  5737  161.4  +  0   \n",
       "\n",
       "                                                   8  \n",
       "0  ID=349_1;partial=00;start_type=ATG;rbs_motif=G...  \n",
       "1  ID=349_2;partial=00;start_type=GTG;rbs_motif=N...  \n",
       "2  ID=349_3;partial=00;start_type=ATG;rbs_motif=G...  \n",
       "3  ID=349_4;partial=00;start_type=ATG;rbs_motif=A...  \n",
       "4  ID=349_5;partial=00;start_type=GTG;rbs_motif=A...  "
      ]
     },
     "execution_count": 58,
     "metadata": {},
     "output_type": "execute_result"
    }
   ],
   "source": [
    "# predict_df = pd.read_csv('../Data/benchmark_viruses/T7_predict.gff3', header=None, comment='#', sep='\\t')\n",
    "predict_df = pd.read_csv('../Data/benchmark_viruses/lambda_predict.gff3', header=None, comment='#', sep='\\t')\n",
    "\n",
    "predict_df.head()"
   ]
  },
  {
   "cell_type": "markdown",
   "metadata": {},
   "source": [
    "# Now for some comparisons"
   ]
  },
  {
   "cell_type": "code",
   "execution_count": 59,
   "metadata": {},
   "outputs": [
    {
     "data": {
      "text/plain": [
       "((73, 9), (66, 9))"
      ]
     },
     "execution_count": 59,
     "metadata": {},
     "output_type": "execute_result"
    }
   ],
   "source": [
    "actual_df.shape, predict_df.shape"
   ]
  },
  {
   "cell_type": "code",
   "execution_count": 64,
   "metadata": {},
   "outputs": [
    {
     "data": {
      "text/plain": [
       "((47, 9), (42, 9))"
      ]
     },
     "execution_count": 64,
     "metadata": {},
     "output_type": "execute_result"
    }
   ],
   "source": [
    "actual_df[actual_df[6]=='+'].shape, predict_df[predict_df[6]=='+'].shape"
   ]
  },
  {
   "cell_type": "code",
   "execution_count": 65,
   "metadata": {},
   "outputs": [],
   "source": [
    "actual_df = actual_df[actual_df[6]=='+']\n",
    "predict_df = predict_df[predict_df[6]=='+']"
   ]
  },
  {
   "cell_type": "code",
   "execution_count": 66,
   "metadata": {},
   "outputs": [],
   "source": [
    "actual_stops = actual_df[4]\n",
    "predict_stops = predict_df[4]"
   ]
  },
  {
   "cell_type": "code",
   "execution_count": 67,
   "metadata": {},
   "outputs": [
    {
     "data": {
      "text/plain": [
       "(45, 42)"
      ]
     },
     "execution_count": 67,
     "metadata": {},
     "output_type": "execute_result"
    }
   ],
   "source": [
    "len(set(actual_stops)), len(set(predict_stops))"
   ]
  },
  {
   "cell_type": "code",
   "execution_count": 68,
   "metadata": {},
   "outputs": [
    {
     "name": "stdout",
     "output_type": "stream",
     "text": [
      "42\n",
      "41\n"
     ]
    }
   ],
   "source": [
    "a = set(predict_stops)\n",
    "print(len(a))\n",
    "print(len(a.intersection(set(actual_stops))))"
   ]
  },
  {
   "cell_type": "code",
   "execution_count": 69,
   "metadata": {},
   "outputs": [
    {
     "name": "stdout",
     "output_type": "stream",
     "text": [
      "45\n",
      "41\n"
     ]
    }
   ],
   "source": [
    "a = set(actual_stops)\n",
    "print(len(a))\n",
    "print(len(a.intersection(set(predict_stops))))"
   ]
  },
  {
   "cell_type": "code",
   "execution_count": 70,
   "metadata": {},
   "outputs": [],
   "source": [
    "actual_df = actual_df[actual_df[4].isin(predict_stops)]"
   ]
  },
  {
   "cell_type": "code",
   "execution_count": 71,
   "metadata": {},
   "outputs": [],
   "source": [
    "actual_starts = actual_df[3]\n",
    "predict_starts = predict_df[3]"
   ]
  },
  {
   "cell_type": "code",
   "execution_count": 72,
   "metadata": {},
   "outputs": [
    {
     "data": {
      "text/plain": [
       "(43, 42, 43, 42)"
      ]
     },
     "execution_count": 72,
     "metadata": {},
     "output_type": "execute_result"
    }
   ],
   "source": [
    "len(actual_starts), len(predict_starts), len(set(actual_starts)), len(set(predict_starts))"
   ]
  },
  {
   "cell_type": "code",
   "execution_count": 73,
   "metadata": {},
   "outputs": [
    {
     "name": "stdout",
     "output_type": "stream",
     "text": [
      "42\n",
      "39\n"
     ]
    }
   ],
   "source": [
    "a = set(predict_starts)\n",
    "print(len(a))\n",
    "print(len(a.intersection(set(actual_starts))))"
   ]
  },
  {
   "cell_type": "code",
   "execution_count": 74,
   "metadata": {},
   "outputs": [
    {
     "name": "stdout",
     "output_type": "stream",
     "text": [
      "43\n",
      "39\n"
     ]
    }
   ],
   "source": [
    "a = set(actual_starts)\n",
    "print(len(a))\n",
    "print(len(a.intersection(set(predict_starts))))"
   ]
  },
  {
   "cell_type": "code",
   "execution_count": null,
   "metadata": {},
   "outputs": [],
   "source": []
  }
 ],
 "metadata": {
  "kernelspec": {
   "display_name": "Python 3",
   "language": "python",
   "name": "python3"
  },
  "language_info": {
   "codemirror_mode": {
    "name": "ipython",
    "version": 3
   },
   "file_extension": ".py",
   "mimetype": "text/x-python",
   "name": "python",
   "nbconvert_exporter": "python",
   "pygments_lexer": "ipython3",
   "version": "3.7.7"
  },
  "toc": {
   "colors": {
    "hover_highlight": "#DAA520",
    "navigate_num": "#000000",
    "navigate_text": "#333333",
    "running_highlight": "#FF0000",
    "selected_highlight": "#FFD700",
    "sidebar_border": "#EEEEEE",
    "wrapper_background": "#FFFFFF"
   },
   "moveMenuLeft": true,
   "nav_menu": {
    "height": "30px",
    "width": "252px"
   },
   "navigate_menu": true,
   "number_sections": true,
   "sideBar": true,
   "threshold": 4,
   "toc_cell": false,
   "toc_section_display": "block",
   "toc_window_display": false,
   "widenNotebook": false
  }
 },
 "nbformat": 4,
 "nbformat_minor": 2
}
