{
 "cells": [
  {
   "cell_type": "markdown",
   "metadata": {},
   "source": [
    "# Purpose: This notebook was used to read/extract phage fasta files from the [MVP database](https://doi.org/10.1093/nar/gkx1124)  and categorize the files according to individual hosts for downstream analysis"
   ]
  },
  {
   "cell_type": "code",
   "execution_count": 1,
   "metadata": {},
   "outputs": [],
   "source": [
    "from Bio import SeqIO\n",
    "import pandas as pd\n",
    "import os"
   ]
  },
  {
   "cell_type": "markdown",
   "metadata": {},
   "source": [
    "# The main file containing interacting viral clusters\n",
    "\n",
    "**Just exploring some of the MVP files (E. coli taxid is 562), and note that these ar representatives from the clusters and therefore have been made at least a bit less redundant**"
   ]
  },
  {
   "cell_type": "code",
   "execution_count": 8,
   "metadata": {},
   "outputs": [
    {
     "name": "stdout",
     "output_type": "stream",
     "text": [
      "(27854, 5)\n",
      "(26944, 5)\n",
      "(25572, 5)\n"
     ]
    },
    {
     "data": {
      "text/html": [
       "<div>\n",
       "<style scoped>\n",
       "    .dataframe tbody tr th:only-of-type {\n",
       "        vertical-align: middle;\n",
       "    }\n",
       "\n",
       "    .dataframe tbody tr th {\n",
       "        vertical-align: top;\n",
       "    }\n",
       "\n",
       "    .dataframe thead th {\n",
       "        text-align: right;\n",
       "    }\n",
       "</style>\n",
       "<table border=\"1\" class=\"dataframe\">\n",
       "  <thead>\n",
       "    <tr style=\"text-align: right;\">\n",
       "      <th></th>\n",
       "      <th>interaction_uid</th>\n",
       "      <th>host_taxon_id</th>\n",
       "      <th>host_rank</th>\n",
       "      <th>host_superkingdom</th>\n",
       "      <th>viral_cluster_id</th>\n",
       "    </tr>\n",
       "  </thead>\n",
       "  <tbody>\n",
       "    <tr>\n",
       "      <th>1</th>\n",
       "      <td>2</td>\n",
       "      <td>562</td>\n",
       "      <td>species</td>\n",
       "      <td>Bacteria</td>\n",
       "      <td>177</td>\n",
       "    </tr>\n",
       "    <tr>\n",
       "      <th>58</th>\n",
       "      <td>59</td>\n",
       "      <td>562</td>\n",
       "      <td>species</td>\n",
       "      <td>Bacteria</td>\n",
       "      <td>229</td>\n",
       "    </tr>\n",
       "    <tr>\n",
       "      <th>154</th>\n",
       "      <td>155</td>\n",
       "      <td>562</td>\n",
       "      <td>species</td>\n",
       "      <td>Bacteria</td>\n",
       "      <td>335</td>\n",
       "    </tr>\n",
       "    <tr>\n",
       "      <th>156</th>\n",
       "      <td>157</td>\n",
       "      <td>562</td>\n",
       "      <td>species</td>\n",
       "      <td>Bacteria</td>\n",
       "      <td>337</td>\n",
       "    </tr>\n",
       "    <tr>\n",
       "      <th>355</th>\n",
       "      <td>356</td>\n",
       "      <td>562</td>\n",
       "      <td>species</td>\n",
       "      <td>Bacteria</td>\n",
       "      <td>382</td>\n",
       "    </tr>\n",
       "    <tr>\n",
       "      <th>...</th>\n",
       "      <td>...</td>\n",
       "      <td>...</td>\n",
       "      <td>...</td>\n",
       "      <td>...</td>\n",
       "      <td>...</td>\n",
       "    </tr>\n",
       "    <tr>\n",
       "      <th>25960</th>\n",
       "      <td>25961</td>\n",
       "      <td>562</td>\n",
       "      <td>species</td>\n",
       "      <td>Bacteria</td>\n",
       "      <td>534</td>\n",
       "    </tr>\n",
       "    <tr>\n",
       "      <th>25961</th>\n",
       "      <td>25962</td>\n",
       "      <td>562</td>\n",
       "      <td>species</td>\n",
       "      <td>Bacteria</td>\n",
       "      <td>191</td>\n",
       "    </tr>\n",
       "    <tr>\n",
       "      <th>25964</th>\n",
       "      <td>25965</td>\n",
       "      <td>562</td>\n",
       "      <td>species</td>\n",
       "      <td>Bacteria</td>\n",
       "      <td>206</td>\n",
       "    </tr>\n",
       "    <tr>\n",
       "      <th>26146</th>\n",
       "      <td>26147</td>\n",
       "      <td>562</td>\n",
       "      <td>species</td>\n",
       "      <td>Bacteria</td>\n",
       "      <td>544</td>\n",
       "    </tr>\n",
       "    <tr>\n",
       "      <th>26602</th>\n",
       "      <td>26603</td>\n",
       "      <td>562</td>\n",
       "      <td>species</td>\n",
       "      <td>Bacteria</td>\n",
       "      <td>6435</td>\n",
       "    </tr>\n",
       "  </tbody>\n",
       "</table>\n",
       "<p>424 rows × 5 columns</p>\n",
       "</div>"
      ],
      "text/plain": [
       "       interaction_uid  host_taxon_id host_rank host_superkingdom  \\\n",
       "1                    2            562   species          Bacteria   \n",
       "58                  59            562   species          Bacteria   \n",
       "154                155            562   species          Bacteria   \n",
       "156                157            562   species          Bacteria   \n",
       "355                356            562   species          Bacteria   \n",
       "...                ...            ...       ...               ...   \n",
       "25960            25961            562   species          Bacteria   \n",
       "25961            25962            562   species          Bacteria   \n",
       "25964            25965            562   species          Bacteria   \n",
       "26146            26147            562   species          Bacteria   \n",
       "26602            26603            562   species          Bacteria   \n",
       "\n",
       "       viral_cluster_id  \n",
       "1                   177  \n",
       "58                  229  \n",
       "154                 335  \n",
       "156                 337  \n",
       "355                 382  \n",
       "...                 ...  \n",
       "25960               534  \n",
       "25961               191  \n",
       "25964               206  \n",
       "26146               544  \n",
       "26602              6435  \n",
       "\n",
       "[424 rows x 5 columns]"
      ]
     },
     "execution_count": 8,
     "metadata": {},
     "output_type": "execute_result"
    }
   ],
   "source": [
    "interactions_df = pd.read_csv('../../Data/MVP_data/MVP_DB/mvp_interactions.txt.gz',\\\n",
    "                              compression='gzip',\\\n",
    "                              sep='\\t')\n",
    "print(interactions_df.shape)\n",
    "interactions_df = interactions_df[interactions_df['host_rank']=='species']\n",
    "print(interactions_df.shape)\n",
    "interactions_df = interactions_df[interactions_df['host_superkingdom']=='Bacteria']\n",
    "print(interactions_df.shape)\n",
    "\n",
    "\n",
    "###Visualize E. coli-infecting phages in the database\n",
    "interactions_df[interactions_df['host_taxon_id']==562]"
   ]
  },
  {
   "cell_type": "markdown",
   "metadata": {},
   "source": [
    "# Extracting names and lineages for the top n species with the highest number of phage representatives\n",
    "\n",
    "Where \"n\" is pretty arbitrary but I'm just manually looking to find species with decently large data avaialbility  "
   ]
  },
  {
   "cell_type": "code",
   "execution_count": 9,
   "metadata": {},
   "outputs": [
    {
     "data": {
      "text/plain": [
       "562       424\n",
       "287       185\n",
       "1280      150\n",
       "573       107\n",
       "470        99\n",
       "657318     92\n",
       "657321     78\n",
       "83334      73\n",
       "357276     63\n",
       "1428       62\n",
       "1639       60\n",
       "657319     55\n",
       "1314       44\n",
       "665950     42\n",
       "90371      41\n",
       "1423       41\n",
       "28450      40\n",
       "435591     40\n",
       "72407      40\n",
       "1590       40\n",
       "411479     39\n",
       "1396       35\n",
       "411477     33\n",
       "748224     32\n",
       "411476     31\n",
       "411901     31\n",
       "718255     31\n",
       "571        31\n",
       "46170      30\n",
       "492670     30\n",
       "592028     30\n",
       "657309     28\n",
       "36809      28\n",
       "717959     27\n",
       "305        27\n",
       "Name: host_taxon_id, dtype: int64"
      ]
     },
     "execution_count": 9,
     "metadata": {},
     "output_type": "execute_result"
    }
   ],
   "source": [
    "n = 35\n",
    "topN = interactions_df[(interactions_df['host_rank']=='species')&\\\n",
    "                      (interactions_df['host_superkingdom']=='Bacteria')]['host_taxon_id'].value_counts()[:n]\n",
    "topN"
   ]
  },
  {
   "cell_type": "markdown",
   "metadata": {},
   "source": [
    "**Grabbing full taxonomies from this data**\n",
    "\n",
    "I used these taxonomies to **manually** select species to move forward with. \n",
    "1. Starting at the top, I took all species for which I could find a complete (not broken into CONTIGs) genome. \n",
    "\n",
    "2. Next, I then skipped any taxon that already had an identical genus level lineage.\n",
    "\n",
    "I used these taxon id's to **manually** download `.fasta` and `.gff3` files for the hosts since the numbers were fairly small"
   ]
  },
  {
   "cell_type": "code",
   "execution_count": 10,
   "metadata": {},
   "outputs": [
    {
     "name": "stdout",
     "output_type": "stream",
     "text": [
      "562 cellular organisms; Bacteria; Proteobacteria; Gammaproteobacteria; Enterobacterales; Enterobacteriaceae; Escherichia\n",
      "\n",
      "287 cellular organisms; Bacteria; Proteobacteria; Gammaproteobacteria; Pseudomonadales; Pseudomonadaceae; Pseudomonas; Pseudomonas aeruginosa group\n",
      "\n",
      "1280 cellular organisms; Bacteria; Terrabacteria group; Firmicutes; Bacilli; Bacillales; Staphylococcaceae; Staphylococcus\n",
      "\n",
      "573 cellular organisms; Bacteria; Proteobacteria; Gammaproteobacteria; Enterobacterales; Enterobacteriaceae; Klebsiella\n",
      "\n",
      "470 cellular organisms; Bacteria; Proteobacteria; Gammaproteobacteria; Pseudomonadales; Moraxellaceae; Acinetobacter; Acinetobacter calcoaceticus/baumannii complex\n",
      "\n",
      "657318 cellular organisms; Bacteria; Terrabacteria group; Firmicutes; Clostridia; Clostridiales; Lachnospiraceae; unclassified Lachnospiraceae; [Eubacterium] rectale\n",
      "\n",
      "657321 cellular organisms; Bacteria; Terrabacteria group; Firmicutes; Clostridia; Clostridiales; Ruminococcaceae; Ruminococcus; Ruminococcus bromii\n",
      "\n",
      "83334 cellular organisms; Bacteria; Proteobacteria; Gammaproteobacteria; Enterobacterales; Enterobacteriaceae; Escherichia; Escherichia coli\n",
      "\n",
      "357276 cellular organisms; Bacteria; FCB group; Bacteroidetes/Chlorobi group; Bacteroidetes; Bacteroidia; Bacteroidales; Bacteroidaceae; Bacteroides\n",
      "\n",
      "1428 cellular organisms; Bacteria; Terrabacteria group; Firmicutes; Bacilli; Bacillales; Bacillaceae; Bacillus; Bacillus cereus group\n",
      "\n",
      "1639 cellular organisms; Bacteria; Terrabacteria group; Firmicutes; Bacilli; Bacillales; Listeriaceae; Listeria\n",
      "\n",
      "657319 cellular organisms; Bacteria; Terrabacteria group; Firmicutes; Clostridia; Clostridiales; Ruminococcaceae; unclassified Ruminococcaceae; [Eubacterium] siraeum\n",
      "\n",
      "1314 cellular organisms; Bacteria; Terrabacteria group; Firmicutes; Bacilli; Lactobacillales; Streptococcaceae; Streptococcus\n",
      "\n",
      "665950 cellular organisms; Bacteria; Terrabacteria group; Firmicutes; Clostridia; Clostridiales; Lachnospiraceae; unclassified Lachnospiraceae\n",
      "\n",
      "90371 cellular organisms; Bacteria; Proteobacteria; Gammaproteobacteria; Enterobacterales; Enterobacteriaceae; Salmonella; Salmonella enterica; Salmonella enterica subsp. enterica\n",
      "\n",
      "1423 cellular organisms; Bacteria; Terrabacteria group; Firmicutes; Bacilli; Bacillales; Bacillaceae; Bacillus; Bacillus subtilis group\n",
      "\n",
      "28450 cellular organisms; Bacteria; Proteobacteria; Betaproteobacteria; Burkholderiales; Burkholderiaceae; Burkholderia; pseudomallei group\n",
      "\n",
      "435591 cellular organisms; Bacteria; FCB group; Bacteroidetes/Chlorobi group; Bacteroidetes; Bacteroidia; Bacteroidales; Tannerellaceae; Parabacteroides; Parabacteroides distasonis\n",
      "\n",
      "72407 cellular organisms; Bacteria; Proteobacteria; Gammaproteobacteria; Enterobacterales; Enterobacteriaceae; Klebsiella; Klebsiella pneumoniae\n",
      "\n",
      "1590 cellular organisms; Bacteria; Terrabacteria group; Firmicutes; Bacilli; Lactobacillales; Lactobacillaceae; Lactobacillus\n",
      "\n",
      "411479 cellular organisms; Bacteria; FCB group; Bacteroidetes/Chlorobi group; Bacteroidetes; Bacteroidia; Bacteroidales; Bacteroidaceae; Bacteroides; Bacteroides uniformis\n",
      "\n",
      "1396 cellular organisms; Bacteria; Terrabacteria group; Firmicutes; Bacilli; Bacillales; Bacillaceae; Bacillus; Bacillus cereus group\n",
      "\n",
      "411477 cellular organisms; Bacteria; FCB group; Bacteroidetes/Chlorobi group; Bacteroidetes; Bacteroidia; Bacteroidales; Tannerellaceae; Parabacteroides; Parabacteroides merdae\n",
      "\n",
      "748224 cellular organisms; Bacteria; Terrabacteria group; Firmicutes; Clostridia; Clostridiales; Ruminococcaceae; Faecalibacterium; Faecalibacterium prausnitzii\n",
      "\n",
      "411476 cellular organisms; Bacteria; FCB group; Bacteroidetes/Chlorobi group; Bacteroidetes; Bacteroidia; Bacteroidales; Bacteroidaceae; Bacteroides; Bacteroides ovatus\n",
      "\n",
      "411901 cellular organisms; Bacteria; FCB group; Bacteroidetes/Chlorobi group; Bacteroidetes; Bacteroidia; Bacteroidales; Bacteroidaceae; Bacteroides; Bacteroides caccae\n",
      "\n",
      "718255 cellular organisms; Bacteria; Terrabacteria group; Firmicutes; Clostridia; Clostridiales; Lachnospiraceae; Roseburia; Roseburia intestinalis\n",
      "\n",
      "571 cellular organisms; Bacteria; Proteobacteria; Gammaproteobacteria; Enterobacterales; Enterobacteriaceae; Klebsiella\n",
      "\n",
      "46170 cellular organisms; Bacteria; Terrabacteria group; Firmicutes; Bacilli; Bacillales; Staphylococcaceae; Staphylococcus; Staphylococcus aureus\n",
      "\n",
      "492670 cellular organisms; Bacteria; Terrabacteria group; Firmicutes; Bacilli; Bacillales; Bacillaceae; Bacillus; Bacillus subtilis group; Bacillus amyloliquefaciens group\n",
      "\n",
      "592028 cellular organisms; Bacteria; Terrabacteria group; Firmicutes; Negativicutes; Veillonellales; Veillonellaceae; Dialister; Dialister invisus\n",
      "\n",
      "657309 cellular organisms; Bacteria; FCB group; Bacteroidetes/Chlorobi group; Bacteroidetes; Bacteroidia; Bacteroidales; Bacteroidaceae; Bacteroides; Bacteroides xylanisolvens\n",
      "\n",
      "36809 cellular organisms; Bacteria; Terrabacteria group; Actinobacteria; Actinobacteria; Corynebacteriales; Mycobacteriaceae; Mycobacteroides\n",
      "\n",
      "717959 cellular organisms; Bacteria; FCB group; Bacteroidetes/Chlorobi group; Bacteroidetes; Bacteroidia; Bacteroidales; Rikenellaceae; Alistipes; Alistipes shahii\n",
      "\n",
      "305 cellular organisms; Bacteria; Proteobacteria; Betaproteobacteria; Burkholderiales; Burkholderiaceae; Ralstonia\n",
      "\n"
     ]
    }
   ],
   "source": [
    "from Bio import Entrez\n",
    "import time\n",
    "Entrez.email = 'adam.hockenberry@utexas.edu'\n",
    "for top in topN.keys():\n",
    "    handle = Entrez.efetch(db='Taxonomy', id=str(top), retmode='xml')\n",
    "    records = Entrez.read(handle)\n",
    "    assert len(records) == 1\n",
    "    record = records[0]\n",
    "    print(top, record['Lineage'])\n",
    "    print()\n",
    "    time.sleep(5)\n",
    "    "
   ]
  },
  {
   "cell_type": "code",
   "execution_count": null,
   "metadata": {},
   "outputs": [],
   "source": []
  },
  {
   "cell_type": "code",
   "execution_count": null,
   "metadata": {},
   "outputs": [],
   "source": []
  },
  {
   "cell_type": "code",
   "execution_count": null,
   "metadata": {},
   "outputs": [],
   "source": []
  },
  {
   "cell_type": "markdown",
   "metadata": {},
   "source": [
    "# Extracting and writing viral fastas for a test set\n",
    "\n",
    "**As noted above, I might want to change this to be stricter/looser with inclusion criteria. For instance:** \n",
    "1. Perhaps we should only consider analyzing viruses that *only* infect a certain species (i.e. exclude promiscuous viruses) \n",
    "2. Only analyzing/restricting prophages?\n",
    "3. Going deeper taxonomically to analyze viruses that infect a genus/family/etc.\n",
    "4. Length cutoffs are probably particularly important. Are really short genomes trustworthy at all? Maybe? Really long ones?\n",
    "5. ...\n",
    "\n",
    "**All things to keep in mind**"
   ]
  },
  {
   "cell_type": "markdown",
   "metadata": {},
   "source": [
    "**Load the sequence dataframe (this is pretty big and will take a minute or two)**"
   ]
  },
  {
   "cell_type": "code",
   "execution_count": 12,
   "metadata": {},
   "outputs": [],
   "source": [
    "reps_df = pd.read_csv('../../Data/MVP_data/MVP_DB/mvp_viral_cluster_representative_seqs.txt.gz',\\\n",
    "                      compression='gzip',\\\n",
    "                      sep='\\t')"
   ]
  },
  {
   "cell_type": "code",
   "execution_count": 13,
   "metadata": {},
   "outputs": [
    {
     "data": {
      "text/html": [
       "<div>\n",
       "<style scoped>\n",
       "    .dataframe tbody tr th:only-of-type {\n",
       "        vertical-align: middle;\n",
       "    }\n",
       "\n",
       "    .dataframe tbody tr th {\n",
       "        vertical-align: top;\n",
       "    }\n",
       "\n",
       "    .dataframe thead th {\n",
       "        text-align: right;\n",
       "    }\n",
       "</style>\n",
       "<table border=\"1\" class=\"dataframe\">\n",
       "  <thead>\n",
       "    <tr style=\"text-align: right;\">\n",
       "      <th></th>\n",
       "      <th>seq_uid</th>\n",
       "      <th>cluster_id</th>\n",
       "      <th>is_representative</th>\n",
       "      <th>mapping_to_representative</th>\n",
       "      <th>seq_name</th>\n",
       "      <th>ncbi_taxon_id</th>\n",
       "      <th>seq_length</th>\n",
       "      <th>seq_source</th>\n",
       "      <th>seq_str</th>\n",
       "    </tr>\n",
       "  </thead>\n",
       "  <tbody>\n",
       "    <tr>\n",
       "      <th>0</th>\n",
       "      <td>1</td>\n",
       "      <td>0</td>\n",
       "      <td>1</td>\n",
       "      <td>NaN</td>\n",
       "      <td>NC_014637</td>\n",
       "      <td>693272</td>\n",
       "      <td>617453</td>\n",
       "      <td>ncbi_ref_viral_genome_database</td>\n",
       "      <td>TTAAATGTGTTAAACTTTATAGGTAAACATTCTTTCTGTCATCATT...</td>\n",
       "    </tr>\n",
       "    <tr>\n",
       "      <th>1</th>\n",
       "      <td>2</td>\n",
       "      <td>1</td>\n",
       "      <td>1</td>\n",
       "      <td>NaN</td>\n",
       "      <td>NC_023423</td>\n",
       "      <td>1450746</td>\n",
       "      <td>610033</td>\n",
       "      <td>ncbi_ref_viral_genome_database</td>\n",
       "      <td>TTATAATATATCAAAGATACTTGAAATTTAGAACTTCGGTTAAAGT...</td>\n",
       "    </tr>\n",
       "    <tr>\n",
       "      <th>2</th>\n",
       "      <td>3</td>\n",
       "      <td>2</td>\n",
       "      <td>1</td>\n",
       "      <td>NaN</td>\n",
       "      <td>NC_023719</td>\n",
       "      <td>1084719</td>\n",
       "      <td>497513</td>\n",
       "      <td>ncbi_ref_viral_genome_database</td>\n",
       "      <td>ATGTTTGAATTATCAAAAATACAAAGCGATACAAAGGCTTTGCAAA...</td>\n",
       "    </tr>\n",
       "    <tr>\n",
       "      <th>3</th>\n",
       "      <td>4</td>\n",
       "      <td>3</td>\n",
       "      <td>1</td>\n",
       "      <td>NaN</td>\n",
       "      <td>NC_021312</td>\n",
       "      <td>251749</td>\n",
       "      <td>459984</td>\n",
       "      <td>ncbi_ref_viral_genome_database</td>\n",
       "      <td>AGGTCGCCAGAGGCTAAGAAGACCGCTAAGAAGACCGCTGAGGGCA...</td>\n",
       "    </tr>\n",
       "    <tr>\n",
       "      <th>4</th>\n",
       "      <td>5</td>\n",
       "      <td>4</td>\n",
       "      <td>1</td>\n",
       "      <td>NaN</td>\n",
       "      <td>NC_007346</td>\n",
       "      <td>181082</td>\n",
       "      <td>407339</td>\n",
       "      <td>ncbi_ref_viral_genome_database</td>\n",
       "      <td>TATATTTAACGCGAATGATTTAAGGATTTTTATGGTTTTAACCAAA...</td>\n",
       "    </tr>\n",
       "  </tbody>\n",
       "</table>\n",
       "</div>"
      ],
      "text/plain": [
       "   seq_uid  cluster_id  is_representative  mapping_to_representative  \\\n",
       "0        1           0                  1                        NaN   \n",
       "1        2           1                  1                        NaN   \n",
       "2        3           2                  1                        NaN   \n",
       "3        4           3                  1                        NaN   \n",
       "4        5           4                  1                        NaN   \n",
       "\n",
       "    seq_name  ncbi_taxon_id  seq_length                      seq_source  \\\n",
       "0  NC_014637         693272      617453  ncbi_ref_viral_genome_database   \n",
       "1  NC_023423        1450746      610033  ncbi_ref_viral_genome_database   \n",
       "2  NC_023719        1084719      497513  ncbi_ref_viral_genome_database   \n",
       "3  NC_021312         251749      459984  ncbi_ref_viral_genome_database   \n",
       "4  NC_007346         181082      407339  ncbi_ref_viral_genome_database   \n",
       "\n",
       "                                             seq_str  \n",
       "0  TTAAATGTGTTAAACTTTATAGGTAAACATTCTTTCTGTCATCATT...  \n",
       "1  TTATAATATATCAAAGATACTTGAAATTTAGAACTTCGGTTAAAGT...  \n",
       "2  ATGTTTGAATTATCAAAAATACAAAGCGATACAAAGGCTTTGCAAA...  \n",
       "3  AGGTCGCCAGAGGCTAAGAAGACCGCTAAGAAGACCGCTGAGGGCA...  \n",
       "4  TATATTTAACGCGAATGATTTAAGGATTTTTATGGTTTTAACCAAA...  "
      ]
     },
     "execution_count": 13,
     "metadata": {},
     "output_type": "execute_result"
    }
   ],
   "source": [
    "reps_df.head()"
   ]
  },
  {
   "cell_type": "code",
   "execution_count": null,
   "metadata": {},
   "outputs": [],
   "source": []
  },
  {
   "cell_type": "markdown",
   "metadata": {},
   "source": [
    "## Writing fasta files\n",
    "1. Write individual phage `.fasta` files to individual host-linked directories\n",
    "2. Write one large `.fasta` file for each host (to run prodigal with)\n"
   ]
  },
  {
   "cell_type": "code",
   "execution_count": 81,
   "metadata": {},
   "outputs": [],
   "source": [
    "host_id = xxxx ###Manual specificiation at this stage\n",
    "length_cutoff = 20000\n",
    "save_dir = '../../Data/MVP_data/host_linked_genomes/{}_rep_viruses/'.format(host_id)\n",
    "\n",
    "if not os.path.exists(save_dir):\n",
    "    os.makedirs(save_dir)\n",
    "\n",
    "for index in interactions_df[interactions_df['host_taxon_id']==host_id].index:\n",
    "    cluster_id = interactions_df.at[index, 'viral_cluster_id']\n",
    "    tempy = reps_df[reps_df['cluster_id'] == cluster_id]\n",
    "    assert len(tempy.index) <= 1\n",
    "    if len(tempy.index) == 0:\n",
    "        print('Strangely can not find this cluster id', cluster_id)\n",
    "        continue\n",
    "    sequence = tempy.iloc[0]['seq_str']\n",
    "    sequence_name = tempy.iloc[0]['seq_name']\n",
    "    taxon_id = tempy.iloc[0]['ncbi_taxon_id']\n",
    "    if tempy.iloc[0]['seq_length'] < length_cutoff:\n",
    "        continue\n",
    "    with open(save_dir+'{}.fasta'.format(cluster_id), 'w') as outfile:\n",
    "        outfile.write('>{}|{}\\n'.format(sequence_name, taxon_id))\n",
    "        outfile.write(sequence)\n",
    "        \n",
    "        \n",
    "###Next stage, writing a (temporary file). This obviously could have been combined with the above\n",
    "###to be a bit cleaner.\n",
    "cluster_id_dict = {}\n",
    "with open(save_dir+'all_temp.fasta', 'w') as outfile:\n",
    "    for index in interactions_df[interactions_df['host_taxon_id']==host_id].index:\n",
    "        cluster_id = interactions_df.at[index, 'viral_cluster_id']\n",
    "        tempy = reps_df[reps_df['cluster_id'] == cluster_id]\n",
    "        assert len(tempy.index) <= 1\n",
    "        if len(tempy.index) == 0:\n",
    "            print(\"Strangely can't find this cluster id\", cluster_id)\n",
    "            continue\n",
    "        sequence = tempy.iloc[0]['seq_str']\n",
    "        sequence_name = tempy.iloc[0]['seq_name']\n",
    "        taxon_id = tempy.iloc[0]['ncbi_taxon_id']\n",
    "        if tempy.iloc[0]['seq_length'] < length_cutoff:\n",
    "            continue\n",
    "\n",
    "        outfile.write('>{}|{}\\n'.format(sequence_name, taxon_id))\n",
    "        outfile.write('{}\\n'.format(sequence))\n",
    "        \n",
    "        cluster_id_dict['{}|{}'.format(sequence_name, taxon_id)] = cluster_id"
   ]
  },
  {
   "cell_type": "code",
   "execution_count": null,
   "metadata": {},
   "outputs": [],
   "source": []
  },
  {
   "cell_type": "markdown",
   "metadata": {},
   "source": [
    "## Run Prodigal offline in normal mode"
   ]
  },
  {
   "cell_type": "markdown",
   "metadata": {},
   "source": [
    "Example code:\n",
    "```\n",
    "/home/adhock/Workspace/Prodigal/prodigal.linux -i ../../Data/MVP_data/host_linked_genomes/562_rep_viruses/all_temp.fasta -f gff -o ../Data/562_rep_viruses/all_temp.gff\n",
    "```"
   ]
  },
  {
   "cell_type": "markdown",
   "metadata": {},
   "source": [
    "**Come back online to:**\n",
    "1. Split apart the massive gff file and \n",
    "2. Kill the temp files"
   ]
  },
  {
   "cell_type": "code",
   "execution_count": 83,
   "metadata": {},
   "outputs": [],
   "source": [
    "infile = save_dir+'all_temp.gff'\n",
    "\n",
    "comment=True\n",
    "write_lines = []\n",
    "with open(infile, 'r') as infile:\n",
    "    lines = infile.readlines()\n",
    "    for line in lines:\n",
    "        if line[0]=='#':\n",
    "            if comment == False:\n",
    "                cluster_id = cluster_id_dict[write_lines[-1].split('\\t')[0]]\n",
    "                with open(save_dir+'{}.gff'.format(cluster_id), 'w') as outfile:\n",
    "                    for write_line in write_lines:\n",
    "                        outfile.write(write_line)\n",
    "                comment=True\n",
    "                write_lines = [line]\n",
    "            else:\n",
    "                write_lines.append(line)\n",
    "        else:\n",
    "            comment=False\n",
    "            write_lines.append(line)"
   ]
  },
  {
   "cell_type": "code",
   "execution_count": 84,
   "metadata": {},
   "outputs": [],
   "source": [
    "os.remove(save_dir+'all_temp.gff')\n",
    "os.remove(save_dir+'all_temp.fasta')"
   ]
  },
  {
   "cell_type": "markdown",
   "metadata": {},
   "source": [
    "**Et voila. REPEAT for all manually identified `host_id`'s of interest**"
   ]
  },
  {
   "cell_type": "code",
   "execution_count": null,
   "metadata": {},
   "outputs": [],
   "source": []
  },
  {
   "cell_type": "code",
   "execution_count": null,
   "metadata": {},
   "outputs": [],
   "source": []
  },
  {
   "cell_type": "code",
   "execution_count": null,
   "metadata": {},
   "outputs": [],
   "source": []
  },
  {
   "cell_type": "code",
   "execution_count": null,
   "metadata": {},
   "outputs": [],
   "source": []
  },
  {
   "cell_type": "markdown",
   "metadata": {},
   "source": [
    "# Scratch\n",
    "\n",
    "What follows is just some playing around with the data, giving thought to possible future uses."
   ]
  },
  {
   "cell_type": "markdown",
   "metadata": {},
   "source": [
    "## Interaction evidence\n",
    "\n",
    "**Could be useful to one day limit to certain interaction types**\n",
    "\n",
    "However, note that many of the viruses (but not all) contained in `pmid:26200428` are also prophages, which will make this quite difficult"
   ]
  },
  {
   "cell_type": "code",
   "execution_count": 14,
   "metadata": {
    "scrolled": true
   },
   "outputs": [
    {
     "data": {
      "text/html": [
       "<div>\n",
       "<style scoped>\n",
       "    .dataframe tbody tr th:only-of-type {\n",
       "        vertical-align: middle;\n",
       "    }\n",
       "\n",
       "    .dataframe tbody tr th {\n",
       "        vertical-align: top;\n",
       "    }\n",
       "\n",
       "    .dataframe thead th {\n",
       "        text-align: right;\n",
       "    }\n",
       "</style>\n",
       "<table border=\"1\" class=\"dataframe\">\n",
       "  <thead>\n",
       "    <tr style=\"text-align: right;\">\n",
       "      <th></th>\n",
       "      <th>evidence_uid</th>\n",
       "      <th>interaction_uid</th>\n",
       "      <th>interaction_source</th>\n",
       "      <th>interaction_remarks</th>\n",
       "      <th>phage_cluster_id</th>\n",
       "      <th>phage_seq_uid</th>\n",
       "    </tr>\n",
       "  </thead>\n",
       "  <tbody>\n",
       "    <tr>\n",
       "      <th>0</th>\n",
       "      <td>1</td>\n",
       "      <td>1</td>\n",
       "      <td>prophage_in_NCBI_complete_prokaryotic_genomes,...</td>\n",
       "      <td>NaN</td>\n",
       "      <td>175</td>\n",
       "      <td>181</td>\n",
       "    </tr>\n",
       "    <tr>\n",
       "      <th>1</th>\n",
       "      <td>2</td>\n",
       "      <td>2</td>\n",
       "      <td>prophage_in_NCBI_complete_prokaryotic_genomes,...</td>\n",
       "      <td>NaN</td>\n",
       "      <td>177</td>\n",
       "      <td>183</td>\n",
       "    </tr>\n",
       "    <tr>\n",
       "      <th>2</th>\n",
       "      <td>3</td>\n",
       "      <td>3</td>\n",
       "      <td>pmid:26200428</td>\n",
       "      <td>NaN</td>\n",
       "      <td>229</td>\n",
       "      <td>238</td>\n",
       "    </tr>\n",
       "    <tr>\n",
       "      <th>3</th>\n",
       "      <td>4</td>\n",
       "      <td>4</td>\n",
       "      <td>pmid:26200428</td>\n",
       "      <td>NaN</td>\n",
       "      <td>229</td>\n",
       "      <td>239</td>\n",
       "    </tr>\n",
       "    <tr>\n",
       "      <th>4</th>\n",
       "      <td>5</td>\n",
       "      <td>5</td>\n",
       "      <td>pmid:26200428</td>\n",
       "      <td>NaN</td>\n",
       "      <td>229</td>\n",
       "      <td>240</td>\n",
       "    </tr>\n",
       "  </tbody>\n",
       "</table>\n",
       "</div>"
      ],
      "text/plain": [
       "   evidence_uid  interaction_uid  \\\n",
       "0             1                1   \n",
       "1             2                2   \n",
       "2             3                3   \n",
       "3             4                4   \n",
       "4             5                5   \n",
       "\n",
       "                                  interaction_source  interaction_remarks  \\\n",
       "0  prophage_in_NCBI_complete_prokaryotic_genomes,...                  NaN   \n",
       "1  prophage_in_NCBI_complete_prokaryotic_genomes,...                  NaN   \n",
       "2                                      pmid:26200428                  NaN   \n",
       "3                                      pmid:26200428                  NaN   \n",
       "4                                      pmid:26200428                  NaN   \n",
       "\n",
       "   phage_cluster_id  phage_seq_uid  \n",
       "0               175            181  \n",
       "1               177            183  \n",
       "2               229            238  \n",
       "3               229            239  \n",
       "4               229            240  "
      ]
     },
     "execution_count": 14,
     "metadata": {},
     "output_type": "execute_result"
    }
   ],
   "source": [
    "evidence_df = pd.read_csv('../../Data/MVP_data/MVP_DB/mvp_interaction_evidence.txt.gz',\\\n",
    "                          compression='gzip',\\\n",
    "                          sep='\\t')\n",
    "evidence_df.head()"
   ]
  },
  {
   "cell_type": "code",
   "execution_count": 15,
   "metadata": {
    "scrolled": true
   },
   "outputs": [
    {
     "data": {
      "text/plain": [
       "pmid:26200428                                                       12443\n",
       "prophage_in_NCBI_complete_prokaryotic_genomes,phage_finder          10059\n",
       "prophage_in_EMBL_progenomes_representative_genomes,phage_finder      3322\n",
       "prophage_in_metagenomic_assembled_contigs,phage_finder,human_gut     2585\n",
       "ncbi_ref_viral_genome_database                                       1989\n",
       "ICTV                                                                  668\n",
       "pmid:27533034                                                         537\n",
       "Name: interaction_source, dtype: int64"
      ]
     },
     "execution_count": 15,
     "metadata": {},
     "output_type": "execute_result"
    }
   ],
   "source": [
    "evidence_df['interaction_source'].value_counts()"
   ]
  },
  {
   "cell_type": "code",
   "execution_count": null,
   "metadata": {},
   "outputs": [],
   "source": []
  },
  {
   "cell_type": "markdown",
   "metadata": {},
   "source": [
    "## Prophages\n",
    "**As noted, I might want to analyze prophages separately? But personally I find them a bit strange to even consider at all.**\n",
    "\n",
    "Also note that in this case we're considering all viruses regardless of clustering (which is dangerous)"
   ]
  },
  {
   "cell_type": "code",
   "execution_count": 17,
   "metadata": {},
   "outputs": [
    {
     "data": {
      "text/html": [
       "<div>\n",
       "<style scoped>\n",
       "    .dataframe tbody tr th:only-of-type {\n",
       "        vertical-align: middle;\n",
       "    }\n",
       "\n",
       "    .dataframe tbody tr th {\n",
       "        vertical-align: top;\n",
       "    }\n",
       "\n",
       "    .dataframe thead th {\n",
       "        text-align: right;\n",
       "    }\n",
       "</style>\n",
       "<table border=\"1\" class=\"dataframe\">\n",
       "  <thead>\n",
       "    <tr style=\"text-align: right;\">\n",
       "      <th></th>\n",
       "      <th>host_contig_id</th>\n",
       "      <th>host_genome_id</th>\n",
       "      <th>prophage_start</th>\n",
       "      <th>prophage_end</th>\n",
       "      <th>data_source</th>\n",
       "      <th>host_scientific_name</th>\n",
       "      <th>host_taxon_id</th>\n",
       "    </tr>\n",
       "  </thead>\n",
       "  <tbody>\n",
       "    <tr>\n",
       "      <th>1</th>\n",
       "      <td>CP015229.1</td>\n",
       "      <td>CP015229.1</td>\n",
       "      <td>1789353</td>\n",
       "      <td>1960089</td>\n",
       "      <td>NCBI complete prokaryotic genomes</td>\n",
       "      <td>Escherichia coli</td>\n",
       "      <td>562</td>\n",
       "    </tr>\n",
       "    <tr>\n",
       "      <th>2</th>\n",
       "      <td>CP007392.1</td>\n",
       "      <td>CP007392.1</td>\n",
       "      <td>2084500</td>\n",
       "      <td>2246945</td>\n",
       "      <td>NCBI complete prokaryotic genomes</td>\n",
       "      <td>Escherichia coli</td>\n",
       "      <td>562</td>\n",
       "    </tr>\n",
       "    <tr>\n",
       "      <th>10</th>\n",
       "      <td>CP012693.1</td>\n",
       "      <td>CP012693.1</td>\n",
       "      <td>2757790</td>\n",
       "      <td>2906285</td>\n",
       "      <td>NCBI complete prokaryotic genomes</td>\n",
       "      <td>Escherichia coli</td>\n",
       "      <td>562</td>\n",
       "    </tr>\n",
       "    <tr>\n",
       "      <th>11</th>\n",
       "      <td>CP007393.1</td>\n",
       "      <td>CP007393.1</td>\n",
       "      <td>2091722</td>\n",
       "      <td>2240084</td>\n",
       "      <td>NCBI complete prokaryotic genomes</td>\n",
       "      <td>Escherichia coli</td>\n",
       "      <td>562</td>\n",
       "    </tr>\n",
       "    <tr>\n",
       "      <th>31</th>\n",
       "      <td>CP017249.1</td>\n",
       "      <td>CP017249.1</td>\n",
       "      <td>2305199</td>\n",
       "      <td>2348482</td>\n",
       "      <td>NCBI complete prokaryotic genomes</td>\n",
       "      <td>Escherichia coli</td>\n",
       "      <td>562</td>\n",
       "    </tr>\n",
       "    <tr>\n",
       "      <th>...</th>\n",
       "      <td>...</td>\n",
       "      <td>...</td>\n",
       "      <td>...</td>\n",
       "      <td>...</td>\n",
       "      <td>...</td>\n",
       "      <td>...</td>\n",
       "      <td>...</td>\n",
       "    </tr>\n",
       "    <tr>\n",
       "      <th>12855</th>\n",
       "      <td>CP013031.1</td>\n",
       "      <td>CP013031.1</td>\n",
       "      <td>4651953</td>\n",
       "      <td>4664018</td>\n",
       "      <td>NCBI complete prokaryotic genomes</td>\n",
       "      <td>Escherichia coli</td>\n",
       "      <td>562</td>\n",
       "    </tr>\n",
       "    <tr>\n",
       "      <th>12874</th>\n",
       "      <td>CP016546.1</td>\n",
       "      <td>CP016546.1</td>\n",
       "      <td>2328896</td>\n",
       "      <td>2340864</td>\n",
       "      <td>NCBI complete prokaryotic genomes</td>\n",
       "      <td>Escherichia coli</td>\n",
       "      <td>562</td>\n",
       "    </tr>\n",
       "    <tr>\n",
       "      <th>13113</th>\n",
       "      <td>CP009104.1</td>\n",
       "      <td>CP009104.1</td>\n",
       "      <td>3079856</td>\n",
       "      <td>3090553</td>\n",
       "      <td>NCBI complete prokaryotic genomes</td>\n",
       "      <td>Escherichia coli</td>\n",
       "      <td>562</td>\n",
       "    </tr>\n",
       "    <tr>\n",
       "      <th>13114</th>\n",
       "      <td>CP011018.1</td>\n",
       "      <td>CP011018.1</td>\n",
       "      <td>288287</td>\n",
       "      <td>298985</td>\n",
       "      <td>NCBI complete prokaryotic genomes</td>\n",
       "      <td>Escherichia coli</td>\n",
       "      <td>562</td>\n",
       "    </tr>\n",
       "    <tr>\n",
       "      <th>13310</th>\n",
       "      <td>CP015837.1</td>\n",
       "      <td>CP015837.1</td>\n",
       "      <td>14246</td>\n",
       "      <td>91367</td>\n",
       "      <td>NCBI complete prokaryotic genomes</td>\n",
       "      <td>Escherichia coli</td>\n",
       "      <td>562</td>\n",
       "    </tr>\n",
       "  </tbody>\n",
       "</table>\n",
       "<p>502 rows × 7 columns</p>\n",
       "</div>"
      ],
      "text/plain": [
       "      host_contig_id host_genome_id  prophage_start  prophage_end  \\\n",
       "1         CP015229.1     CP015229.1         1789353       1960089   \n",
       "2         CP007392.1     CP007392.1         2084500       2246945   \n",
       "10        CP012693.1     CP012693.1         2757790       2906285   \n",
       "11        CP007393.1     CP007393.1         2091722       2240084   \n",
       "31        CP017249.1     CP017249.1         2305199       2348482   \n",
       "...              ...            ...             ...           ...   \n",
       "12855     CP013031.1     CP013031.1         4651953       4664018   \n",
       "12874     CP016546.1     CP016546.1         2328896       2340864   \n",
       "13113     CP009104.1     CP009104.1         3079856       3090553   \n",
       "13114     CP011018.1     CP011018.1          288287        298985   \n",
       "13310     CP015837.1     CP015837.1           14246         91367   \n",
       "\n",
       "                             data_source host_scientific_name  host_taxon_id  \n",
       "1      NCBI complete prokaryotic genomes     Escherichia coli            562  \n",
       "2      NCBI complete prokaryotic genomes     Escherichia coli            562  \n",
       "10     NCBI complete prokaryotic genomes     Escherichia coli            562  \n",
       "11     NCBI complete prokaryotic genomes     Escherichia coli            562  \n",
       "31     NCBI complete prokaryotic genomes     Escherichia coli            562  \n",
       "...                                  ...                  ...            ...  \n",
       "12855  NCBI complete prokaryotic genomes     Escherichia coli            562  \n",
       "12874  NCBI complete prokaryotic genomes     Escherichia coli            562  \n",
       "13113  NCBI complete prokaryotic genomes     Escherichia coli            562  \n",
       "13114  NCBI complete prokaryotic genomes     Escherichia coli            562  \n",
       "13310  NCBI complete prokaryotic genomes     Escherichia coli            562  \n",
       "\n",
       "[502 rows x 7 columns]"
      ]
     },
     "execution_count": 17,
     "metadata": {},
     "output_type": "execute_result"
    }
   ],
   "source": [
    "prophage_df = pd.read_csv('../../Data/MVP_data/MVP_DB/mvp_prophages_and_their_genomic_locations.txt.gz',\\\n",
    "                          compression='gzip',\\\n",
    "                          sep='\\t')\n",
    "prophage_df[prophage_df['host_taxon_id']==562]"
   ]
  },
  {
   "cell_type": "markdown",
   "metadata": {},
   "source": [
    "**But also as noted, prophages identified in the aforementioned manuscript are not called as such here, though many are**"
   ]
  },
  {
   "cell_type": "code",
   "execution_count": 18,
   "metadata": {},
   "outputs": [
    {
     "data": {
      "text/plain": [
       "NCBI complete prokaryotic genomes                             10007\n",
       "representative prokaryotic genomes from proGenome database     3302\n",
       "assembled metagenomic contigs; human gut                       2583\n",
       "complete prokaryotic genomes from EMBL proGenomes database        2\n",
       "Name: data_source, dtype: int64"
      ]
     },
     "execution_count": 18,
     "metadata": {},
     "output_type": "execute_result"
    }
   ],
   "source": [
    "prophage_df['data_source'].value_counts()"
   ]
  },
  {
   "cell_type": "code",
   "execution_count": null,
   "metadata": {},
   "outputs": [],
   "source": []
  },
  {
   "cell_type": "markdown",
   "metadata": {},
   "source": [
    "## Taxonomy \n",
    "**My current strategy is to limit my analysis to viral clusters with a defined species-level host. Perhaps expanding out to genus would allow for more**"
   ]
  },
  {
   "cell_type": "code",
   "execution_count": 19,
   "metadata": {},
   "outputs": [],
   "source": [
    "taxon_df = pd.read_csv('../../Data/MVP_data/MVP_DB/superkingdom2descendents.txt.gz',\\\n",
    "                       compression='gzip',\\\n",
    "                       sep='\\t')"
   ]
  },
  {
   "cell_type": "code",
   "execution_count": 20,
   "metadata": {},
   "outputs": [
    {
     "data": {
      "text/html": [
       "<div>\n",
       "<style scoped>\n",
       "    .dataframe tbody tr th:only-of-type {\n",
       "        vertical-align: middle;\n",
       "    }\n",
       "\n",
       "    .dataframe tbody tr th {\n",
       "        vertical-align: top;\n",
       "    }\n",
       "\n",
       "    .dataframe thead th {\n",
       "        text-align: right;\n",
       "    }\n",
       "</style>\n",
       "<table border=\"1\" class=\"dataframe\">\n",
       "  <thead>\n",
       "    <tr style=\"text-align: right;\">\n",
       "      <th></th>\n",
       "      <th>scientific_name</th>\n",
       "      <th>node_rank</th>\n",
       "      <th>ncbi_taxon_id</th>\n",
       "      <th>taxon_id</th>\n",
       "      <th>parent_taxon_id</th>\n",
       "      <th>superkingdom</th>\n",
       "    </tr>\n",
       "  </thead>\n",
       "  <tbody>\n",
       "    <tr>\n",
       "      <th>121392</th>\n",
       "      <td>Caulobacter vibrioides</td>\n",
       "      <td>species</td>\n",
       "      <td>155892</td>\n",
       "      <td>123335</td>\n",
       "      <td>185</td>\n",
       "      <td>Bacteria</td>\n",
       "    </tr>\n",
       "  </tbody>\n",
       "</table>\n",
       "</div>"
      ],
      "text/plain": [
       "               scientific_name node_rank  ncbi_taxon_id  taxon_id  \\\n",
       "121392  Caulobacter vibrioides   species         155892    123335   \n",
       "\n",
       "        parent_taxon_id superkingdom  \n",
       "121392              185     Bacteria  "
      ]
     },
     "execution_count": 20,
     "metadata": {},
     "output_type": "execute_result"
    }
   ],
   "source": [
    "taxon_df[taxon_df['scientific_name'].str.contains('Caulobacter vibri')]"
   ]
  },
  {
   "cell_type": "code",
   "execution_count": null,
   "metadata": {},
   "outputs": [],
   "source": []
  },
  {
   "cell_type": "markdown",
   "metadata": {},
   "source": [
    "## Identifying the names of some common phage to use as examples"
   ]
  },
  {
   "cell_type": "code",
   "execution_count": 21,
   "metadata": {},
   "outputs": [],
   "source": [
    "phage_lambda = 'NC_001416' \n",
    "t7 = 'NC_001604'\n",
    "t4 = 'NC_000866'\n",
    "phi = 'NC_001422'"
   ]
  },
  {
   "cell_type": "code",
   "execution_count": 23,
   "metadata": {},
   "outputs": [
    {
     "name": "stdout",
     "output_type": "stream",
     "text": [
      "Strangely can't find this cluster id 32825\n",
      "Strangely can't find this cluster id 32826\n",
      "Strangely can't find this cluster id 32827\n",
      "Strangely can't find this cluster id 32828\n"
     ]
    }
   ],
   "source": [
    "cluster_id_dict = {}\n",
    "host_id = 562\n",
    "length_cutoff=20000\n",
    "for index in interactions_df[interactions_df['host_taxon_id']==host_id].index:\n",
    "    cluster_id = interactions_df.at[index, 'viral_cluster_id']\n",
    "    tempy = reps_df[reps_df['cluster_id'] == cluster_id]\n",
    "    assert len(tempy.index) <= 1\n",
    "    if len(tempy.index) == 0:\n",
    "        print(\"Strangely can't find this cluster id\", cluster_id)\n",
    "        continue\n",
    "    sequence = tempy.iloc[0]['seq_str']\n",
    "    sequence_name = tempy.iloc[0]['seq_name']\n",
    "    taxon_id = tempy.iloc[0]['ncbi_taxon_id']\n",
    "    if tempy.iloc[0]['seq_length'] < length_cutoff:\n",
    "        continue\n",
    "\n",
    "    cluster_id_dict['{}|{}'.format(sequence_name, taxon_id)] = cluster_id"
   ]
  },
  {
   "cell_type": "code",
   "execution_count": 29,
   "metadata": {},
   "outputs": [
    {
     "name": "stdout",
     "output_type": "stream",
     "text": [
      "T4 NC_000866|10665 \t 188\n",
      "T7 NC_001604|10760 \t 7841\n",
      "Lambda NC_001416|10710 \t 3868\n"
     ]
    }
   ],
   "source": [
    "for i,j in cluster_id_dict.items():\n",
    "    if phage_lambda in i:\n",
    "        print('Lambda', i, '\\t', j)\n",
    "    elif t7 in i:\n",
    "        print('T7', i, '\\t', j)\n",
    "    elif t4 in i:\n",
    "        print('T4', i, '\\t', j)\n",
    "    elif phi in i:\n",
    "        print('PhiX', i, '\\t', j)"
   ]
  },
  {
   "cell_type": "code",
   "execution_count": null,
   "metadata": {},
   "outputs": [],
   "source": []
  }
 ],
 "metadata": {
  "kernelspec": {
   "display_name": "Python 3",
   "language": "python",
   "name": "python3"
  },
  "language_info": {
   "codemirror_mode": {
    "name": "ipython",
    "version": 3
   },
   "file_extension": ".py",
   "mimetype": "text/x-python",
   "name": "python",
   "nbconvert_exporter": "python",
   "pygments_lexer": "ipython3",
   "version": "3.7.7"
  },
  "toc": {
   "colors": {
    "hover_highlight": "#DAA520",
    "navigate_num": "#000000",
    "navigate_text": "#333333",
    "running_highlight": "#FF0000",
    "selected_highlight": "#FFD700",
    "sidebar_border": "#EEEEEE",
    "wrapper_background": "#FFFFFF"
   },
   "moveMenuLeft": true,
   "nav_menu": {
    "height": "210px",
    "width": "252px"
   },
   "navigate_menu": true,
   "number_sections": true,
   "sideBar": true,
   "threshold": 4,
   "toc_cell": false,
   "toc_section_display": "block",
   "toc_window_display": false,
   "widenNotebook": false
  }
 },
 "nbformat": 4,
 "nbformat_minor": 2
}
