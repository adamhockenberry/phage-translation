{
 "cells": [
  {
   "cell_type": "code",
   "execution_count": 1,
   "metadata": {},
   "outputs": [],
   "source": [
    "%matplotlib inline"
   ]
  },
  {
   "cell_type": "markdown",
   "metadata": {},
   "source": [
    "# A simple little null analysis on the *expected* relationship between secondary structure and aSD binding energy\n",
    "\n",
    "Some relationship is *probably* to be expected based on GC contents"
   ]
  },
  {
   "cell_type": "code",
   "execution_count": 19,
   "metadata": {},
   "outputs": [],
   "source": [
    "import json\n",
    "import pandas as pd\n",
    "import statsmodels.formula.api as smf\n",
    "import numpy as np\n",
    "\n",
    "\n",
    "\n",
    "\n",
    "# from Bio import SeqIO\n"
   ]
  },
  {
   "cell_type": "markdown",
   "metadata": {},
   "source": [
    "# Just trying to get a sense of the A/T/G/C content of upstream regions for native genes and loading in the data for a real genome"
   ]
  },
  {
   "cell_type": "code",
   "execution_count": 68,
   "metadata": {},
   "outputs": [],
   "source": [
    "gaps=(4,10)\n",
    "RBS_len=6\n",
    "with open('../Data/energy_files/energyRef_CCUCCU_ensemble_noneConstraint.json', 'r') as infile:\n",
    "       energy_dict = json.load(infile)\n",
    "        \n",
    "ec_df = pd.read_csv('../Data/MVP_data/562_associated_data/ecoli.combined.tsv', sep='\\t', index_col=0)\n",
    "ec_df_indices = list(ec_df.index)"
   ]
  },
  {
   "cell_type": "code",
   "execution_count": 69,
   "metadata": {},
   "outputs": [
    {
     "name": "stdout",
     "output_type": "stream",
     "text": [
      "A 0.3184646962233169\n",
      "T 0.25085385878489325\n",
      "G 0.24104269293924466\n",
      "C 0.18963875205254516\n"
     ]
    }
   ],
   "source": [
    "total_nts = ec_df['upstream_sequence'].str.len().sum()\n",
    "for nt in ['A', 'T', 'G', 'C']:\n",
    "    print(nt, ec_df['upstream_sequence'].str.count(nt).sum()/total_nts)"
   ]
  },
  {
   "cell_type": "markdown",
   "metadata": {},
   "source": [
    "**This takes a little while so I only am running once (thus commenting to prevent screwing it up) and saving the file and reading it back in later**\n",
    "\n",
    "Basically I am randomly generating a 30 nucleotide sequence with A/T/G/C ratios empirically determined above and then pairing it with a random coding sequence. "
   ]
  },
  {
   "cell_type": "code",
   "execution_count": 70,
   "metadata": {},
   "outputs": [],
   "source": [
    "# ss_list = []\n",
    "# rbs_list = []\n",
    "# for i in range(200000):\n",
    "# #     utr_str = ''.join(np.random.choice(['A', 'U', 'G', 'C'], p=[0.25, 0.25, 0.25, 0.25], size=30))\n",
    "#     utr_str = ''.join(np.random.choice(['A', 'U', 'G', 'C'], p=[0.3185, 0.2509, 0.2410, 0.1896], size=30))\n",
    "#     cds_seq = ec_df.iloc[np.random.choice(ec_df_indices)]['coding_sequence']\n",
    "#     if len(cds_seq) > 30:\n",
    "#         combined = utr_str + cds_seq[:30]\n",
    "#         assert len(combined) == 60\n",
    "#         rna_out = call_RNAfold(combined)\n",
    "#         e1, e2 = get_energy_RNAfold(rna_out)\n",
    "#         ss_list.append(e2)\n",
    "        \n",
    "#         ###Calculate the energy for the indicated gap offsets\n",
    "#         energy_list = []\n",
    "#         for gap in range(gaps[0],gaps[1]+1):\n",
    "#              energy_list.append(energy_dict[utr_str[-gap - RBS_len: -gap]])\n",
    "\n",
    "#         rbs_list.append(min(energy_list))\n",
    "        \n",
    "        \n",
    "# random_df = pd.DataFrame(zip(ss_list, rbs_list), columns=['secondary_structure', 'RBS_energy'])\n",
    "# print(random_df.shape)\n",
    "# random_df.to_csv('../Data/562_associated_data/randomdata.tsv', sep='\\t')"
   ]
  },
  {
   "cell_type": "code",
   "execution_count": 71,
   "metadata": {},
   "outputs": [
    {
     "name": "stdout",
     "output_type": "stream",
     "text": [
      "(200000, 2)\n"
     ]
    },
    {
     "data": {
      "text/html": [
       "<div>\n",
       "<style scoped>\n",
       "    .dataframe tbody tr th:only-of-type {\n",
       "        vertical-align: middle;\n",
       "    }\n",
       "\n",
       "    .dataframe tbody tr th {\n",
       "        vertical-align: top;\n",
       "    }\n",
       "\n",
       "    .dataframe thead th {\n",
       "        text-align: right;\n",
       "    }\n",
       "</style>\n",
       "<table border=\"1\" class=\"dataframe\">\n",
       "  <thead>\n",
       "    <tr style=\"text-align: right;\">\n",
       "      <th></th>\n",
       "      <th>secondary_structure</th>\n",
       "      <th>RBS_energy</th>\n",
       "    </tr>\n",
       "  </thead>\n",
       "  <tbody>\n",
       "    <tr>\n",
       "      <th>0</th>\n",
       "      <td>-13.36</td>\n",
       "      <td>-0.56</td>\n",
       "    </tr>\n",
       "    <tr>\n",
       "      <th>1</th>\n",
       "      <td>-15.99</td>\n",
       "      <td>-0.55</td>\n",
       "    </tr>\n",
       "    <tr>\n",
       "      <th>2</th>\n",
       "      <td>-12.12</td>\n",
       "      <td>-3.54</td>\n",
       "    </tr>\n",
       "    <tr>\n",
       "      <th>3</th>\n",
       "      <td>-4.07</td>\n",
       "      <td>-0.01</td>\n",
       "    </tr>\n",
       "    <tr>\n",
       "      <th>4</th>\n",
       "      <td>-10.99</td>\n",
       "      <td>-2.50</td>\n",
       "    </tr>\n",
       "  </tbody>\n",
       "</table>\n",
       "</div>"
      ],
      "text/plain": [
       "   secondary_structure  RBS_energy\n",
       "0               -13.36       -0.56\n",
       "1               -15.99       -0.55\n",
       "2               -12.12       -3.54\n",
       "3                -4.07       -0.01\n",
       "4               -10.99       -2.50"
      ]
     },
     "execution_count": 71,
     "metadata": {},
     "output_type": "execute_result"
    }
   ],
   "source": [
    "random_df = pd.read_csv('../Data/MVP_data/562_associated_data/randomdata.tsv', sep='\\t', index_col=0)\n",
    "print(random_df.shape)\n",
    "random_df.head()"
   ]
  },
  {
   "cell_type": "markdown",
   "metadata": {},
   "source": [
    "# Compare the random correlation with what is observed in E. coli"
   ]
  },
  {
   "cell_type": "code",
   "execution_count": 72,
   "metadata": {},
   "outputs": [
    {
     "name": "stdout",
     "output_type": "stream",
     "text": [
      "#####Random\n",
      "                             OLS Regression Results                            \n",
      "===============================================================================\n",
      "Dep. Variable:     secondary_structure   R-squared:                       0.026\n",
      "Model:                             OLS   Adj. R-squared:                  0.026\n",
      "Method:                  Least Squares   F-statistic:                     5371.\n",
      "Date:                 Mon, 08 Jun 2020   Prob (F-statistic):               0.00\n",
      "Time:                         18:49:16   Log-Likelihood:            -5.3084e+05\n",
      "No. Observations:               200000   AIC:                         1.062e+06\n",
      "Df Residuals:                   199998   BIC:                         1.062e+06\n",
      "Df Model:                            1                                         \n",
      "Covariance Type:             nonrobust                                         \n",
      "==============================================================================\n",
      "                 coef    std err          t      P>|t|      [0.025      0.975]\n",
      "------------------------------------------------------------------------------\n",
      "Intercept     -9.9230      0.011   -925.864      0.000      -9.944      -9.902\n",
      "RBS_energy     0.2943      0.004     73.289      0.000       0.286       0.302\n",
      "==============================================================================\n",
      "Omnibus:                     8833.590   Durbin-Watson:                   1.996\n",
      "Prob(Omnibus):                  0.000   Jarque-Bera (JB):            10384.110\n",
      "Skew:                          -0.504   Prob(JB):                         0.00\n",
      "Kurtosis:                       3.479   Cond. No.                         3.99\n",
      "==============================================================================\n",
      "\n",
      "Warnings:\n",
      "[1] Standard Errors assume that the covariance matrix of the errors is correctly specified.\n",
      "\n",
      "#####E. coli\n",
      "                             OLS Regression Results                            \n",
      "===============================================================================\n",
      "Dep. Variable:     secondary_structure   R-squared:                       0.072\n",
      "Model:                             OLS   Adj. R-squared:                  0.072\n",
      "Method:                  Least Squares   F-statistic:                     314.7\n",
      "Date:                 Mon, 08 Jun 2020   Prob (F-statistic):           7.04e-68\n",
      "Time:                         18:49:16   Log-Likelihood:                -10833.\n",
      "No. Observations:                 4060   AIC:                         2.167e+04\n",
      "Df Residuals:                     4058   BIC:                         2.168e+04\n",
      "Df Model:                            1                                         \n",
      "Covariance Type:             nonrobust                                         \n",
      "==============================================================================\n",
      "                 coef    std err          t      P>|t|      [0.025      0.975]\n",
      "------------------------------------------------------------------------------\n",
      "Intercept     -7.7048      0.129    -59.554      0.000      -7.958      -7.451\n",
      "RBS_energy     0.4363      0.025     17.740      0.000       0.388       0.485\n",
      "==============================================================================\n",
      "Omnibus:                      719.577   Durbin-Watson:                   1.922\n",
      "Prob(Omnibus):                  0.000   Jarque-Bera (JB):             1590.235\n",
      "Skew:                          -1.022   Prob(JB):                         0.00\n",
      "Kurtosis:                       5.285   Cond. No.                         12.8\n",
      "==============================================================================\n",
      "\n",
      "Warnings:\n",
      "[1] Standard Errors assume that the covariance matrix of the errors is correctly specified.\n"
     ]
    }
   ],
   "source": [
    "print('#####Random')\n",
    "fitted = smf.ols('secondary_structure ~ RBS_energy',\\\n",
    "                 data=random_df).fit(disp=0)\n",
    "print(fitted.summary())\n",
    "print()\n",
    "print('#####E. coli')\n",
    "fitted = smf.ols('secondary_structure ~ RBS_energy',\\\n",
    "                 data=ec_df).fit(disp=0)\n",
    "print(fitted.summary())"
   ]
  },
  {
   "cell_type": "markdown",
   "metadata": {},
   "source": [
    "**But how valid is a direct comparison? What do the values look like?**"
   ]
  },
  {
   "cell_type": "code",
   "execution_count": 79,
   "metadata": {},
   "outputs": [
    {
     "data": {
      "text/plain": [
       "<matplotlib.axes._subplots.AxesSubplot at 0x7fab06f7ccd0>"
      ]
     },
     "execution_count": 79,
     "metadata": {},
     "output_type": "execute_result"
    },
    {
     "data": {
      "image/png": "[encoded data removed]",
      "text/plain": [
       "<Figure size 432x288 with 1 Axes>"
      ]
     },
     "metadata": {
      "needs_background": "light"
     },
     "output_type": "display_data"
    }
   ],
   "source": [
    "ec_df['secondary_structure'].hist(density=True, bins=20, alpha=0.7)\n",
    "random_df['secondary_structure'].hist(density=True, bins=20, alpha=0.7)"
   ]
  },
  {
   "cell_type": "code",
   "execution_count": 78,
   "metadata": {},
   "outputs": [
    {
     "data": {
      "text/plain": [
       "<matplotlib.axes._subplots.AxesSubplot at 0x7fab00d4f850>"
      ]
     },
     "execution_count": 78,
     "metadata": {},
     "output_type": "execute_result"
    },
    {
     "data": {
      "image/png": "[encoded data removed]",
      "text/plain": [
       "<Figure size 432x288 with 1 Axes>"
      ]
     },
     "metadata": {
      "needs_background": "light"
     },
     "output_type": "display_data"
    }
   ],
   "source": [
    "ec_df['RBS_energy'].hist(density=True, bins=20, alpha=0.7)\n",
    "random_df['RBS_energy'].hist(density=True, bins=20, alpha=0.7)"
   ]
  },
  {
   "cell_type": "markdown",
   "metadata": {},
   "source": [
    "# Sub-sample random data so that it looks like real data\n",
    "\n",
    "**First, by controlling for rbs energy**"
   ]
  },
  {
   "cell_type": "code",
   "execution_count": 80,
   "metadata": {},
   "outputs": [],
   "source": [
    "random_indices = []\n",
    "for index in ec_df.index[:]:\n",
    "    rbs = ec_df.loc[index]['RBS_energy']\n",
    "    temp_df = random_df[random_df['RBS_energy'] == rbs]\n",
    "    if temp_df.shape[0]>0:\n",
    "        choice = np.random.choice(temp_df.index)\n",
    "        random_indices.append(choice)"
   ]
  },
  {
   "cell_type": "code",
   "execution_count": 81,
   "metadata": {},
   "outputs": [
    {
     "name": "stdout",
     "output_type": "stream",
     "text": [
      "(4060, 2)\n"
     ]
    },
    {
     "data": {
      "text/html": [
       "<div>\n",
       "<style scoped>\n",
       "    .dataframe tbody tr th:only-of-type {\n",
       "        vertical-align: middle;\n",
       "    }\n",
       "\n",
       "    .dataframe tbody tr th {\n",
       "        vertical-align: top;\n",
       "    }\n",
       "\n",
       "    .dataframe thead th {\n",
       "        text-align: right;\n",
       "    }\n",
       "</style>\n",
       "<table border=\"1\" class=\"dataframe\">\n",
       "  <thead>\n",
       "    <tr style=\"text-align: right;\">\n",
       "      <th></th>\n",
       "      <th>secondary_structure</th>\n",
       "      <th>RBS_energy</th>\n",
       "    </tr>\n",
       "  </thead>\n",
       "  <tbody>\n",
       "    <tr>\n",
       "      <th>121613</th>\n",
       "      <td>-11.23</td>\n",
       "      <td>-2.45</td>\n",
       "    </tr>\n",
       "    <tr>\n",
       "      <th>131251</th>\n",
       "      <td>-12.54</td>\n",
       "      <td>-5.42</td>\n",
       "    </tr>\n",
       "    <tr>\n",
       "      <th>88558</th>\n",
       "      <td>-6.40</td>\n",
       "      <td>-6.51</td>\n",
       "    </tr>\n",
       "    <tr>\n",
       "      <th>38159</th>\n",
       "      <td>-6.84</td>\n",
       "      <td>-3.40</td>\n",
       "    </tr>\n",
       "    <tr>\n",
       "      <th>160006</th>\n",
       "      <td>-8.87</td>\n",
       "      <td>-6.51</td>\n",
       "    </tr>\n",
       "  </tbody>\n",
       "</table>\n",
       "</div>"
      ],
      "text/plain": [
       "        secondary_structure  RBS_energy\n",
       "121613               -11.23       -2.45\n",
       "131251               -12.54       -5.42\n",
       "88558                 -6.40       -6.51\n",
       "38159                 -6.84       -3.40\n",
       "160006                -8.87       -6.51"
      ]
     },
     "execution_count": 81,
     "metadata": {},
     "output_type": "execute_result"
    }
   ],
   "source": [
    "subset_random_df = random_df.loc[random_indices]\n",
    "print(subset_random_df.shape)\n",
    "subset_random_df.head()"
   ]
  },
  {
   "cell_type": "code",
   "execution_count": 82,
   "metadata": {},
   "outputs": [
    {
     "name": "stdout",
     "output_type": "stream",
     "text": [
      "#####Random\n",
      "                             OLS Regression Results                            \n",
      "===============================================================================\n",
      "Dep. Variable:     secondary_structure   R-squared:                       0.013\n",
      "Model:                             OLS   Adj. R-squared:                  0.013\n",
      "Method:                  Least Squares   F-statistic:                     53.31\n",
      "Date:                 Mon, 08 Jun 2020   Prob (F-statistic):           3.41e-13\n",
      "Time:                         18:52:20   Log-Likelihood:                -10737.\n",
      "No. Observations:                 4060   AIC:                         2.148e+04\n",
      "Df Residuals:                     4058   BIC:                         2.149e+04\n",
      "Df Model:                            1                                         \n",
      "Covariance Type:             nonrobust                                         \n",
      "==============================================================================\n",
      "                 coef    std err          t      P>|t|      [0.025      0.975]\n",
      "------------------------------------------------------------------------------\n",
      "Intercept    -10.1760      0.126    -80.545      0.000     -10.424      -9.928\n",
      "RBS_energy     0.1754      0.024      7.301      0.000       0.128       0.222\n",
      "==============================================================================\n",
      "Omnibus:                       96.978   Durbin-Watson:                   1.957\n",
      "Prob(Omnibus):                  0.000   Jarque-Bera (JB):              103.623\n",
      "Skew:                          -0.380   Prob(JB):                     3.15e-23\n",
      "Kurtosis:                       3.189   Cond. No.                         12.8\n",
      "==============================================================================\n",
      "\n",
      "Warnings:\n",
      "[1] Standard Errors assume that the covariance matrix of the errors is correctly specified.\n",
      "\n",
      "#####E. coli\n",
      "                             OLS Regression Results                            \n",
      "===============================================================================\n",
      "Dep. Variable:     secondary_structure   R-squared:                       0.072\n",
      "Model:                             OLS   Adj. R-squared:                  0.072\n",
      "Method:                  Least Squares   F-statistic:                     314.7\n",
      "Date:                 Mon, 08 Jun 2020   Prob (F-statistic):           7.04e-68\n",
      "Time:                         18:52:20   Log-Likelihood:                -10833.\n",
      "No. Observations:                 4060   AIC:                         2.167e+04\n",
      "Df Residuals:                     4058   BIC:                         2.168e+04\n",
      "Df Model:                            1                                         \n",
      "Covariance Type:             nonrobust                                         \n",
      "==============================================================================\n",
      "                 coef    std err          t      P>|t|      [0.025      0.975]\n",
      "------------------------------------------------------------------------------\n",
      "Intercept     -7.7048      0.129    -59.554      0.000      -7.958      -7.451\n",
      "RBS_energy     0.4363      0.025     17.740      0.000       0.388       0.485\n",
      "==============================================================================\n",
      "Omnibus:                      719.577   Durbin-Watson:                   1.922\n",
      "Prob(Omnibus):                  0.000   Jarque-Bera (JB):             1590.235\n",
      "Skew:                          -1.022   Prob(JB):                         0.00\n",
      "Kurtosis:                       5.285   Cond. No.                         12.8\n",
      "==============================================================================\n",
      "\n",
      "Warnings:\n",
      "[1] Standard Errors assume that the covariance matrix of the errors is correctly specified.\n"
     ]
    }
   ],
   "source": [
    "print('#####Random')\n",
    "fitted = smf.ols('secondary_structure ~ RBS_energy',\\\n",
    "                 data=subset_random_df).fit(disp=0)\n",
    "print(fitted.summary())\n",
    "print()\n",
    "print('#####E. coli')\n",
    "fitted = smf.ols('secondary_structure ~ RBS_energy',\\\n",
    "                 data=ec_df).fit(disp=0)\n",
    "print(fitted.summary())"
   ]
  },
  {
   "cell_type": "code",
   "execution_count": 83,
   "metadata": {},
   "outputs": [
    {
     "data": {
      "text/plain": [
       "<matplotlib.axes._subplots.AxesSubplot at 0x7fab07565350>"
      ]
     },
     "execution_count": 83,
     "metadata": {},
     "output_type": "execute_result"
    },
    {
     "data": {
      "image/png": "[encoded data removed]",
      "text/plain": [
       "<Figure size 432x288 with 1 Axes>"
      ]
     },
     "metadata": {
      "needs_background": "light"
     },
     "output_type": "display_data"
    }
   ],
   "source": [
    "ec_df['secondary_structure'].hist(density=True, bins=20, alpha=0.7)\n",
    "subset_random_df['secondary_structure'].hist(density=True, bins=20, alpha=0.7)"
   ]
  },
  {
   "cell_type": "code",
   "execution_count": 85,
   "metadata": {},
   "outputs": [
    {
     "data": {
      "text/plain": [
       "<matplotlib.axes._subplots.AxesSubplot at 0x7fab0782de10>"
      ]
     },
     "execution_count": 85,
     "metadata": {},
     "output_type": "execute_result"
    },
    {
     "data": {
      "image/png": "[encoded data removed]",
      "text/plain": [
       "<Figure size 432x288 with 1 Axes>"
      ]
     },
     "metadata": {
      "needs_background": "light"
     },
     "output_type": "display_data"
    }
   ],
   "source": [
    "ec_df['RBS_energy'].hist(density=True, bins=20, alpha=0.7)\n",
    "subset_random_df['RBS_energy'].hist(density=True, bins=20, alpha=0.7)"
   ]
  },
  {
   "cell_type": "markdown",
   "metadata": {},
   "source": [
    "**Secondary structure is shifted a bit...**"
   ]
  },
  {
   "cell_type": "code",
   "execution_count": 111,
   "metadata": {},
   "outputs": [
    {
     "name": "stdout",
     "output_type": "stream",
     "text": [
      "(8120, 26)\n",
      "1    4060\n",
      "0    4060\n",
      "Name: binary_predictor, dtype: int64\n"
     ]
    }
   ],
   "source": [
    "assert len(list(ec_df['genome_id'].value_counts().keys())) == 1\n",
    "host_name = ec_df['genome_id'].value_counts().keys()[0]\n",
    "#\n",
    "concat_df = pd.concat((ec_df, subset_random_df), ignore_index=True, sort=False)\n",
    "concat_df['binary_predictor'] = 1\n",
    "concat_df.at[concat_df[concat_df['genome_id'] == host_name].index, 'binary_predictor'] = 0\n",
    "print(concat_df.shape)\n",
    "print(concat_df['binary_predictor'].value_counts())\n",
    "\n",
    "# concat_df['RBS_energy'] += 9.51"
   ]
  },
  {
   "cell_type": "code",
   "execution_count": 112,
   "metadata": {},
   "outputs": [
    {
     "name": "stderr",
     "output_type": "stream",
     "text": [
      "/Users/adamhockenberry/anaconda3/lib/python3.7/site-packages/statsmodels/base/model.py:568: ConvergenceWarning: Maximum Likelihood optimization failed to converge. Check mle_retvals\n",
      "  \"Check mle_retvals\", ConvergenceWarning)\n",
      "/Users/adamhockenberry/anaconda3/lib/python3.7/site-packages/statsmodels/regression/mixed_linear_model.py:2114: ConvergenceWarning: Retrying MixedLM optimization with lbfgs\n",
      "  ConvergenceWarning)\n",
      "/Users/adamhockenberry/anaconda3/lib/python3.7/site-packages/statsmodels/base/model.py:568: ConvergenceWarning: Maximum Likelihood optimization failed to converge. Check mle_retvals\n",
      "  \"Check mle_retvals\", ConvergenceWarning)\n",
      "/Users/adamhockenberry/anaconda3/lib/python3.7/site-packages/statsmodels/regression/mixed_linear_model.py:2114: ConvergenceWarning: Retrying MixedLM optimization with cg\n",
      "  ConvergenceWarning)\n"
     ]
    },
    {
     "name": "stdout",
     "output_type": "stream",
     "text": [
      "              Mixed Linear Model Regression Results\n",
      "=================================================================\n",
      "Model:            MixedLM Dependent Variable: secondary_structure\n",
      "No. Observations: 8120    Method:             REML               \n",
      "No. Groups:       2       Scale:              12.1605            \n",
      "Min. group size:  4060    Log-Likelihood:     -21672.6579        \n",
      "Max. group size:  4060    Converged:          No                 \n",
      "Mean group size:  4060.0                                         \n",
      "------------------------------------------------------------------\n",
      "                  Coef.   Std.Err.     z     P>|z|  [0.025  0.975]\n",
      "------------------------------------------------------------------\n",
      "Intercept         -8.940     0.091  -97.775  0.000  -9.120  -8.761\n",
      "RBS_energy         0.306     0.311    0.983  0.326  -0.304   0.916\n",
      "RBS_energy Var     0.193                                          \n",
      "=================================================================\n",
      "\n",
      "{0: RBS_energy   -0.082285\n",
      "dtype: float64, 1: RBS_energy    0.082285\n",
      "dtype: float64}\n"
     ]
    },
    {
     "name": "stderr",
     "output_type": "stream",
     "text": [
      "/Users/adamhockenberry/anaconda3/lib/python3.7/site-packages/statsmodels/base/model.py:568: ConvergenceWarning: Maximum Likelihood optimization failed to converge. Check mle_retvals\n",
      "  \"Check mle_retvals\", ConvergenceWarning)\n",
      "/Users/adamhockenberry/anaconda3/lib/python3.7/site-packages/statsmodels/regression/mixed_linear_model.py:2118: ConvergenceWarning: MixedLM optimization failed, trying a different optimizer may help.\n",
      "  warnings.warn(msg, ConvergenceWarning)\n",
      "/Users/adamhockenberry/anaconda3/lib/python3.7/site-packages/statsmodels/regression/mixed_linear_model.py:2130: ConvergenceWarning: Gradient optimization failed, |grad| = 7.377030\n",
      "  warnings.warn(msg, ConvergenceWarning)\n",
      "/Users/adamhockenberry/anaconda3/lib/python3.7/site-packages/statsmodels/regression/mixed_linear_model.py:2170: ConvergenceWarning: The Hessian matrix at the estimated parameter values is not positive definite.\n",
      "  warnings.warn(msg, ConvergenceWarning)\n",
      "/Users/adamhockenberry/anaconda3/lib/python3.7/site-packages/statsmodels/base/model.py:1354: RuntimeWarning: invalid value encountered in sqrt\n",
      "  bse_ = np.sqrt(np.diag(self.cov_params()))\n"
     ]
    }
   ],
   "source": [
    "###Random intercept \n",
    "# fitted = smf.mixedlm('secondary_structure ~ RBS_energy',\\\n",
    "#                  data=concat_df, groups=concat_df['binary_predictor']).fit(disp=0)\n",
    "\n",
    "##Random slope\n",
    "fitted = smf.mixedlm('secondary_structure ~ RBS_energy',\\\n",
    "                 data=concat_df, re_formula='0+RBS_energy', groups=concat_df['binary_predictor'])\\\n",
    "            .fit(disp=0)\n",
    "\n",
    "###Random intercept and random slope\n",
    "# fitted = smf.mixedlm('secondary_structure ~ RBS_energy',\\\n",
    "#                  data=concat_df, re_formula='RBS_energy', groups=concat_df['binary_predictor']).fit(disp=0)\n",
    "\n",
    "print(fitted.summary())\n",
    "print(fitted.random_effects)"
   ]
  },
  {
   "cell_type": "code",
   "execution_count": null,
   "metadata": {},
   "outputs": [],
   "source": []
  },
  {
   "cell_type": "markdown",
   "metadata": {},
   "source": [
    "**Or we could force the secondary structures to look normal-ish and see how the relationship looks**"
   ]
  },
  {
   "cell_type": "code",
   "execution_count": 47,
   "metadata": {},
   "outputs": [
    {
     "name": "stdout",
     "output_type": "stream",
     "text": [
      "4049\n"
     ]
    }
   ],
   "source": [
    "random_indices = []\n",
    "for index in ec_df.index[:]:\n",
    "    struct = ec_df.loc[index]['secondary_structure']\n",
    "    temp_df = random_df[random_df['secondary_structure'] == struct]\n",
    "    if temp_df.shape[0]>0:\n",
    "        choice = np.random.choice(temp_df.index)\n",
    "        random_indices.append(choice)\n",
    "print(len(random_indices))"
   ]
  },
  {
   "cell_type": "code",
   "execution_count": 49,
   "metadata": {},
   "outputs": [
    {
     "name": "stdout",
     "output_type": "stream",
     "text": [
      "(4049, 2)\n"
     ]
    },
    {
     "data": {
      "text/html": [
       "<div>\n",
       "<style scoped>\n",
       "    .dataframe tbody tr th:only-of-type {\n",
       "        vertical-align: middle;\n",
       "    }\n",
       "\n",
       "    .dataframe tbody tr th {\n",
       "        vertical-align: top;\n",
       "    }\n",
       "\n",
       "    .dataframe thead th {\n",
       "        text-align: right;\n",
       "    }\n",
       "</style>\n",
       "<table border=\"1\" class=\"dataframe\">\n",
       "  <thead>\n",
       "    <tr style=\"text-align: right;\">\n",
       "      <th></th>\n",
       "      <th>secondary_structure</th>\n",
       "      <th>RBS_energy</th>\n",
       "    </tr>\n",
       "  </thead>\n",
       "  <tbody>\n",
       "    <tr>\n",
       "      <th>151662</th>\n",
       "      <td>-1.56</td>\n",
       "      <td>-1.58</td>\n",
       "    </tr>\n",
       "    <tr>\n",
       "      <th>102732</th>\n",
       "      <td>-9.78</td>\n",
       "      <td>-6.11</td>\n",
       "    </tr>\n",
       "    <tr>\n",
       "      <th>127260</th>\n",
       "      <td>-14.65</td>\n",
       "      <td>-1.07</td>\n",
       "    </tr>\n",
       "    <tr>\n",
       "      <th>118116</th>\n",
       "      <td>-4.86</td>\n",
       "      <td>-0.41</td>\n",
       "    </tr>\n",
       "    <tr>\n",
       "      <th>180213</th>\n",
       "      <td>-7.80</td>\n",
       "      <td>-0.42</td>\n",
       "    </tr>\n",
       "  </tbody>\n",
       "</table>\n",
       "</div>"
      ],
      "text/plain": [
       "        secondary_structure  RBS_energy\n",
       "151662                -1.56       -1.58\n",
       "102732                -9.78       -6.11\n",
       "127260               -14.65       -1.07\n",
       "118116                -4.86       -0.41\n",
       "180213                -7.80       -0.42"
      ]
     },
     "execution_count": 49,
     "metadata": {},
     "output_type": "execute_result"
    }
   ],
   "source": [
    "subset_random_df = random_df.loc[random_indices]\n",
    "print(subset_random_df.shape)\n",
    "subset_random_df.head()"
   ]
  },
  {
   "cell_type": "code",
   "execution_count": 50,
   "metadata": {},
   "outputs": [
    {
     "name": "stdout",
     "output_type": "stream",
     "text": [
      "#####Random\n",
      "                             OLS Regression Results                            \n",
      "===============================================================================\n",
      "Dep. Variable:     secondary_structure   R-squared:                       0.031\n",
      "Model:                             OLS   Adj. R-squared:                  0.031\n",
      "Method:                  Least Squares   F-statistic:                     128.6\n",
      "Date:                 Mon, 08 Jun 2020   Prob (F-statistic):           2.25e-29\n",
      "Time:                         18:01:31   Log-Likelihood:                -10791.\n",
      "No. Observations:                 4049   AIC:                         2.159e+04\n",
      "Df Residuals:                     4047   BIC:                         2.160e+04\n",
      "Df Model:                            1                                         \n",
      "Covariance Type:             nonrobust                                         \n",
      "==============================================================================\n",
      "                 coef    std err          t      P>|t|      [0.025      0.975]\n",
      "------------------------------------------------------------------------------\n",
      "Intercept     -9.1609      0.076   -121.333      0.000      -9.309      -9.013\n",
      "RBS_energy     0.3245      0.029     11.342      0.000       0.268       0.381\n",
      "==============================================================================\n",
      "Omnibus:                      367.483   Durbin-Watson:                   1.905\n",
      "Prob(Omnibus):                  0.000   Jarque-Bera (JB):              505.936\n",
      "Skew:                          -0.738   Prob(JB):                    1.37e-110\n",
      "Kurtosis:                       3.904   Cond. No.                         3.91\n",
      "==============================================================================\n",
      "\n",
      "Warnings:\n",
      "[1] Standard Errors assume that the covariance matrix of the errors is correctly specified.\n",
      "\n",
      "#####E. coli\n",
      "                             OLS Regression Results                            \n",
      "===============================================================================\n",
      "Dep. Variable:     secondary_structure   R-squared:                       0.072\n",
      "Model:                             OLS   Adj. R-squared:                  0.072\n",
      "Method:                  Least Squares   F-statistic:                     314.7\n",
      "Date:                 Mon, 08 Jun 2020   Prob (F-statistic):           7.04e-68\n",
      "Time:                         18:01:31   Log-Likelihood:                -10833.\n",
      "No. Observations:                 4060   AIC:                         2.167e+04\n",
      "Df Residuals:                     4058   BIC:                         2.168e+04\n",
      "Df Model:                            1                                         \n",
      "Covariance Type:             nonrobust                                         \n",
      "==============================================================================\n",
      "                 coef    std err          t      P>|t|      [0.025      0.975]\n",
      "------------------------------------------------------------------------------\n",
      "Intercept     -7.7048      0.129    -59.554      0.000      -7.958      -7.451\n",
      "RBS_energy     0.4363      0.025     17.740      0.000       0.388       0.485\n",
      "==============================================================================\n",
      "Omnibus:                      719.577   Durbin-Watson:                   1.922\n",
      "Prob(Omnibus):                  0.000   Jarque-Bera (JB):             1590.235\n",
      "Skew:                          -1.022   Prob(JB):                         0.00\n",
      "Kurtosis:                       5.285   Cond. No.                         12.8\n",
      "==============================================================================\n",
      "\n",
      "Warnings:\n",
      "[1] Standard Errors assume that the covariance matrix of the errors is correctly specified.\n"
     ]
    }
   ],
   "source": [
    "print('#####Random')\n",
    "fitted = smf.ols('secondary_structure ~ RBS_energy',\\\n",
    "                 data=subset_random_df).fit(disp=0)\n",
    "print(fitted.summary())\n",
    "print()\n",
    "print('#####E. coli')\n",
    "fitted = smf.ols('secondary_structure ~ RBS_energy',\\\n",
    "                 data=ec_df).fit(disp=0)\n",
    "print(fitted.summary())"
   ]
  },
  {
   "cell_type": "code",
   "execution_count": null,
   "metadata": {},
   "outputs": [],
   "source": []
  },
  {
   "cell_type": "markdown",
   "metadata": {},
   "source": [
    "**Using a mixed-lm to fix the intercept and/or slope**"
   ]
  },
  {
   "cell_type": "code",
   "execution_count": 53,
   "metadata": {},
   "outputs": [
    {
     "name": "stdout",
     "output_type": "stream",
     "text": [
      "(8109, 26)\n",
      "0    4060\n",
      "1    4049\n",
      "Name: binary_predictor, dtype: int64\n"
     ]
    }
   ],
   "source": [
    "assert len(list(ec_df['genome_id'].value_counts().keys())) == 1\n",
    "host_name = ec_df['genome_id'].value_counts().keys()[0]\n",
    "#\n",
    "concat_df = pd.concat((ec_df, subset_random_df), ignore_index=True, sort=False)\n",
    "concat_df['binary_predictor'] = 1\n",
    "concat_df.at[concat_df[concat_df['genome_id'] == host_name].index, 'binary_predictor'] = 0\n",
    "print(concat_df.shape)\n",
    "print(concat_df['binary_predictor'].value_counts())\n",
    "\n",
    "concat_df['RBS_energy'] += 9.51"
   ]
  },
  {
   "cell_type": "code",
   "execution_count": 61,
   "metadata": {},
   "outputs": [
    {
     "name": "stdout",
     "output_type": "stream",
     "text": [
      "              Mixed Linear Model Regression Results\n",
      "=================================================================\n",
      "Model:            MixedLM Dependent Variable: secondary_structure\n",
      "No. Observations: 8109    Method:             REML               \n",
      "No. Groups:       2       Scale:              12.1466            \n",
      "Min. group size:  4049    Log-Likelihood:     -21637.5224        \n",
      "Max. group size:  4060    Converged:          Yes                \n",
      "Mean group size:  4054.5                                         \n",
      "------------------------------------------------------------------\n",
      "                Coef.   Std.Err.     z     P>|z|   [0.025   0.975]\n",
      "------------------------------------------------------------------\n",
      "Intercept      -12.180     0.565  -21.550  0.000  -13.288  -11.073\n",
      "RBS_energy       0.388     0.019   20.776  0.000    0.351    0.425\n",
      "Group Var        0.609     0.246                                  \n",
      "=================================================================\n",
      "\n",
      "{0: Group    0.552557\n",
      "dtype: float64, 1: Group   -0.552557\n",
      "dtype: float64}\n"
     ]
    }
   ],
   "source": [
    "###Random intercept \n",
    "fitted = smf.mixedlm('secondary_structure ~ RBS_energy',\\\n",
    "                 data=concat_df, groups=concat_df['binary_predictor']).fit(disp=0)\n",
    "\n",
    "###Random slope\n",
    "# fitted = smf.mixedlm('secondary_structure ~ RBS_energy',\\\n",
    "#                  data=concat_df, re_formula='0+RBS_energy', groups=concat_df['binary_predictor']).fit(disp=0)\n",
    "\n",
    "###Random intercept and random slope\n",
    "# fitted = smf.mixedlm('secondary_structure ~ RBS_energy',\\\n",
    "#                  data=concat_df, re_formula='RBS_energy', groups=concat_df['binary_predictor']).fit(disp=0)\n",
    "\n",
    "print(fitted.summary())\n",
    "print(fitted.random_effects)"
   ]
  },
  {
   "cell_type": "code",
   "execution_count": 58,
   "metadata": {},
   "outputs": [
    {
     "data": {
      "text/plain": [
       "{0: Group    0.552557\n",
       " dtype: float64,\n",
       " 1: Group   -0.552557\n",
       " dtype: float64}"
      ]
     },
     "execution_count": 58,
     "metadata": {},
     "output_type": "execute_result"
    }
   ],
   "source": [
    "fitted.random_effects"
   ]
  },
  {
   "cell_type": "code",
   "execution_count": null,
   "metadata": {},
   "outputs": [],
   "source": []
  },
  {
   "cell_type": "code",
   "execution_count": 66,
   "metadata": {},
   "outputs": [
    {
     "data": {
      "text/plain": [
       "<matplotlib.axes._subplots.AxesSubplot at 0x7fab01fe0910>"
      ]
     },
     "execution_count": 66,
     "metadata": {},
     "output_type": "execute_result"
    },
    {
     "data": {
      "image/png": "[encoded data removed]",
      "text/plain": [
       "<Figure size 432x288 with 1 Axes>"
      ]
     },
     "metadata": {
      "needs_background": "light"
     },
     "output_type": "display_data"
    }
   ],
   "source": [
    "ec_df['secondary_structure'].hist(bins=20)\n",
    "subset_random_df['secondary_structure'].hist(bins=20)"
   ]
  },
  {
   "cell_type": "code",
   "execution_count": 67,
   "metadata": {},
   "outputs": [
    {
     "data": {
      "text/plain": [
       "<matplotlib.axes._subplots.AxesSubplot at 0x7fab06055390>"
      ]
     },
     "execution_count": 67,
     "metadata": {},
     "output_type": "execute_result"
    },
    {
     "data": {
      "image/png": "[encoded data removed]",
      "text/plain": [
       "<Figure size 432x288 with 1 Axes>"
      ]
     },
     "metadata": {
      "needs_background": "light"
     },
     "output_type": "display_data"
    }
   ],
   "source": [
    "ec_df['RBS_energy'].hist(bins=20)\n",
    "subset_random_df['RBS_energy'].hist(bins=20)"
   ]
  },
  {
   "cell_type": "code",
   "execution_count": null,
   "metadata": {},
   "outputs": [],
   "source": []
  }
 ],
 "metadata": {
  "kernelspec": {
   "display_name": "Python 3",
   "language": "python",
   "name": "python3"
  },
  "language_info": {
   "codemirror_mode": {
    "name": "ipython",
    "version": 3
   },
   "file_extension": ".py",
   "mimetype": "text/x-python",
   "name": "python",
   "nbconvert_exporter": "python",
   "pygments_lexer": "ipython3",
   "version": "3.7.7"
  },
  "toc": {
   "colors": {
    "hover_highlight": "#DAA520",
    "navigate_num": "#000000",
    "navigate_text": "#333333",
    "running_highlight": "#FF0000",
    "selected_highlight": "#FFD700",
    "sidebar_border": "#EEEEEE",
    "wrapper_background": "#FFFFFF"
   },
   "moveMenuLeft": true,
   "nav_menu": {
    "height": "30px",
    "width": "252px"
   },
   "navigate_menu": true,
   "number_sections": true,
   "sideBar": true,
   "threshold": 4,
   "toc_cell": false,
   "toc_section_display": "block",
   "toc_window_display": false,
   "widenNotebook": false
  }
 },
 "nbformat": 4,
 "nbformat_minor": 2
}
