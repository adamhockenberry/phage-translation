{
 "cells": [
  {
   "cell_type": "code",
   "execution_count": null,
   "metadata": {},
   "outputs": [],
   "source": [
    "%matplotlib inline"
   ]
  },
  {
   "cell_type": "code",
   "execution_count": null,
   "metadata": {},
   "outputs": [],
   "source": [
    "import pandas as pd\n",
    "import glob\n",
    "import statsmodels.formula.api as smf\n",
    "from matplotlib import pyplot as plt"
   ]
  },
  {
   "cell_type": "code",
   "execution_count": 3,
   "metadata": {},
   "outputs": [],
   "source": [
    "import matplotlib\n",
    "###Default for jupyter display\n",
    "matplotlib.rcParams['figure.dpi']= 150\n",
    "\n",
    "matplotlib.rcParams['xtick.labelsize'] = 8\n",
    "matplotlib.rcParams['ytick.labelsize'] = 10\n",
    "matplotlib.rcParams['axes.labelsize'] = 10\n",
    "matplotlib.rcParams['axes.titlesize'] = 10\n",
    "\n",
    "matplotlib.rcParams['axes.grid'] = True\n",
    "matplotlib.rcParams['grid.color'] = '0.8'\n",
    "matplotlib.rcParams['grid.linewidth'] = '0.5'\n",
    "\n",
    "matplotlib.rcParams['axes.edgecolor'] = '0.25'\n",
    "matplotlib.rcParams['xtick.color'] = '0'\n",
    "matplotlib.rcParams['ytick.color'] = '0'\n",
    "\n",
    "matplotlib.rcParams['xtick.major.width'] = 1\n",
    "matplotlib.rcParams['ytick.major.width'] = 1\n",
    "matplotlib.rcParams['ytick.major.size'] = 5\n",
    "matplotlib.rcParams['xtick.major.size'] = 5\n",
    "matplotlib.rcParams['axes.spines.right'] = True\n",
    "matplotlib.rcParams['axes.spines.left'] = True\n",
    "matplotlib.rcParams['axes.spines.top'] = True\n",
    "matplotlib.rcParams['axes.spines.bottom'] = True\n",
    "\n",
    "matplotlib.rcParams['font.family'] = 'sans-serif'\n",
    "matplotlib.rcParams['font.sans-serif'] = 'Helvetica'\n",
    "matplotlib.rcParams['font.weight']='normal'\n",
    "matplotlib.rcParams['axes.axisbelow'] = True\n",
    "matplotlib.rcParams['legend.fontsize'] = 10\n",
    "# matplotlib.rcParams['text.usetex'] = True\n",
    "\n",
    "prop_cycle = plt.rcParams['axes.prop_cycle']\n",
    "colors = prop_cycle.by_key()['color']"
   ]
  },
  {
   "cell_type": "code",
   "execution_count": 30,
   "metadata": {},
   "outputs": [
    {
     "name": "stdout",
     "output_type": "stream",
     "text": [
      "(1333, 3)\n",
      "(1332, 3)\n",
      "562       374\n",
      "287       163\n",
      "1280      136\n",
      "573       100\n",
      "470        94\n",
      "657318     81\n",
      "1639       58\n",
      "1428       53\n",
      "1314       44\n",
      "90371      40\n",
      "357276     37\n",
      "28450      34\n",
      "1590       33\n",
      "435591     26\n",
      "36809      22\n",
      "305        20\n",
      "717959     17\n",
      "Name: host_id, dtype: int64\n"
     ]
    },
    {
     "data": {
      "text/html": [
       "<div>\n",
       "<style scoped>\n",
       "    .dataframe tbody tr th:only-of-type {\n",
       "        vertical-align: middle;\n",
       "    }\n",
       "\n",
       "    .dataframe tbody tr th {\n",
       "        vertical-align: top;\n",
       "    }\n",
       "\n",
       "    .dataframe thead th {\n",
       "        text-align: right;\n",
       "    }\n",
       "</style>\n",
       "<table border=\"1\" class=\"dataframe\">\n",
       "  <thead>\n",
       "    <tr style=\"text-align: right;\">\n",
       "      <th></th>\n",
       "      <th>host_id</th>\n",
       "      <th>phage_lifestyle</th>\n",
       "      <th>lifestyle_probability_difference</th>\n",
       "    </tr>\n",
       "    <tr>\n",
       "      <th>phage_id</th>\n",
       "      <th></th>\n",
       "      <th></th>\n",
       "      <th></th>\n",
       "    </tr>\n",
       "  </thead>\n",
       "  <tbody>\n",
       "    <tr>\n",
       "      <th>7759</th>\n",
       "      <td>1314</td>\n",
       "      <td>Virulent</td>\n",
       "      <td>0.750000</td>\n",
       "    </tr>\n",
       "    <tr>\n",
       "      <th>18244</th>\n",
       "      <td>1314</td>\n",
       "      <td>Temperate</td>\n",
       "      <td>0.975000</td>\n",
       "    </tr>\n",
       "    <tr>\n",
       "      <th>628</th>\n",
       "      <td>1314</td>\n",
       "      <td>Temperate</td>\n",
       "      <td>0.925000</td>\n",
       "    </tr>\n",
       "    <tr>\n",
       "      <th>4578</th>\n",
       "      <td>1314</td>\n",
       "      <td>Virulent</td>\n",
       "      <td>0.548421</td>\n",
       "    </tr>\n",
       "    <tr>\n",
       "      <th>1738</th>\n",
       "      <td>1314</td>\n",
       "      <td>Temperate</td>\n",
       "      <td>0.925000</td>\n",
       "    </tr>\n",
       "  </tbody>\n",
       "</table>\n",
       "</div>"
      ],
      "text/plain": [
       "          host_id phage_lifestyle  lifestyle_probability_difference\n",
       "phage_id                                                           \n",
       "7759         1314        Virulent                          0.750000\n",
       "18244        1314       Temperate                          0.975000\n",
       "628          1314       Temperate                          0.925000\n",
       "4578         1314        Virulent                          0.548421\n",
       "1738         1314       Temperate                          0.925000"
      ]
     },
     "execution_count": 30,
     "metadata": {},
     "output_type": "execute_result"
    }
   ],
   "source": [
    "lifestyle_df = pd.read_csv('../Data/MVP_data/lifestyle_results_BACPHLIP.tsv', sep='\\t', index_col=2)\n",
    "lifestyle_df = lifestyle_df.drop('Unnamed: 0', axis=1)\n",
    "print(lifestyle_df.shape)\n",
    "lifestyle_df = lifestyle_df.loc[~lifestyle_df.index.duplicated(keep='first')]\n",
    "print(lifestyle_df.shape)\n",
    "print(lifestyle_df['host_id'].value_counts())\n",
    "lifestyle_df.head()"
   ]
  },
  {
   "cell_type": "code",
   "execution_count": 63,
   "metadata": {},
   "outputs": [
    {
     "name": "stdout",
     "output_type": "stream",
     "text": [
      "39\n"
     ]
    }
   ],
   "source": [
    "taxon_id = 90371\n",
    "temp_lifestyle_df = lifestyle_df[lifestyle_df['host_id']==int(taxon_id)]\n",
    "\n",
    "combined_df = pd.read_csv('../Data/MVP_data/host_genomes/{}.tsv'.format(taxon_id), sep='\\t', index_col=0)\n",
    "assert len(list(combined_df['genome_id'].value_counts().keys())) == 1\n",
    "host_name = combined_df['genome_id'].value_counts().keys()[0]\n",
    "temp_df = combined_df\n",
    "t_vals_a = []\n",
    "t_vals_b = []\n",
    "p_vals_a = []\n",
    "p_vals_b = []\n",
    "lifestyle_vals = []\n",
    "for virus_tsv in glob.glob('../Data/MVP_data/host_linked_genomes/{}_rep_viruses/*.clean.tsv'.format(taxon_id))[:]:\n",
    "    vir_name = virus_tsv.split('/')[-1].split('.clean.tsv')[0]\n",
    "    virus_df = pd.read_csv(virus_tsv, sep='\\t', index_col=0)\n",
    "#     if lifestyle_df.loc[int(vir_name)]['lifestyle_probability_difference'] < 0.9:\n",
    "#         continue\n",
    "    lifestyle_vals.append(temp_lifestyle_df.loc[int(vir_name)]['phage_lifestyle'])   \n",
    "\n",
    "    concat_df = pd.concat((temp_df, virus_df), ignore_index=True, sort=False)\n",
    "    concat_df['binary_predictor'] = 1\n",
    "    concat_df.at[concat_df[concat_df['genome_id'] == host_name].index, 'binary_predictor'] = 0 \n",
    "    concat_df['mfe_diff'] = concat_df['sec_struct']-concat_df['sec_struct_bound']\n",
    "#     fitted = smf.logit('binary_predictor ~ RBS_energy', data=concat_df).fit(disp=0)\n",
    "#     fitted = smf.logit('binary_predictor ~ RBS_energy + GC_upstream', data=concat_df).fit(disp=0)\n",
    "    fitted = smf.logit('binary_predictor ~ aSD_binding + mfe_diff', data=concat_df).fit(disp=0)\n",
    "#     fitted = smf.logit('binary_predictor ~ secondary_structure', data=concat_df).fit(disp=0)\n",
    "#     fitted = smf.logit('binary_predictor ~ RBS_energy + secondary_structure + GC_cds + iCUB', data=concat_df).fit(disp=0)\n",
    "#     beta_vals_a.append(fitted.params[1])\n",
    "#     beta_vals_b.append(fitted.params[2])\n",
    "    #\n",
    "    t_vals_a.append(fitted.tvalues[1])\n",
    "    t_vals_b.append(fitted.tvalues[2])\n",
    "    #\n",
    "    p_vals_a.append(fitted.pvalues[1])\n",
    "    p_vals_b.append(fitted.pvalues[2])\n",
    "print(len(p_vals_a))"
   ]
  },
  {
   "cell_type": "code",
   "execution_count": 64,
   "metadata": {},
   "outputs": [
    {
     "data": {
      "text/plain": [
       "Text(0, 0.5, 'T-value for secondary structure')"
      ]
     },
     "execution_count": 64,
     "metadata": {},
     "output_type": "execute_result"
    },
    {
     "data": {
      "image/png": "[encoded data removed]",
      "text/plain": [
       "<Figure size 480x405 with 1 Axes>"
      ]
     },
     "metadata": {
      "needs_background": "light"
     },
     "output_type": "display_data"
    }
   ],
   "source": [
    "fig, ax = plt.subplots(figsize=(3.2,2.7))\n",
    "\n",
    "ax.scatter([i for i,j in zip(t_vals_a, lifestyle_vals) if j=='Virulent'],\\\n",
    "           [i for i,j in zip(t_vals_b, lifestyle_vals) if j=='Virulent'],\\\n",
    "           c=colors[4], alpha=0.5, label='Virulent')\n",
    "ax.scatter([i for i,j in zip(t_vals_a, lifestyle_vals) if j=='Temperate'],\\\n",
    "           [i for i,j in zip(t_vals_b, lifestyle_vals) if j=='Temperate'],\\\n",
    "           c=colors[2], alpha=0.5, label='Temperate')\n",
    "\n",
    "ax.scatter([i for i,j in zip(t_vals_a, lifestyle_vals) if j=='Virulent'],\\\n",
    "           [i for i,j in zip(t_vals_b, lifestyle_vals) if j=='Virulent'],\\\n",
    "           c=colors[4], alpha=0.5)\n",
    "\n",
    "ax.axvline(0, c=colors[0])\n",
    "ax.axhline(0, c=colors[0])\n",
    "# ax.set_xlim(-15, 15)\n",
    "# ax.set_ylim(-15, 15)\n",
    "plt.legend(loc=1, fontsize=9)\n",
    "ax.set_xlabel('T-value for aSD binding strength')\n",
    "ax.set_ylabel('T-value for secondary structure')\n",
    "# plt.savefig(figs_dir + '/Ecoli_{}_tval_scatter.png'.format(col_name), dpi=300, bbox_inches='tight')"
   ]
  },
  {
   "cell_type": "code",
   "execution_count": null,
   "metadata": {},
   "outputs": [],
   "source": []
  },
  {
   "cell_type": "code",
   "execution_count": null,
   "metadata": {},
   "outputs": [],
   "source": []
  },
  {
   "cell_type": "code",
   "execution_count": null,
   "metadata": {},
   "outputs": [],
   "source": []
  },
  {
   "cell_type": "code",
   "execution_count": null,
   "metadata": {},
   "outputs": [],
   "source": []
  },
  {
   "cell_type": "code",
   "execution_count": null,
   "metadata": {},
   "outputs": [],
   "source": []
  },
  {
   "cell_type": "code",
   "execution_count": 49,
   "metadata": {},
   "outputs": [
    {
     "name": "stdout",
     "output_type": "stream",
     "text": [
      "Host ID 1280\n",
      "0.21951219512195122 \t 0.5\n",
      "Host ID 1314\n",
      "0.02702702702702703 \t 0.0\n",
      "Host ID 28450\n",
      "0.4 \t 0.07692307692307693\n",
      "Host ID 90371\n",
      "0.0 \t 0.1111111111111111\n",
      "Host ID 657318\n",
      "0.0 \t 0.03571428571428571\n",
      "Host ID 435591\n",
      "0.0 \t 0.14285714285714285\n",
      "Host ID 717959\n",
      "0.375 \t 0.0\n",
      "Host ID 36809\n",
      "0.4666666666666667 \t 0.5\n",
      "Host ID 1639\n",
      "0.0 \t 0.0\n",
      "Host ID 305\n",
      "0.16666666666666666 \t 0.23076923076923078\n",
      "Host ID 562\n",
      "0.013605442176870748 \t 0.3924050632911392\n",
      "Host ID 1428\n",
      "0.06666666666666667 \t 0.0\n",
      "Host ID 470\n",
      "0.0 \t 0.020833333333333332\n",
      "Host ID 1590\n",
      "0.125 \t 0.125\n",
      "Host ID 357276\n",
      "0.10526315789473684 \t 0.05555555555555555\n",
      "Host ID 573\n",
      "0.27631578947368424 \t 0.21739130434782608\n",
      "Host ID 287\n",
      "0.047058823529411764 \t 0.36363636363636365\n"
     ]
    }
   ],
   "source": [
    "for taxon_id in list(set(lifestyle_df['host_id']))[:]:\n",
    "    print('Host ID', taxon_id)\n",
    "    combined_df = pd.read_csv('../Data/MVP_data/host_genomes/{}.tsv'.format(taxon_id), sep='\\t', index_col=0)\n",
    "    host_names = list(set(combined_df['genome_id']))\n",
    "    temp_df = combined_df\n",
    "    t_vals_a = []\n",
    "    t_vals_b = []\n",
    "    p_vals_a = []\n",
    "    p_vals_b = []\n",
    "    lifestyle_vals = []\n",
    "    for virus_tsv in glob.glob('../Data/MVP_data/host_linked_genomes/{}_rep_viruses/*.clean.tsv'.format(taxon_id))[:]:\n",
    "        vir_name = virus_tsv.split('/')[-1].split('.clean.tsv')[0]\n",
    "        virus_df = pd.read_csv(virus_tsv, sep='\\t', index_col=0)\n",
    "        \n",
    "#         if lifestyle_df.loc[int(vir_name)]['lifestyle_probability_difference'] < 0.9:\n",
    "#             continue\n",
    "        lifestyle_vals.append(lifestyle_df.loc[int(vir_name)]['phage_lifestyle'])   \n",
    "\n",
    "        concat_df = pd.concat((temp_df, virus_df), ignore_index=True, sort=False)\n",
    "        concat_df['binary_predictor'] = 1\n",
    "        concat_df.at[concat_df[concat_df['genome_id'].isin(host_names)].index, 'binary_predictor'] = 0 \n",
    "    #     fitted = smf.logit('binary_predictor ~ RBS_energy', data=concat_df).fit(disp=0)\n",
    "    #     fitted = smf.logit('binary_predictor ~ RBS_energy + GC_upstream', data=concat_df).fit(disp=0)\n",
    "        fitted = smf.logit('binary_predictor ~ aSD_binding + sec_struct', data=concat_df).fit(disp=0)\n",
    "    #     fitted = smf.logit('binary_predictor ~ secondary_structure', data=concat_df).fit(disp=0)\n",
    "    #     fitted = smf.logit('binary_predictor ~ RBS_energy + secondary_structure + GC_cds + iCUB', data=concat_df).fit(disp=0)\n",
    "    #     beta_vals_a.append(fitted.params[1])\n",
    "    #     beta_vals_b.append(fitted.params[2])\n",
    "        #\n",
    "        t_vals_a.append(fitted.tvalues[1])\n",
    "        t_vals_b.append(fitted.tvalues[2])\n",
    "        #\n",
    "        p_vals_a.append(fitted.pvalues[1])\n",
    "        p_vals_b.append(fitted.pvalues[2])\n",
    "    \n",
    "    temp_super_sig = 0        \n",
    "    vir_super_sig = 0\n",
    "    for ta, tb, pa, pb, ls in zip(t_vals_a, t_vals_b, p_vals_a, p_vals_b, lifestyle_vals):\n",
    "        if (pa < 0.05 and pb < 0.05) and ta < 0 and tb > 0 and ls == 'Virulent':\n",
    "            vir_super_sig += 1\n",
    "        if (pa < 0.05 and pb < 0.05) and ta < 0 and tb > 0 and ls == 'Temperate':\n",
    "            temp_super_sig += 1\n",
    "    try:\n",
    "#         print(temp_super_sig, '\\t', vir_super_sig)\n",
    "        print(temp_super_sig/lifestyle_vals.count('Temperate'), '\\t', vir_super_sig/lifestyle_vals.count('Virulent'))\n",
    "    except ZeroDivisionError:\n",
    "        pass"
   ]
  },
  {
   "cell_type": "code",
   "execution_count": null,
   "metadata": {},
   "outputs": [],
   "source": []
  },
  {
   "cell_type": "code",
   "execution_count": null,
   "metadata": {},
   "outputs": [],
   "source": [
    "lifestyle_df.loc[int(2887)]"
   ]
  },
  {
   "cell_type": "code",
   "execution_count": null,
   "metadata": {},
   "outputs": [],
   "source": [
    "vir_name"
   ]
  },
  {
   "cell_type": "code",
   "execution_count": 15,
   "metadata": {},
   "outputs": [
    {
     "data": {
      "text/plain": [
       "(1333, 3)"
      ]
     },
     "execution_count": 15,
     "metadata": {},
     "output_type": "execute_result"
    }
   ],
   "source": [
    "lifestyle_df.shape"
   ]
  },
  {
   "cell_type": "code",
   "execution_count": 18,
   "metadata": {},
   "outputs": [
    {
     "data": {
      "text/plain": [
       "1332"
      ]
     },
     "execution_count": 18,
     "metadata": {},
     "output_type": "execute_result"
    }
   ],
   "source": [
    "len(set(lifestyle_df.index))"
   ]
  },
  {
   "cell_type": "code",
   "execution_count": null,
   "metadata": {},
   "outputs": [],
   "source": []
  }
 ],
 "metadata": {
  "kernelspec": {
   "display_name": "Python 3",
   "language": "python",
   "name": "python3"
  },
  "language_info": {
   "codemirror_mode": {
    "name": "ipython",
    "version": 3
   },
   "file_extension": ".py",
   "mimetype": "text/x-python",
   "name": "python",
   "nbconvert_exporter": "python",
   "pygments_lexer": "ipython3",
   "version": "3.7.7"
  },
  "toc": {
   "colors": {
    "hover_highlight": "#DAA520",
    "navigate_num": "#000000",
    "navigate_text": "#333333",
    "running_highlight": "#FF0000",
    "selected_highlight": "#FFD700",
    "sidebar_border": "#EEEEEE",
    "wrapper_background": "#FFFFFF"
   },
   "moveMenuLeft": true,
   "nav_menu": {
    "height": "12px",
    "width": "252px"
   },
   "navigate_menu": true,
   "number_sections": true,
   "sideBar": true,
   "threshold": 4,
   "toc_cell": false,
   "toc_section_display": "block",
   "toc_window_display": false,
   "widenNotebook": false
  }
 },
 "nbformat": 4,
 "nbformat_minor": 2
}
