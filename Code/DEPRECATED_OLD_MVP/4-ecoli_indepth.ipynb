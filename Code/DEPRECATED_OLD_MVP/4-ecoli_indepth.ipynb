{
 "cells": [
  {
   "cell_type": "code",
   "execution_count": 1,
   "metadata": {},
   "outputs": [],
   "source": [
    "%matplotlib inline"
   ]
  },
  {
   "cell_type": "markdown",
   "metadata": {},
   "source": [
    "# Imports"
   ]
  },
  {
   "cell_type": "code",
   "execution_count": 2,
   "metadata": {},
   "outputs": [],
   "source": [
    "import glob\n",
    "import pandas as pd\n",
    "from scipy import stats\n",
    "import numpy as np\n",
    "from matplotlib import pyplot as plt\n",
    "\n",
    "import statsmodels.formula.api as smf\n",
    "import statsmodels.stats.multitest as multi\n",
    "\n",
    "\n",
    "###The following is used to create some sensible results folders according to the year/month\n",
    "import datetime\n",
    "year = datetime.date.today().year\n",
    "month = datetime.date.today().month\n",
    "import os\n",
    "figs_dir = '../Results/Figures/{}_{:02}'.format(year, month)\n",
    "if not os.path.exists(figs_dir):\n",
    "    os.makedirs(figs_dir)"
   ]
  },
  {
   "cell_type": "markdown",
   "metadata": {},
   "source": [
    "# Custom plotting parameters"
   ]
  },
  {
   "cell_type": "code",
   "execution_count": 3,
   "metadata": {},
   "outputs": [],
   "source": [
    "import matplotlib\n",
    "###Default for jupyter display\n",
    "matplotlib.rcParams['figure.dpi']= 150\n",
    "\n",
    "matplotlib.rcParams['xtick.labelsize'] = 10\n",
    "matplotlib.rcParams['ytick.labelsize'] = 10\n",
    "matplotlib.rcParams['axes.labelsize'] = 10\n",
    "matplotlib.rcParams['axes.titlesize'] = 10\n",
    "\n",
    "matplotlib.rcParams['axes.grid'] = True\n",
    "matplotlib.rcParams['grid.color'] = '0.8'\n",
    "matplotlib.rcParams['grid.linewidth'] = '0.5'\n",
    "\n",
    "matplotlib.rcParams['axes.edgecolor'] = '0.25'\n",
    "matplotlib.rcParams['xtick.color'] = '0'\n",
    "matplotlib.rcParams['ytick.color'] = '0'\n",
    "\n",
    "matplotlib.rcParams['xtick.major.width'] = 1\n",
    "matplotlib.rcParams['ytick.major.width'] = 1\n",
    "matplotlib.rcParams['ytick.major.size'] = 5\n",
    "matplotlib.rcParams['xtick.major.size'] = 5\n",
    "matplotlib.rcParams['axes.spines.right'] = True\n",
    "matplotlib.rcParams['axes.spines.left'] = True\n",
    "matplotlib.rcParams['axes.spines.top'] = True\n",
    "matplotlib.rcParams['axes.spines.bottom'] = True\n",
    "\n",
    "matplotlib.rcParams['font.family'] = 'sans-serif'\n",
    "matplotlib.rcParams['font.sans-serif'] = 'Helvetica'\n",
    "matplotlib.rcParams['font.weight']='normal'\n",
    "matplotlib.rcParams['axes.axisbelow'] = True\n",
    "matplotlib.rcParams['legend.fontsize'] = 10\n",
    "# matplotlib.rcParams['text.usetex'] = True\n",
    "\n",
    "prop_cycle = plt.rcParams['axes.prop_cycle']\n",
    "colors = prop_cycle.by_key()['color']"
   ]
  },
  {
   "cell_type": "markdown",
   "metadata": {},
   "source": [
    "# Load in the combined `.tsv` file and some notebook-wide variables\n"
   ]
  },
  {
   "cell_type": "code",
   "execution_count": 4,
   "metadata": {},
   "outputs": [
    {
     "data": {
      "text/html": [
       "<div>\n",
       "<style scoped>\n",
       "    .dataframe tbody tr th:only-of-type {\n",
       "        vertical-align: middle;\n",
       "    }\n",
       "\n",
       "    .dataframe tbody tr th {\n",
       "        vertical-align: top;\n",
       "    }\n",
       "\n",
       "    .dataframe thead th {\n",
       "        text-align: right;\n",
       "    }\n",
       "</style>\n",
       "<table border=\"1\" class=\"dataframe\">\n",
       "  <thead>\n",
       "    <tr style=\"text-align: right;\">\n",
       "      <th></th>\n",
       "      <th>genome_id</th>\n",
       "      <th>source</th>\n",
       "      <th>type</th>\n",
       "      <th>start</th>\n",
       "      <th>stop</th>\n",
       "      <th>idk</th>\n",
       "      <th>strand</th>\n",
       "      <th>trash</th>\n",
       "      <th>qualifiers</th>\n",
       "      <th>coding_sequence</th>\n",
       "      <th>...</th>\n",
       "      <th>GC_upstream</th>\n",
       "      <th>locus_tag</th>\n",
       "      <th>Gene</th>\n",
       "      <th>prot_abundance</th>\n",
       "      <th>trans_eff_2014</th>\n",
       "      <th>trans_eff_2019</th>\n",
       "      <th>essentiality_ds1</th>\n",
       "      <th>essentiality_ds2</th>\n",
       "      <th>essentiality</th>\n",
       "      <th>SD_accessibility</th>\n",
       "    </tr>\n",
       "  </thead>\n",
       "  <tbody>\n",
       "    <tr>\n",
       "      <th>0</th>\n",
       "      <td>NC_000913.3</td>\n",
       "      <td>RefSeq</td>\n",
       "      <td>CDS</td>\n",
       "      <td>337</td>\n",
       "      <td>2799</td>\n",
       "      <td>.</td>\n",
       "      <td>+</td>\n",
       "      <td>0</td>\n",
       "      <td>ID=cds-NP_414543.1;Parent=gene-b0002;Dbxref=Un...</td>\n",
       "      <td>ATGCGAGTGTTGAAGTTCGGCGGTACATCAGTGGCAAATGCAGAAC...</td>\n",
       "      <td>...</td>\n",
       "      <td>0.433333</td>\n",
       "      <td>b0002</td>\n",
       "      <td>thrA</td>\n",
       "      <td>317.0</td>\n",
       "      <td>0.98</td>\n",
       "      <td>NaN</td>\n",
       "      <td>Non-essential</td>\n",
       "      <td>Non-essential</td>\n",
       "      <td>Non-essential</td>\n",
       "      <td>-8.50</td>\n",
       "    </tr>\n",
       "    <tr>\n",
       "      <th>1</th>\n",
       "      <td>NC_000913.3</td>\n",
       "      <td>RefSeq</td>\n",
       "      <td>CDS</td>\n",
       "      <td>2801</td>\n",
       "      <td>3733</td>\n",
       "      <td>.</td>\n",
       "      <td>+</td>\n",
       "      <td>0</td>\n",
       "      <td>ID=cds-NP_414544.1;Parent=gene-b0003;Dbxref=Un...</td>\n",
       "      <td>ATGGTTAAAGTTTATGCCCCGGCTTCCAGTGCCAATATGAGCGTCG...</td>\n",
       "      <td>...</td>\n",
       "      <td>0.500000</td>\n",
       "      <td>b0003</td>\n",
       "      <td>thrB</td>\n",
       "      <td>76.3</td>\n",
       "      <td>0.63</td>\n",
       "      <td>NaN</td>\n",
       "      <td>Non-essential</td>\n",
       "      <td>Non-essential</td>\n",
       "      <td>Non-essential</td>\n",
       "      <td>-7.82</td>\n",
       "    </tr>\n",
       "    <tr>\n",
       "      <th>2</th>\n",
       "      <td>NC_000913.3</td>\n",
       "      <td>RefSeq</td>\n",
       "      <td>CDS</td>\n",
       "      <td>3734</td>\n",
       "      <td>5020</td>\n",
       "      <td>.</td>\n",
       "      <td>+</td>\n",
       "      <td>0</td>\n",
       "      <td>ID=cds-NP_414545.1;Parent=gene-b0004;Dbxref=Un...</td>\n",
       "      <td>ATGAAACTCTACAATCTGAAAGATCACAACGAGCAGGTCAGCTTTG...</td>\n",
       "      <td>...</td>\n",
       "      <td>0.566667</td>\n",
       "      <td>b0004</td>\n",
       "      <td>thrC</td>\n",
       "      <td>530.0</td>\n",
       "      <td>1.40</td>\n",
       "      <td>NaN</td>\n",
       "      <td>Non-essential</td>\n",
       "      <td>Non-essential</td>\n",
       "      <td>Non-essential</td>\n",
       "      <td>-3.73</td>\n",
       "    </tr>\n",
       "    <tr>\n",
       "      <th>3</th>\n",
       "      <td>NC_000913.3</td>\n",
       "      <td>RefSeq</td>\n",
       "      <td>CDS</td>\n",
       "      <td>5234</td>\n",
       "      <td>5530</td>\n",
       "      <td>.</td>\n",
       "      <td>+</td>\n",
       "      <td>0</td>\n",
       "      <td>ID=cds-NP_414546.1;Parent=gene-b0005;Dbxref=Un...</td>\n",
       "      <td>GTGAAAAAGATGCAATCTATCGTACTCGCACTTTCCCTGGTTCTGG...</td>\n",
       "      <td>...</td>\n",
       "      <td>0.400000</td>\n",
       "      <td>b0005</td>\n",
       "      <td>yaaX</td>\n",
       "      <td>NaN</td>\n",
       "      <td>0.28</td>\n",
       "      <td>NaN</td>\n",
       "      <td>Non-essential</td>\n",
       "      <td>Non-essential</td>\n",
       "      <td>Non-essential</td>\n",
       "      <td>-9.77</td>\n",
       "    </tr>\n",
       "    <tr>\n",
       "      <th>4</th>\n",
       "      <td>NC_000913.3</td>\n",
       "      <td>RefSeq</td>\n",
       "      <td>CDS</td>\n",
       "      <td>5683</td>\n",
       "      <td>6459</td>\n",
       "      <td>.</td>\n",
       "      <td>-</td>\n",
       "      <td>0</td>\n",
       "      <td>ID=cds-NP_414547.1;Parent=gene-b0006;Dbxref=Un...</td>\n",
       "      <td>ATGCTGATTCTTATTTCACCTGCGAAAACGCTTGATTACCAAAGCC...</td>\n",
       "      <td>...</td>\n",
       "      <td>0.466667</td>\n",
       "      <td>b0006</td>\n",
       "      <td>yaaA</td>\n",
       "      <td>47.9</td>\n",
       "      <td>2.07</td>\n",
       "      <td>0.410931</td>\n",
       "      <td>Non-essential</td>\n",
       "      <td>Non-essential</td>\n",
       "      <td>Non-essential</td>\n",
       "      <td>-10.08</td>\n",
       "    </tr>\n",
       "  </tbody>\n",
       "</table>\n",
       "<p>5 rows × 26 columns</p>\n",
       "</div>"
      ],
      "text/plain": [
       "     genome_id  source type  start  stop idk strand  trash  \\\n",
       "0  NC_000913.3  RefSeq  CDS    337  2799   .      +      0   \n",
       "1  NC_000913.3  RefSeq  CDS   2801  3733   .      +      0   \n",
       "2  NC_000913.3  RefSeq  CDS   3734  5020   .      +      0   \n",
       "3  NC_000913.3  RefSeq  CDS   5234  5530   .      +      0   \n",
       "4  NC_000913.3  RefSeq  CDS   5683  6459   .      -      0   \n",
       "\n",
       "                                          qualifiers  \\\n",
       "0  ID=cds-NP_414543.1;Parent=gene-b0002;Dbxref=Un...   \n",
       "1  ID=cds-NP_414544.1;Parent=gene-b0003;Dbxref=Un...   \n",
       "2  ID=cds-NP_414545.1;Parent=gene-b0004;Dbxref=Un...   \n",
       "3  ID=cds-NP_414546.1;Parent=gene-b0005;Dbxref=Un...   \n",
       "4  ID=cds-NP_414547.1;Parent=gene-b0006;Dbxref=Un...   \n",
       "\n",
       "                                     coding_sequence  ... GC_upstream  \\\n",
       "0  ATGCGAGTGTTGAAGTTCGGCGGTACATCAGTGGCAAATGCAGAAC...  ...    0.433333   \n",
       "1  ATGGTTAAAGTTTATGCCCCGGCTTCCAGTGCCAATATGAGCGTCG...  ...    0.500000   \n",
       "2  ATGAAACTCTACAATCTGAAAGATCACAACGAGCAGGTCAGCTTTG...  ...    0.566667   \n",
       "3  GTGAAAAAGATGCAATCTATCGTACTCGCACTTTCCCTGGTTCTGG...  ...    0.400000   \n",
       "4  ATGCTGATTCTTATTTCACCTGCGAAAACGCTTGATTACCAAAGCC...  ...    0.466667   \n",
       "\n",
       "   locus_tag  Gene  prot_abundance  trans_eff_2014  trans_eff_2019  \\\n",
       "0      b0002  thrA           317.0            0.98             NaN   \n",
       "1      b0003  thrB            76.3            0.63             NaN   \n",
       "2      b0004  thrC           530.0            1.40             NaN   \n",
       "3      b0005  yaaX             NaN            0.28             NaN   \n",
       "4      b0006  yaaA            47.9            2.07        0.410931   \n",
       "\n",
       "   essentiality_ds1 essentiality_ds2   essentiality  SD_accessibility  \n",
       "0     Non-essential    Non-essential  Non-essential             -8.50  \n",
       "1     Non-essential    Non-essential  Non-essential             -7.82  \n",
       "2     Non-essential    Non-essential  Non-essential             -3.73  \n",
       "3     Non-essential    Non-essential  Non-essential             -9.77  \n",
       "4     Non-essential    Non-essential  Non-essential            -10.08  \n",
       "\n",
       "[5 rows x 26 columns]"
      ]
     },
     "execution_count": 4,
     "metadata": {},
     "output_type": "execute_result"
    }
   ],
   "source": [
    "combined_df = pd.read_csv('../Data/MVP_data/562_associated_data/ecoli.combined.tsv', sep='\\t', index_col=0)\n",
    "combined_df['SD_accessibility'] = combined_df['sec_struct'] - combined_df['sec_struct_bound']\n",
    "combined_df.head()"
   ]
  },
  {
   "cell_type": "code",
   "execution_count": 5,
   "metadata": {},
   "outputs": [],
   "source": [
    "###For prettier plotting\n",
    "col_to_label_dict = {'aSD_binding': 'aSD binding energy (kcal/mol)',\n",
    "                    'SD_accessibility': 'SD accessibility (kcal/mol)',\n",
    "                    'prot_abundance': 'Protein abundance',\n",
    "                    'iCUB': 'iCUB',\n",
    "                    'GC_upstream': 'Upstream GC content',\n",
    "                    'GC_cds': 'Coding sequence GC content',\n",
    "                    'sec_struct': 'Start codon secondary\\nstructure (kcal/mol)',\n",
    "                    'sec_struct_bound': 'Ribosome bound\\nstart codon secondary\\nstructure (kcal/mol)',\n",
    "                    'trans_eff_2014': 'Translational efficiency',\\\n",
    "                    'trans_eff_2019': 'Translational efficiency'}\n",
    "\n",
    "mean_col_to_label_dict = {}\n",
    "for key, val in col_to_label_dict.items():\n",
    "    if val[0]==val[0].upper():\n",
    "        mean_col_to_label_dict[key] = 'Mean ' + val[0].lower() + val[1:]\n",
    "    else:\n",
    "        mean_col_to_label_dict[key] = 'Mean ' + val"
   ]
  },
  {
   "cell_type": "markdown",
   "metadata": {},
   "source": [
    "\n",
    "## Example comparison between host and phage\n",
    "\n",
    "**Note that T7 id in this database is: 7841 and I'm using the predicted annotations here**"
   ]
  },
  {
   "cell_type": "code",
   "execution_count": 8,
   "metadata": {},
   "outputs": [
    {
     "name": "stdout",
     "output_type": "stream",
     "text": [
      "(57, 19)\n"
     ]
    },
    {
     "data": {
      "text/html": [
       "<div>\n",
       "<style scoped>\n",
       "    .dataframe tbody tr th:only-of-type {\n",
       "        vertical-align: middle;\n",
       "    }\n",
       "\n",
       "    .dataframe tbody tr th {\n",
       "        vertical-align: top;\n",
       "    }\n",
       "\n",
       "    .dataframe thead th {\n",
       "        text-align: right;\n",
       "    }\n",
       "</style>\n",
       "<table border=\"1\" class=\"dataframe\">\n",
       "  <thead>\n",
       "    <tr style=\"text-align: right;\">\n",
       "      <th></th>\n",
       "      <th>genome_id</th>\n",
       "      <th>source</th>\n",
       "      <th>type</th>\n",
       "      <th>start</th>\n",
       "      <th>stop</th>\n",
       "      <th>idk</th>\n",
       "      <th>strand</th>\n",
       "      <th>trash</th>\n",
       "      <th>qualifiers</th>\n",
       "      <th>coding_sequence</th>\n",
       "      <th>upstream_sequence</th>\n",
       "      <th>aSD_binding</th>\n",
       "      <th>sec_struct</th>\n",
       "      <th>sec_struct_bound</th>\n",
       "      <th>iCUB</th>\n",
       "      <th>GC_cds</th>\n",
       "      <th>GC_upstream</th>\n",
       "      <th>viral_id</th>\n",
       "      <th>SD_accessibility</th>\n",
       "    </tr>\n",
       "  </thead>\n",
       "  <tbody>\n",
       "    <tr>\n",
       "      <th>0</th>\n",
       "      <td>NC_001604.1</td>\n",
       "      <td>RefSeq</td>\n",
       "      <td>CDS</td>\n",
       "      <td>925</td>\n",
       "      <td>1278</td>\n",
       "      <td>.</td>\n",
       "      <td>+</td>\n",
       "      <td>0</td>\n",
       "      <td>ID=cds-NP_041954.1;Parent=rna-T7p01;Dbxref=Uni...</td>\n",
       "      <td>ATGGCTATGTCTAACATGACTTACAACAACGTTTTCGACCACGCTT...</td>\n",
       "      <td>TTCACTAATAACTGCACGAGGTAACACAAG</td>\n",
       "      <td>-5.42</td>\n",
       "      <td>-10.13</td>\n",
       "      <td>-3.81</td>\n",
       "      <td>50.525906</td>\n",
       "      <td>0.468927</td>\n",
       "      <td>0.400000</td>\n",
       "      <td>cds-NP_041954.1</td>\n",
       "      <td>-6.32</td>\n",
       "    </tr>\n",
       "    <tr>\n",
       "      <th>1</th>\n",
       "      <td>NC_001604.1</td>\n",
       "      <td>RefSeq</td>\n",
       "      <td>CDS</td>\n",
       "      <td>1278</td>\n",
       "      <td>1433</td>\n",
       "      <td>.</td>\n",
       "      <td>+</td>\n",
       "      <td>0</td>\n",
       "      <td>ID=cds-NP_041955.1;Parent=gene-T7p02;Dbxref=Un...</td>\n",
       "      <td>ATGTCTACTACCAACGTGCAATACGGTCTGACCGCTCAAACTGTAC...</td>\n",
       "      <td>AGTCGAGGAGTACGAGGAGGATGAAGAGTA</td>\n",
       "      <td>-9.31</td>\n",
       "      <td>-19.01</td>\n",
       "      <td>-12.96</td>\n",
       "      <td>43.066882</td>\n",
       "      <td>0.455128</td>\n",
       "      <td>0.500000</td>\n",
       "      <td>cds-NP_041955.1</td>\n",
       "      <td>-6.05</td>\n",
       "    </tr>\n",
       "    <tr>\n",
       "      <th>2</th>\n",
       "      <td>NC_001604.1</td>\n",
       "      <td>RefSeq</td>\n",
       "      <td>CDS</td>\n",
       "      <td>2021</td>\n",
       "      <td>3100</td>\n",
       "      <td>.</td>\n",
       "      <td>+</td>\n",
       "      <td>0</td>\n",
       "      <td>ID=cds-NP_041959.1;Parent=rna-T7p03;Dbxref=GOA...</td>\n",
       "      <td>ATGAACATTACCGACATCATGAACGCTATCGACGCAATCAAAGCAC...</td>\n",
       "      <td>TCTCATAACGAACATAAAGGACACAATGCA</td>\n",
       "      <td>-4.00</td>\n",
       "      <td>-7.46</td>\n",
       "      <td>-3.80</td>\n",
       "      <td>55.711182</td>\n",
       "      <td>0.493519</td>\n",
       "      <td>0.366667</td>\n",
       "      <td>cds-NP_041959.1</td>\n",
       "      <td>-3.66</td>\n",
       "    </tr>\n",
       "    <tr>\n",
       "      <th>3</th>\n",
       "      <td>NC_001604.1</td>\n",
       "      <td>RefSeq</td>\n",
       "      <td>CDS</td>\n",
       "      <td>1496</td>\n",
       "      <td>1639</td>\n",
       "      <td>.</td>\n",
       "      <td>+</td>\n",
       "      <td>0</td>\n",
       "      <td>ID=cds-NP_041956.1;Parent=gene-T7p04;Dbxref=Un...</td>\n",
       "      <td>ATGTATATGCTTACTATCGGTCTACTCACCGCTCTAGGTCTAGCTG...</td>\n",
       "      <td>TATGATTATCACTTTACTTATGAGGGAGTA</td>\n",
       "      <td>-5.82</td>\n",
       "      <td>-19.87</td>\n",
       "      <td>-8.50</td>\n",
       "      <td>39.155014</td>\n",
       "      <td>0.458333</td>\n",
       "      <td>0.300000</td>\n",
       "      <td>cds-NP_041956.1</td>\n",
       "      <td>-11.37</td>\n",
       "    </tr>\n",
       "    <tr>\n",
       "      <th>6</th>\n",
       "      <td>NC_001604.1</td>\n",
       "      <td>RefSeq</td>\n",
       "      <td>CDS</td>\n",
       "      <td>1636</td>\n",
       "      <td>1797</td>\n",
       "      <td>.</td>\n",
       "      <td>+</td>\n",
       "      <td>0</td>\n",
       "      <td>ID=cds-NP_041958.1;Parent=gene-T7p06;Dbxref=Un...</td>\n",
       "      <td>ATGATGAAGCACTACGTTATGCCAATCCACACGTCCAACGGGGCAA...</td>\n",
       "      <td>CATAGGAATCATCAAAGGGGCACTACGCAA</td>\n",
       "      <td>-5.53</td>\n",
       "      <td>-17.68</td>\n",
       "      <td>-7.52</td>\n",
       "      <td>42.406008</td>\n",
       "      <td>0.481481</td>\n",
       "      <td>0.466667</td>\n",
       "      <td>cds-NP_041958.1</td>\n",
       "      <td>-10.16</td>\n",
       "    </tr>\n",
       "  </tbody>\n",
       "</table>\n",
       "</div>"
      ],
      "text/plain": [
       "     genome_id  source type  start  stop idk strand  trash  \\\n",
       "0  NC_001604.1  RefSeq  CDS    925  1278   .      +      0   \n",
       "1  NC_001604.1  RefSeq  CDS   1278  1433   .      +      0   \n",
       "2  NC_001604.1  RefSeq  CDS   2021  3100   .      +      0   \n",
       "3  NC_001604.1  RefSeq  CDS   1496  1639   .      +      0   \n",
       "6  NC_001604.1  RefSeq  CDS   1636  1797   .      +      0   \n",
       "\n",
       "                                          qualifiers  \\\n",
       "0  ID=cds-NP_041954.1;Parent=rna-T7p01;Dbxref=Uni...   \n",
       "1  ID=cds-NP_041955.1;Parent=gene-T7p02;Dbxref=Un...   \n",
       "2  ID=cds-NP_041959.1;Parent=rna-T7p03;Dbxref=GOA...   \n",
       "3  ID=cds-NP_041956.1;Parent=gene-T7p04;Dbxref=Un...   \n",
       "6  ID=cds-NP_041958.1;Parent=gene-T7p06;Dbxref=Un...   \n",
       "\n",
       "                                     coding_sequence  \\\n",
       "0  ATGGCTATGTCTAACATGACTTACAACAACGTTTTCGACCACGCTT...   \n",
       "1  ATGTCTACTACCAACGTGCAATACGGTCTGACCGCTCAAACTGTAC...   \n",
       "2  ATGAACATTACCGACATCATGAACGCTATCGACGCAATCAAAGCAC...   \n",
       "3  ATGTATATGCTTACTATCGGTCTACTCACCGCTCTAGGTCTAGCTG...   \n",
       "6  ATGATGAAGCACTACGTTATGCCAATCCACACGTCCAACGGGGCAA...   \n",
       "\n",
       "                upstream_sequence  aSD_binding  sec_struct  sec_struct_bound  \\\n",
       "0  TTCACTAATAACTGCACGAGGTAACACAAG        -5.42      -10.13             -3.81   \n",
       "1  AGTCGAGGAGTACGAGGAGGATGAAGAGTA        -9.31      -19.01            -12.96   \n",
       "2  TCTCATAACGAACATAAAGGACACAATGCA        -4.00       -7.46             -3.80   \n",
       "3  TATGATTATCACTTTACTTATGAGGGAGTA        -5.82      -19.87             -8.50   \n",
       "6  CATAGGAATCATCAAAGGGGCACTACGCAA        -5.53      -17.68             -7.52   \n",
       "\n",
       "        iCUB    GC_cds  GC_upstream         viral_id  SD_accessibility  \n",
       "0  50.525906  0.468927     0.400000  cds-NP_041954.1             -6.32  \n",
       "1  43.066882  0.455128     0.500000  cds-NP_041955.1             -6.05  \n",
       "2  55.711182  0.493519     0.366667  cds-NP_041959.1             -3.66  \n",
       "3  39.155014  0.458333     0.300000  cds-NP_041956.1            -11.37  \n",
       "6  42.406008  0.481481     0.466667  cds-NP_041958.1            -10.16  "
      ]
     },
     "execution_count": 8,
     "metadata": {},
     "output_type": "execute_result"
    }
   ],
   "source": [
    "# virus_df = pd.read_csv('../Data/MVP_data/host_linked_genomes/562_rep_viruses/7841.clean.tsv',\\\n",
    "#                        sep='\\t', index_col=0)\n",
    "virus_df = pd.read_csv('../Data/benchmark_viruses/T7.clean.tsv',\\\n",
    "                       sep='\\t', index_col=0)\n",
    "virus_df['SD_accessibility'] = virus_df['sec_struct'] - virus_df['sec_struct_bound']\n",
    "print(virus_df.shape)\n",
    "virus_df.head()"
   ]
  },
  {
   "cell_type": "markdown",
   "metadata": {},
   "source": [
    "**Get statistics and perform basic visualization**\n",
    "\n",
    "Looking at three different assessments of \"significance\", ranksums test, independent t-test, and a logistic regression framework."
   ]
  },
  {
   "cell_type": "code",
   "execution_count": 12,
   "metadata": {},
   "outputs": [
    {
     "name": "stdout",
     "output_type": "stream",
     "text": [
      "Rank sums test:\n",
      "RanksumsResult(statistic=-1.6495670426854676, pvalue=0.0990315203963994)\n",
      "Welchs T-test:\n",
      "Ttest_indResult(statistic=-1.8592425161356871, pvalue=0.06809200882924563)\n",
      "\n",
      "Logistic regression\n",
      "                           Logit Regression Results                           \n",
      "==============================================================================\n",
      "Dep. Variable:       binary_predictor   No. Observations:                 4073\n",
      "Model:                          Logit   Df Residuals:                     4071\n",
      "Method:                           MLE   Df Model:                            1\n",
      "Date:                Fri, 06 Nov 2020   Pseudo R-squ.:                0.005567\n",
      "Time:                        15:13:36   Log-Likelihood:                -298.27\n",
      "converged:                       True   LL-Null:                       -299.94\n",
      "Covariance Type:            nonrobust   LLR p-value:                   0.06762\n",
      "==============================================================================\n",
      "                 coef    std err          z      P>|z|      [0.025      0.975]\n",
      "------------------------------------------------------------------------------\n",
      "Intercept     -3.3207      0.522     -6.359      0.000      -4.344      -2.297\n",
      "sec_struct     0.0495      0.028      1.794      0.073      -0.005       0.104\n",
      "==============================================================================\n",
      "Intercept     2.026523e-10\n",
      "sec_struct    7.289127e-02\n",
      "dtype: float64\n",
      "\n",
      "Means (host, virus):\n",
      "-19.479728585657366 -18.257017543859646\n"
     ]
    }
   ],
   "source": [
    "# col_name = 'aSD_binding'\n",
    "col_name = 'sec_struct'\n",
    "# col_name = 'GC_cds'\n",
    "# col_name = 'iCUB'\n",
    "# col_name = 'SD_accessibility'\n",
    "temp_df = combined_df\n",
    "print('Rank sums test:')\n",
    "print(stats.ranksums(temp_df[col_name], virus_df[col_name]))\n",
    "print('Welchs T-test:')\n",
    "print(stats.ttest_ind(temp_df[col_name], virus_df[col_name], equal_var=False))\n",
    "print()\n",
    "assert len(list(temp_df['genome_id'].value_counts().keys())) == 1\n",
    "host_name = temp_df['genome_id'].value_counts().keys()[0]\n",
    "#\n",
    "concat_df = pd.concat((temp_df, virus_df), ignore_index=True, sort=False)\n",
    "concat_df['binary_predictor'] = 1\n",
    "concat_df.at[concat_df[concat_df['genome_id'] == host_name].index, 'binary_predictor'] = 0 \n",
    "#\n",
    "# fitted = smf.ols('binary_predictor ~ {}'.format(col_name), data=concat_df).fit(disp=0)\n",
    "fitted = smf.logit('binary_predictor ~ {}'.format(col_name), data=concat_df).fit(disp=0)\n",
    "print('Logistic regression')\n",
    "print(fitted.summary())\n",
    "print(fitted.pvalues)\n",
    "print()\n",
    "print('Means (host, virus):')\n",
    "print(temp_df[col_name].mean(), virus_df[col_name].mean())"
   ]
  },
  {
   "cell_type": "code",
   "execution_count": 13,
   "metadata": {},
   "outputs": [
    {
     "data": {
      "image/png": "[encoded data removed]",
      "text/plain": [
       "<Figure size 420x300 with 1 Axes>"
      ]
     },
     "metadata": {
      "needs_background": "light"
     },
     "output_type": "display_data"
    }
   ],
   "source": [
    "a, b = np.histogram(np.concatenate((temp_df[col_name].values, virus_df[col_name].values)), 20)\n",
    "fig, ax = plt.subplots(figsize=(2.8,2))\n",
    "ax.hist(temp_df[col_name], bins=b, label='$E.\\, coli$', density=True, alpha=0.7)\n",
    "ax.hist(virus_df[col_name], bins=b, label='Phage T7', density=True, alpha=0.7)\n",
    "ax.axvline(temp_df[col_name].mean(), color=colors[0], linestyle='-.')\n",
    "ax.axvline(virus_df[col_name].mean(), color=colors[1], linestyle='-.')\n",
    "ax.set_xlabel(col_to_label_dict[col_name])\n",
    "ax.set_ylabel('Probability density')\n",
    "plt.legend(title='CDS genes', framealpha=1.0, handlelength=1, handleheight=1)\n",
    "plt.savefig(figs_dir + '/Ecoli_T7_{}.png'.format(col_name), dpi=300, bbox_inches='tight')"
   ]
  },
  {
   "cell_type": "code",
   "execution_count": null,
   "metadata": {},
   "outputs": [],
   "source": []
  },
  {
   "cell_type": "markdown",
   "metadata": {},
   "source": [
    "# Extended analysis to many *E. coli* viruses\n",
    "\n",
    "Compare each virus separately to all *E. coli* genes"
   ]
  },
  {
   "cell_type": "code",
   "execution_count": 19,
   "metadata": {},
   "outputs": [
    {
     "name": "stdout",
     "output_type": "stream",
     "text": [
      "N significant no FDR (total=373): 133 34\n",
      "N significant w/ FDR(total=373): 94 31\n",
      "N on either side regardless of significance(total=373): 302 71\n",
      "Host value: -19.479728585657366, and mean of viruses: -20.65027941162932\n"
     ]
    }
   ],
   "source": [
    "# col_name = 'aSD_binding'\n",
    "col_name = 'sec_struct'\n",
    "# col_name = 'SD_accessibility'\n",
    "# col_name = 'GC_cds'\n",
    "# col_name = 'iCUB'\n",
    "\n",
    "temp_df = combined_df\n",
    "host_mean = temp_df[col_name].mean()\n",
    "###For the violin plot at the top\n",
    "mean_virus = []\n",
    "p_vals = []\n",
    "for virus_tsv in glob.glob('../Data/MVP_data/host_linked_genomes/562_rep_viruses/*.clean.tsv')[:]:\n",
    "    virus_df = pd.read_csv(virus_tsv, sep='\\t', index_col=0)\n",
    "    virus_df['SD_accessibility'] = virus_df['sec_struct'] - virus_df['sec_struct_bound']\n",
    "    mean_virus.append(virus_df[col_name].mean())\n",
    "    t, p = stats.ttest_ind(temp_df[col_name], virus_df[col_name], equal_var=False)\n",
    "    p_vals.append(p)\n",
    "#     concat_df = pd.concat((temp_df, virus_df), ignore_index=True, sort=False)\n",
    "#     concat_df['binary_predictor'] = 1\n",
    "#     concat_df.at[concat_df[concat_df['genome_id'] == host_name].index, 'binary_predictor'] = 0 \n",
    "#     fitted = smf.logit('binary_predictor ~ {}'.format(col_name), data=concat_df).fit(disp=0)\n",
    "#     p_vals.append(fitted.pvalues[1])\n",
    "truth_array, correct_p_vals = multi.fdrcorrection(p_vals, alpha=0.01)\n",
    "#\n",
    "#\n",
    "#\n",
    "zippy = list(zip(p_vals, mean_virus))\n",
    "lside = len([1 for i,j in zippy if i < 0.01 and j < host_mean])\n",
    "rside = len([1 for i,j in zippy if i < 0.01 and j >= host_mean])\n",
    "print('N significant no FDR (total={}):'.format(len(p_vals)), lside, rside)\n",
    "#\n",
    "zippy = list(zip(correct_p_vals, mean_virus))\n",
    "lside = len([1 for i,j in zippy if i < 0.01 and j < host_mean])\n",
    "rside = len([1 for i,j in zippy if i < 0.01 and j >= host_mean])\n",
    "print('N significant w/ FDR(total={}):'.format(len(p_vals)), lside, rside)\n",
    "#\n",
    "zippy = list(zip(correct_p_vals, mean_virus))\n",
    "lside = len([1 for i,j in zippy if j < host_mean])\n",
    "rside = len([1 for i,j in zippy if j >= host_mean])\n",
    "print('N on either side regardless of significance(total={}):'.format(len(p_vals)), lside, rside)\n",
    "print('Host value: {}, and mean of viruses: {}'.format(host_mean, np.mean(mean_virus)))"
   ]
  },
  {
   "cell_type": "code",
   "execution_count": 20,
   "metadata": {},
   "outputs": [
    {
     "data": {
      "image/png": "[encoded data removed]",
      "text/plain": [
       "<Figure size 420x300 with 1 Axes>"
      ]
     },
     "metadata": {
      "needs_background": "light"
     },
     "output_type": "display_data"
    }
   ],
   "source": [
    "fig, ax = plt.subplots(figsize=(2.8, 2))\n",
    "ax.hist(mean_virus, 20, color=colors[1], label='Phages', alpha=0.7)\n",
    "ax.axvline(temp_df[col_name].mean(), color=colors[0], linestyle='-.', label='$E.\\, coli$')\n",
    "ax.set_ylabel('Counts')\n",
    "ax.set_xlabel(mean_col_to_label_dict[col_name])\n",
    "plt.legend(title='Genomes', framealpha=1.0, handlelength=1, handleheight=1)\n",
    "if col_name == 'aSD_binding':\n",
    "    ax.set_xlim(-7.99, -3.1)\n",
    "elif col_name == 'sec_struct':\n",
    "    ax.set_xlim(-26, -13) \n",
    "plt.savefig(figs_dir + '/Ecoli_allphage_{}.png'.format(col_name), dpi=300, bbox_inches='tight')"
   ]
  },
  {
   "cell_type": "markdown",
   "metadata": {},
   "source": [
    "**Comparing against different categories of *E. coli* genes**"
   ]
  },
  {
   "cell_type": "code",
   "execution_count": 24,
   "metadata": {},
   "outputs": [],
   "source": [
    "# col_name = 'aSD_binding'\n",
    "col_name = 'sec_struct'\n",
    "# col_name = 'SD_accessibility'\n",
    "\n",
    "###For the violin plot at the top\n",
    "mean_virus = []\n",
    "for virus_tsv in glob.glob('../Data/MVP_data/host_linked_genomes/562_rep_viruses/*.clean.tsv')[:]:\n",
    "    virus_df = pd.read_csv(virus_tsv, sep='\\t', index_col=0)\n",
    "    virus_df['SD_accessibility'] = virus_df['sec_struct'] - virus_df['sec_struct_bound']\n",
    "    mean_virus.append(virus_df[col_name].mean())\n",
    "    \n",
    "###For all the host information    \n",
    "host_df_list = []\n",
    "host_df_list.append(combined_df)\n",
    "percentiles_to_test = [25, 50, 75, 90, 95]\n",
    "for i in percentiles_to_test:\n",
    "    temp_df = combined_df[combined_df['prot_abundance'].isnull()==False]\n",
    "    percentile_thresh = np.percentile(temp_df['prot_abundance'], i)\n",
    "    host_df_list.append(temp_df[temp_df['prot_abundance']>=percentile_thresh])\n",
    "host_df_list.append(combined_df[(combined_df['essentiality']=='Essential')])\n",
    "host_df_list.append(combined_df[(combined_df['essentiality']=='Non-essential')])\n",
    "#\n",
    "host_means = [temp_df[col_name].mean() for temp_df in host_df_list]\n",
    "host_errs = [temp_df[col_name].std()/np.sqrt(temp_df.shape[0]) for temp_df in host_df_list]"
   ]
  },
  {
   "cell_type": "code",
   "execution_count": 25,
   "metadata": {},
   "outputs": [
    {
     "data": {
      "image/png": "[encoded data removed]",
      "text/plain": [
       "<Figure size 600x450 with 1 Axes>"
      ]
     },
     "metadata": {
      "needs_background": "light"
     },
     "output_type": "display_data"
    }
   ],
   "source": [
    "###Plotting\n",
    "all_y_vals = list(np.arange(0, -(len(percentiles_to_test)+1)/2, -0.5))\n",
    "highest = all_y_vals[-1]\n",
    "all_y_vals = all_y_vals + list(np.arange(highest-1.0, highest-2.0, -0.5))\n",
    "\n",
    "fig, ax = plt.subplots(figsize=(4,3))\n",
    "vparts = ax.violinplot([mean_virus], widths=0.6, vert=False, showextrema=False, points=100)\n",
    "for pc in vparts['bodies']:\n",
    "    pc.set_facecolor(colors[1])\n",
    "    pc.set_edgecolor(colors[1])\n",
    "ax.axvline(np.median(mean_virus), c=colors[1], linestyle='-.')\n",
    "ax.axhline(0.5, c='gray')\n",
    "#Plotting two here to hack the line/dot overlaps\n",
    "ax.errorbar(host_means, all_y_vals, xerr=host_errs,\\\n",
    "            marker='|', linestyle='', mfc=colors[0], mec=colors[0], ecolor='gray',\\\n",
    "            zorder=2, markersize=8, mew=2)\n",
    "ax.errorbar(host_means, all_y_vals, xerr=host_errs,\\\n",
    "            marker='', linestyle='', mfc=colors[0], mec=colors[0], ecolor='gray',\\\n",
    "            zorder=1, capsize=3, capthick=1, elinewidth=1)\n",
    "#\n",
    "ax.axhline(-3, c='gray')\n",
    "ax.set_xlabel(mean_col_to_label_dict[col_name])\n",
    "ax.set_yticks([1]+all_y_vals)\n",
    "ax.set_yticklabels(['373 individual\\nphage genomes',\\\n",
    "                    'All',\\\n",
    "                    'Top 75%',\\\n",
    "                    'Top 50%',\\\n",
    "                    'Top 25%',\\\n",
    "                    'Top 10%',\\\n",
    "                    'Top 5%',\\\n",
    "                    'Essential genes',\\\n",
    "                    'Non-essential genes']);\n",
    "if col_name == 'aSD_binding':\n",
    "    ax.set_xlim(-7.99, -3.1)\n",
    "elif col_name == 'sec_struct':\n",
    "    ax.set_xlim(-26, -13) \n",
    "plt.savefig(figs_dir + '/Ecoli_{}_categories.png'.format(col_name), dpi=300, bbox_inches='tight')"
   ]
  },
  {
   "cell_type": "markdown",
   "metadata": {},
   "source": [
    "**And getting statistics for all those comparisons**\n",
    "\n",
    "Currently takes a little time to run this but... meh?"
   ]
  },
  {
   "cell_type": "code",
   "execution_count": null,
   "metadata": {},
   "outputs": [],
   "source": [
    "assert len(list(combined_df['genome_id'].value_counts().keys())) == 1\n",
    "host_name = combined_df['genome_id'].value_counts().keys()[0]\n",
    "#\n",
    "results = []\n",
    "for temp_df in host_df_list:\n",
    "    beta_vals = []\n",
    "    p_vals = []\n",
    "    for virus_tsv in glob.glob('../Data/MVP_data/host_linked_genomes/562_rep_viruses/*.clean.tsv')[:]:\n",
    "        virus_df = pd.read_csv(virus_tsv, sep='\\t', index_col=0)\n",
    "        virus_df['SD_accessibility'] = virus_df['sec_struct'] - virus_df['sec_struct_bound']\n",
    "        ###Welch's T-test, not assuming equal variance\n",
    "        t, p = stats.ttest_ind(temp_df[col_name], virus_df[col_name], equal_var=False)\n",
    "        p_vals.append(p)\n",
    "        ###Logistic regression to get the directionality of the difference\n",
    "        concat_df = pd.concat((temp_df, virus_df), ignore_index=True, sort=False)\n",
    "        concat_df['binary_predictor'] = 1\n",
    "        concat_df.at[concat_df[concat_df['genome_id'] == host_name].index, 'binary_predictor'] = 0 \n",
    "        fitted = smf.logit('binary_predictor ~ {}'.format(col_name), data=concat_df).fit(disp=0)\n",
    "        beta_vals.append(fitted.params[1])\n",
    "    truth_array, correct_p_vals = multi.fdrcorrection(p_vals, alpha=0.01)\n",
    "    zippy = list(zip(correct_p_vals, beta_vals))\n",
    "    lside = len([1 for i,j in zippy if i < 0.01 and j < 0])\n",
    "    rside = len([1 for i,j in zippy if i < 0.01 and j >= 0])\n",
    "    results.append((lside, rside))"
   ]
  },
  {
   "cell_type": "code",
   "execution_count": null,
   "metadata": {},
   "outputs": [],
   "source": [
    "fig, ax = plt.subplots(figsize=(2.15,2.45))\n",
    "l_bar = ax.barh(all_y_vals, [-1*i[0] for i in results], height=0.4,\\\n",
    "             color='gray')\n",
    "r_bar = ax.barh(all_y_vals, [i[1] for i in results], height=0.4,\\\n",
    "            color='gray')\n",
    "ax.set_yticklabels('')\n",
    "ax.set_xticks([-300, -150, 0, 150, 300])\n",
    "ax.set_xticklabels([300, 150, 0, 150, 300])\n",
    "ax.set_xlim(-330, 330)\n",
    "ax.axvline(0, c='k')\n",
    "ax.set_yticks(all_y_vals[::-1])\n",
    "ax.set_ylim(-4.25, 0.5)\n",
    "ax.axhline(-3, c='gray')\n",
    "\n",
    "\n",
    "ax.set_xlabel('Number of phage genomes\\nwith significant differences')\n",
    "plt.savefig(figs_dir + '/Ecoli_{}_categories_bar.png'.format(col_name), dpi=300, bbox_inches='tight')"
   ]
  },
  {
   "cell_type": "code",
   "execution_count": null,
   "metadata": {},
   "outputs": [],
   "source": []
  },
  {
   "cell_type": "markdown",
   "metadata": {},
   "source": [
    "# Multi-variate analysis"
   ]
  },
  {
   "cell_type": "code",
   "execution_count": 26,
   "metadata": {},
   "outputs": [],
   "source": [
    "from scipy.stats.mstats import zscore"
   ]
  },
  {
   "cell_type": "code",
   "execution_count": 36,
   "metadata": {},
   "outputs": [],
   "source": [
    "assert len(list(combined_df['genome_id'].value_counts().keys())) == 1\n",
    "host_name = combined_df['genome_id'].value_counts().keys()[0]\n",
    "temp_df = combined_df\n",
    "comparison_vals_a = []\n",
    "comparison_vals_b = []\n",
    "p_vals_a = []\n",
    "p_vals_b = []\n",
    "\n",
    "for virus_tsv in glob.glob('../Data/MVP_data/host_linked_genomes/562_rep_viruses/*.clean.tsv')[:]:\n",
    "#     if '7841' not in virus_tsv:\n",
    "#         continue\n",
    "    vir_name = virus_tsv.split('/')[-1].split('.clean.tsv')[0]\n",
    "    virus_df = pd.read_csv(virus_tsv, sep='\\t', index_col=0)\n",
    "    #\n",
    "    concat_df = pd.concat((temp_df, virus_df), ignore_index=True, sort=False)\n",
    "    concat_df['binary_predictor'] = 1\n",
    "    concat_df.at[concat_df[concat_df['genome_id'] == host_name].index, 'binary_predictor'] = 0\n",
    "    fitted = smf.logit('binary_predictor ~ zscore(aSD_binding) + zscore(sec_struct)', data=concat_df).fit(disp=0)    \n",
    "#     fitted = smf.logit('binary_predictor ~ zscore(aSD_binding) + zscore(sec_struct) + zscore(GC_cds) + zscore(iCUB)', data=concat_df).fit(disp=0)\n",
    "\n",
    "    comparison_vals_a.append(fitted.params[1])\n",
    "    comparison_vals_b.append(fitted.params[2])\n",
    "\n",
    "    p_vals_a.append(fitted.pvalues[1])\n",
    "    p_vals_b.append(fitted.pvalues[2])"
   ]
  },
  {
   "cell_type": "code",
   "execution_count": 37,
   "metadata": {},
   "outputs": [
    {
     "name": "stdout",
     "output_type": "stream",
     "text": [
      "52\n",
      "151\n",
      "27\n"
     ]
    }
   ],
   "source": [
    "truth_array, correct_p_vals_a = multi.fdrcorrection(p_vals_a, alpha=0.01)\n",
    "print(np.sum(truth_array))\n",
    "truth_array, correct_p_vals_b = multi.fdrcorrection(p_vals_b, alpha=0.01)\n",
    "print(np.sum(truth_array))\n",
    "\n",
    "\n",
    "truth_array_a, correct_p_vals_a = multi.fdrcorrection(p_vals_a, alpha=0.01)\n",
    "truth_array_b, correct_p_vals_b = multi.fdrcorrection(p_vals_b, alpha=0.01)\n",
    "truth_array = []\n",
    "for i,j,k,l in zip(truth_array_a, truth_array_b, comparison_vals_a, comparison_vals_b):\n",
    "    if i == 1:\n",
    "        if k < 0 and l > 0:\n",
    "            truth_array.append(1)\n",
    "print(np.sum(truth_array))"
   ]
  },
  {
   "cell_type": "code",
   "execution_count": 38,
   "metadata": {},
   "outputs": [
    {
     "data": {
      "text/plain": [
       "Text(0, 0.5, 'Effect size\\n(Start codon secondary structure)')"
      ]
     },
     "execution_count": 38,
     "metadata": {},
     "output_type": "execute_result"
    },
    {
     "data": {
      "image/png": "[encoded data removed]",
      "text/plain": [
       "<Figure size 450x405 with 1 Axes>"
      ]
     },
     "metadata": {
      "needs_background": "light"
     },
     "output_type": "display_data"
    }
   ],
   "source": [
    "fig, ax = plt.subplots(figsize=(3,2.7))\n",
    "ax.plot(comparison_vals_a, comparison_vals_b, marker='o', linestyle='', c=colors[1], alpha=0.3)\n",
    "ax.axvline(0, c=colors[0])\n",
    "ax.axhline(0, c=colors[0])\n",
    "ax.set_xlim(-2, 2)\n",
    "ax.set_ylim(-2, 2)\n",
    "ax.set_xlabel('Effect size\\n(aSD binding strength)')\n",
    "ax.set_ylabel('Effect size\\n(Start codon secondary structure)')\n",
    "# plt.savefig(figs_dir + '/Ecoli_multivariate_scatter.png'.format(col_name), dpi=300, bbox_inches='tight')\n",
    "# plt.savefig(figs_dir + '/Ecoli_multivariate_scatter_withcovariates.png'.format(col_name), dpi=300, bbox_inches='tight')"
   ]
  },
  {
   "cell_type": "markdown",
   "metadata": {},
   "source": [
    "# Getting independent sets and lifestyle values"
   ]
  },
  {
   "cell_type": "code",
   "execution_count": 39,
   "metadata": {},
   "outputs": [
    {
     "name": "stdout",
     "output_type": "stream",
     "text": [
      "(374, 3)\n"
     ]
    },
    {
     "data": {
      "text/html": [
       "<div>\n",
       "<style scoped>\n",
       "    .dataframe tbody tr th:only-of-type {\n",
       "        vertical-align: middle;\n",
       "    }\n",
       "\n",
       "    .dataframe tbody tr th {\n",
       "        vertical-align: top;\n",
       "    }\n",
       "\n",
       "    .dataframe thead th {\n",
       "        text-align: right;\n",
       "    }\n",
       "</style>\n",
       "<table border=\"1\" class=\"dataframe\">\n",
       "  <thead>\n",
       "    <tr style=\"text-align: right;\">\n",
       "      <th></th>\n",
       "      <th>host_id</th>\n",
       "      <th>phage_lifestyle</th>\n",
       "      <th>lifestyle_probability_difference</th>\n",
       "    </tr>\n",
       "    <tr>\n",
       "      <th>phage_id</th>\n",
       "      <th></th>\n",
       "      <th></th>\n",
       "      <th></th>\n",
       "    </tr>\n",
       "  </thead>\n",
       "  <tbody>\n",
       "    <tr>\n",
       "      <th>2503</th>\n",
       "      <td>562</td>\n",
       "      <td>Temperate</td>\n",
       "      <td>0.775</td>\n",
       "    </tr>\n",
       "    <tr>\n",
       "      <th>6630</th>\n",
       "      <td>562</td>\n",
       "      <td>Temperate</td>\n",
       "      <td>0.850</td>\n",
       "    </tr>\n",
       "    <tr>\n",
       "      <th>11767</th>\n",
       "      <td>562</td>\n",
       "      <td>Temperate</td>\n",
       "      <td>1.000</td>\n",
       "    </tr>\n",
       "    <tr>\n",
       "      <th>5497</th>\n",
       "      <td>562</td>\n",
       "      <td>Virulent</td>\n",
       "      <td>0.625</td>\n",
       "    </tr>\n",
       "    <tr>\n",
       "      <th>5096</th>\n",
       "      <td>562</td>\n",
       "      <td>Virulent</td>\n",
       "      <td>1.000</td>\n",
       "    </tr>\n",
       "  </tbody>\n",
       "</table>\n",
       "</div>"
      ],
      "text/plain": [
       "          host_id phage_lifestyle  lifestyle_probability_difference\n",
       "phage_id                                                           \n",
       "2503          562       Temperate                             0.775\n",
       "6630          562       Temperate                             0.850\n",
       "11767         562       Temperate                             1.000\n",
       "5497          562        Virulent                             0.625\n",
       "5096          562        Virulent                             1.000"
      ]
     },
     "execution_count": 39,
     "metadata": {},
     "output_type": "execute_result"
    }
   ],
   "source": [
    "lifestyle_df = pd.read_csv('../Data/MVP_data/lifestyle_results_BACPHLIP.tsv', sep='\\t', index_col=2)\n",
    "lifestyle_df = lifestyle_df.drop('Unnamed: 0', axis=1)\n",
    "lifestyle_df = lifestyle_df[lifestyle_df['host_id']==int(562)]\n",
    "print(lifestyle_df.shape)\n",
    "lifestyle_df.head()"
   ]
  },
  {
   "cell_type": "code",
   "execution_count": 40,
   "metadata": {},
   "outputs": [
    {
     "name": "stdout",
     "output_type": "stream",
     "text": [
      "['146', '170', '177', '179', '188']\n"
     ]
    }
   ],
   "source": [
    "independent_set = []\n",
    "with open('../Data/MVP_data/host_linked_genomes/562_independent.txt', 'r') as infile:\n",
    "    for line in infile:\n",
    "        independent_set.append(line.strip())\n",
    "print(independent_set[:5])"
   ]
  },
  {
   "cell_type": "markdown",
   "metadata": {},
   "source": [
    "# Re-doing analyses to assess robustness"
   ]
  },
  {
   "cell_type": "code",
   "execution_count": 54,
   "metadata": {},
   "outputs": [],
   "source": [
    "analyze_independent_only = True\n",
    "split_according_to_lifestyle = True"
   ]
  },
  {
   "cell_type": "code",
   "execution_count": 55,
   "metadata": {},
   "outputs": [],
   "source": [
    "assert len(list(combined_df['genome_id'].value_counts().keys())) == 1\n",
    "host_name = combined_df['genome_id'].value_counts().keys()[0]\n",
    "temp_df = combined_df\n",
    "comparison_vals_a = []\n",
    "comparison_vals_b = []\n",
    "p_vals_a = []\n",
    "p_vals_b = []\n",
    "lifestyle_vals = []\n",
    "\n",
    "for virus_tsv in glob.glob('../Data/MVP_data/host_linked_genomes/562_rep_viruses/*.clean.tsv')[:]:\n",
    "    vir_name = virus_tsv.split('/')[-1].split('.clean.tsv')[0]\n",
    "    if analyze_independent_only:\n",
    "        if vir_name not in independent_set:\n",
    "            continue\n",
    "    if split_according_to_lifestyle:\n",
    "        ind_lifestyle = lifestyle_df.loc[int(vir_name)]['phage_lifestyle']\n",
    "        ind_lifestyle_prob = lifestyle_df.loc[int(vir_name)]['lifestyle_probability_difference']\n",
    "        if ind_lifestyle_prob < 0.95:\n",
    "            continue\n",
    "        lifestyle_vals.append(ind_lifestyle)    \n",
    "    \n",
    "    virus_df = pd.read_csv(virus_tsv, sep='\\t', index_col=0)\n",
    "    #\n",
    "    concat_df = pd.concat((temp_df, virus_df), ignore_index=True, sort=False)\n",
    "    concat_df['binary_predictor'] = 1\n",
    "    concat_df.at[concat_df[concat_df['genome_id'] == host_name].index, 'binary_predictor'] = 0\n",
    "    fitted = smf.logit('binary_predictor ~ zscore(aSD_binding) + zscore(sec_struct)', data=concat_df).fit(disp=0)    \n",
    "#     fitted = smf.logit('binary_predictor ~ zscore(aSD_binding) + zscore(sec_struct) + zscore(GC_cds) + zscore(iCUB)', data=concat_df).fit(disp=0)\n",
    "\n",
    "    comparison_vals_a.append(fitted.params[1])\n",
    "    comparison_vals_b.append(fitted.params[2])\n",
    "\n",
    "    p_vals_a.append(fitted.pvalues[1])\n",
    "    p_vals_b.append(fitted.pvalues[2])"
   ]
  },
  {
   "cell_type": "code",
   "execution_count": 56,
   "metadata": {},
   "outputs": [
    {
     "name": "stdout",
     "output_type": "stream",
     "text": [
      "(102, 3)\n"
     ]
    }
   ],
   "source": [
    "quick_df = pd.DataFrame(\n",
    "    {'aSD_binding': comparison_vals_a,\n",
    "     'sec_struct': comparison_vals_b,\n",
    "     'lifestyle': lifestyle_vals\n",
    "    })\n",
    "print(quick_df.shape)"
   ]
  },
  {
   "cell_type": "code",
   "execution_count": 57,
   "metadata": {},
   "outputs": [
    {
     "data": {
      "image/png": "[encoded data removed]",
      "text/plain": [
       "<Figure size 450x405 with 1 Axes>"
      ]
     },
     "metadata": {
      "needs_background": "light"
     },
     "output_type": "display_data"
    }
   ],
   "source": [
    "fig, ax = plt.subplots(figsize=(3,2.7))\n",
    "ax.plot(quick_df[quick_df['lifestyle']=='Virulent']['aSD_binding'],\n",
    "        quick_df[quick_df['lifestyle']=='Virulent']['sec_struct'], \n",
    "        marker='o', linestyle='', c=colors[4], alpha=0.5,\n",
    "        label='Virulent')\n",
    "ax.plot(quick_df[quick_df['lifestyle']=='Temperate']['aSD_binding'],\n",
    "        quick_df[quick_df['lifestyle']=='Temperate']['sec_struct'], \n",
    "        marker='o', linestyle='', c='gold', alpha=0.5,\n",
    "        label='Temperate')\n",
    "ax.axvline(0, c=colors[0])\n",
    "ax.axhline(0, c=colors[0])\n",
    "ax.set_xlim(-2, 2)\n",
    "ax.set_ylim(-2, 2)\n",
    "ax.set_xlabel('Effect size\\n(aSD binding strength)')\n",
    "ax.set_ylabel('Effect size\\n(Start codon secondary structure)')\n",
    "leg = plt.legend(loc=1, framealpha=1.0, handlelength=0.5, handleheight=0.5)\n",
    "bb = leg.get_bbox_to_anchor().inverse_transformed(ax.transAxes)\n",
    "bb.y1 -=0.12\n",
    "bb.x1 += 0.01\n",
    "leg.set_bbox_to_anchor(bb, transform = ax.transAxes)\n",
    "plt.savefig(figs_dir + '/Ecoli_multivariate_scatter_lifestyle.png'.format(col_name), dpi=300, bbox_inches='tight')\n",
    "# plt.savefig(figs_dir + '/Ecoli_multivariate_scatter_withcovariates_lifestyle.png'.format(col_name), dpi=300, bbox_inches='tight')"
   ]
  },
  {
   "cell_type": "code",
   "execution_count": null,
   "metadata": {},
   "outputs": [],
   "source": []
  },
  {
   "cell_type": "markdown",
   "metadata": {},
   "source": [
    "# Re-doing violin plot figs with strict independent set"
   ]
  },
  {
   "cell_type": "code",
   "execution_count": 66,
   "metadata": {},
   "outputs": [],
   "source": [
    "# col_name = 'sec_struct'\n",
    "col_name = 'aSD_binding'\n",
    "###For the violin plot at the top\n",
    "mean_virus = []\n",
    "for virus_tsv in glob.glob('../Data/MVP_data/host_linked_genomes/562_rep_viruses/*.clean.tsv')[:]:\n",
    "    if virus_tsv.split('/')[-1].split('.clean.tsv')[0] not in independent_set:\n",
    "        continue\n",
    "    virus_df = pd.read_csv(virus_tsv, sep='\\t', index_col=0)\n",
    "    mean_virus.append(virus_df[col_name].mean())\n",
    "    \n",
    "###For all the host information    \n",
    "host_df_list = []\n",
    "host_df_list.append(combined_df)\n",
    "percentiles_to_test = [25, 50, 75, 90, 95]\n",
    "for i in percentiles_to_test:\n",
    "    temp_df = combined_df[combined_df['prot_abundance'].isnull()==False]\n",
    "    percentile_thresh = np.percentile(temp_df['prot_abundance'], i)\n",
    "    host_df_list.append(temp_df[temp_df['prot_abundance']>=percentile_thresh])\n",
    "host_df_list.append(combined_df[(combined_df['essentiality']=='Essential')])\n",
    "host_df_list.append(combined_df[(combined_df['essentiality']=='Non-essential')])\n",
    "#\n",
    "host_means = [temp_df[col_name].mean() for temp_df in host_df_list]\n",
    "host_errs = [temp_df[col_name].std()/np.sqrt(temp_df.shape[0]) for temp_df in host_df_list]"
   ]
  },
  {
   "cell_type": "code",
   "execution_count": 67,
   "metadata": {},
   "outputs": [
    {
     "data": {
      "image/png": "[encoded data removed]",
      "text/plain": [
       "<Figure size 600x450 with 1 Axes>"
      ]
     },
     "metadata": {
      "needs_background": "light"
     },
     "output_type": "display_data"
    }
   ],
   "source": [
    "###Plotting\n",
    "all_y_vals = list(np.arange(0, -(len(percentiles_to_test)+1)/2, -0.5))\n",
    "highest = all_y_vals[-1]\n",
    "all_y_vals = all_y_vals + list(np.arange(highest-1.0, highest-2.0, -0.5))\n",
    "\n",
    "fig, ax = plt.subplots(figsize=(4,3))\n",
    "vparts = ax.violinplot([mean_virus], widths=0.6, vert=False, showextrema=False, points=100)\n",
    "for pc in vparts['bodies']:\n",
    "    pc.set_facecolor(colors[1])\n",
    "    pc.set_edgecolor(colors[1])\n",
    "ax.axvline(np.median(mean_virus), c=colors[1], linestyle='-.')\n",
    "ax.axhline(0.5, c='gray')\n",
    "#\n",
    "ax.errorbar(host_means, all_y_vals, xerr=host_errs,\\\n",
    "            marker='o', linestyle='', mfc=colors[0], mec=colors[0], ecolor='gray',\\\n",
    "            zorder=1, markersize=8)\n",
    "ax.axhline(-3, c='gray')\n",
    "ax.set_xlabel(col_to_label_dict[col_name])\n",
    "ax.set_yticks([1]+all_y_vals)\n",
    "ax.set_yticklabels(['{} individual\\nphage genomes'.format(len(mean_virus)),\\\n",
    "                    'All',\\\n",
    "                    'Top 75%',\\\n",
    "                    'Top 50%',\\\n",
    "                    'Top 25%',\\\n",
    "                    'Top 10%',\\\n",
    "                    'Top 5%',\\\n",
    "                    'Essential genes',\\\n",
    "                    'Non-essential genes']);\n",
    "# plt.savefig(figs_dir + '/Ecoli_{}_categories.png'.format(col_name), dpi=300, bbox_inches='tight')"
   ]
  },
  {
   "cell_type": "code",
   "execution_count": 68,
   "metadata": {},
   "outputs": [],
   "source": [
    "results = []\n",
    "for temp_df in host_df_list:\n",
    "    beta_vals = []\n",
    "    p_vals = []\n",
    "    for virus_tsv in glob.glob('../Data/MVP_data/host_linked_genomes/562_rep_viruses/*.clean.tsv')[:]:\n",
    "        if virus_tsv.split('/')[-1].split('.clean.tsv')[0] not in independent_set:\n",
    "            continue\n",
    "        virus_df = pd.read_csv(virus_tsv, sep='\\t', index_col=0)\n",
    "        virus_df['SD_accessibility'] = virus_df['sec_struct'] - virus_df['sec_struct_bound']\n",
    "        ###Welch's T-test, not assuming equal variance\n",
    "        t, p = stats.ttest_ind(temp_df[col_name], virus_df[col_name], equal_var=False)\n",
    "        p_vals.append(p)\n",
    "        ###Logistic regression to get the directionality of the difference\n",
    "        concat_df = pd.concat((temp_df, virus_df), ignore_index=True, sort=False)\n",
    "        concat_df['binary_predictor'] = 1\n",
    "        concat_df.at[concat_df[concat_df['genome_id'] == host_name].index, 'binary_predictor'] = 0 \n",
    "        fitted = smf.logit('binary_predictor ~ {}'.format(col_name), data=concat_df).fit(disp=0)\n",
    "        beta_vals.append(fitted.params[1])\n",
    "    truth_array, correct_p_vals = multi.fdrcorrection(p_vals, alpha=0.01)\n",
    "    zippy = list(zip(correct_p_vals, beta_vals))\n",
    "    lside = len([1 for i,j in zippy if i < 0.01 and j < 0])\n",
    "    rside = len([1 for i,j in zippy if i < 0.01 and j >= 0])\n",
    "    results.append((lside, rside))"
   ]
  },
  {
   "cell_type": "code",
   "execution_count": 69,
   "metadata": {},
   "outputs": [
    {
     "data": {
      "text/plain": [
       "Text(0.5, 0, 'Number of phage genomes\\nwith significant differences')"
      ]
     },
     "execution_count": 69,
     "metadata": {},
     "output_type": "execute_result"
    },
    {
     "data": {
      "image/png": "[encoded data removed]",
      "text/plain": [
       "<Figure size 322.5x367.5 with 1 Axes>"
      ]
     },
     "metadata": {
      "needs_background": "light"
     },
     "output_type": "display_data"
    }
   ],
   "source": [
    "fig, ax = plt.subplots(figsize=(2.15,2.45))\n",
    "l_bar = ax.barh(all_y_vals, [-1*i[0] for i in results], height=0.4,\\\n",
    "             color='gray')\n",
    "r_bar = ax.barh(all_y_vals, [i[1] for i in results], height=0.4,\\\n",
    "            color='gray')\n",
    "ax.set_yticklabels('')\n",
    "ax.set_xticks([-300, -150, 0, 150, 300])\n",
    "ax.set_xticklabels([300, 150, 0, 150, 300])\n",
    "ax.set_xlim(-330, 330)\n",
    "ax.axvline(0, c='k')\n",
    "ax.set_yticks(all_y_vals[::-1])\n",
    "ax.set_ylim(-4.25, 0.5)\n",
    "ax.axhline(-3, c='gray')\n",
    "\n",
    "\n",
    "ax.set_xlabel('Number of phage genomes\\nwith significant differences')\n",
    "# plt.savefig(figs_dir + '/Ecoli_{}_categories_bar.png'.format(col_name), dpi=300, bbox_inches='tight')"
   ]
  },
  {
   "cell_type": "code",
   "execution_count": 71,
   "metadata": {},
   "outputs": [
    {
     "data": {
      "text/plain": [
       "[-38, -23, -17, -9, -5, -3, -90, -30]"
      ]
     },
     "execution_count": 71,
     "metadata": {},
     "output_type": "execute_result"
    }
   ],
   "source": [
    "[-1*i[0] for i in results]"
   ]
  },
  {
   "cell_type": "code",
   "execution_count": 72,
   "metadata": {},
   "outputs": [
    {
     "data": {
      "text/plain": [
       "[1, 1, 3, 6, 9, 9, 0, 1]"
      ]
     },
     "execution_count": 72,
     "metadata": {},
     "output_type": "execute_result"
    }
   ],
   "source": [
    "[i[1] for i in results]"
   ]
  },
  {
   "cell_type": "code",
   "execution_count": null,
   "metadata": {},
   "outputs": [],
   "source": []
  }
 ],
 "metadata": {
  "kernelspec": {
   "display_name": "Python 3",
   "language": "python",
   "name": "python3"
  },
  "language_info": {
   "codemirror_mode": {
    "name": "ipython",
    "version": 3
   },
   "file_extension": ".py",
   "mimetype": "text/x-python",
   "name": "python",
   "nbconvert_exporter": "python",
   "pygments_lexer": "ipython3",
   "version": "3.7.7"
  },
  "toc": {
   "colors": {
    "hover_highlight": "#DAA520",
    "navigate_num": "#000000",
    "navigate_text": "#333333",
    "running_highlight": "#FF0000",
    "selected_highlight": "#FFD700",
    "sidebar_border": "#EEEEEE",
    "wrapper_background": "#FFFFFF"
   },
   "moveMenuLeft": true,
   "nav_menu": {
    "height": "102px",
    "width": "252px"
   },
   "navigate_menu": true,
   "number_sections": true,
   "sideBar": true,
   "threshold": 4,
   "toc_cell": false,
   "toc_section_display": "block",
   "toc_window_display": false,
   "widenNotebook": false
  }
 },
 "nbformat": 4,
 "nbformat_minor": 2
}
