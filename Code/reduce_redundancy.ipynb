{
 "cells": [
  {
   "cell_type": "code",
   "execution_count": 1,
   "metadata": {},
   "outputs": [],
   "source": [
    "%matplotlib inline"
   ]
  },
  {
   "cell_type": "markdown",
   "metadata": {},
   "source": [
    "# Offline portion\n",
    "\n",
    "I manually ran fastANI on the set of phage genomes (`.fasta` files) for each host.\n",
    "\n",
    "For example:\n",
    "```\n",
    "find ../Data/MVP_DB/562_rep_viruses/*.fasta -type f> file_listing.txt\n",
    "\n",
    "fastANI --ql file_listing.txt --rl file_listing.txt --fragLen 300 --minFraction 0.8 -o 562_ANI.output\n",
    "```\n",
    "\n",
    "To run for all hosts, just replace both instances of `562` in the above code. Didn't seem worth writing a bash script for. "
   ]
  },
  {
   "cell_type": "code",
   "execution_count": 2,
   "metadata": {},
   "outputs": [],
   "source": [
    "import pandas as pd\n",
    "import glob\n",
    "from Bio import SeqIO"
   ]
  },
  {
   "cell_type": "code",
   "execution_count": 3,
   "metadata": {},
   "outputs": [
    {
     "name": "stdout",
     "output_type": "stream",
     "text": [
      "Shape: (1141, 5)\n",
      "Non-null shape: (1141, 5)\n"
     ]
    },
    {
     "data": {
      "text/html": [
       "<div>\n",
       "<style scoped>\n",
       "    .dataframe tbody tr th:only-of-type {\n",
       "        vertical-align: middle;\n",
       "    }\n",
       "\n",
       "    .dataframe tbody tr th {\n",
       "        vertical-align: top;\n",
       "    }\n",
       "\n",
       "    .dataframe thead th {\n",
       "        text-align: right;\n",
       "    }\n",
       "</style>\n",
       "<table border=\"1\" class=\"dataframe\">\n",
       "  <thead>\n",
       "    <tr style=\"text-align: right;\">\n",
       "      <th></th>\n",
       "      <th>0</th>\n",
       "      <th>1</th>\n",
       "      <th>2</th>\n",
       "      <th>3</th>\n",
       "      <th>4</th>\n",
       "    </tr>\n",
       "  </thead>\n",
       "  <tbody>\n",
       "    <tr>\n",
       "      <th>0</th>\n",
       "      <td>../Data/MVP_DB/562_rep_viruses/10044.fasta</td>\n",
       "      <td>../Data/MVP_DB/562_rep_viruses/10044.fasta</td>\n",
       "      <td>100.0000</td>\n",
       "      <td>117</td>\n",
       "      <td>120</td>\n",
       "    </tr>\n",
       "    <tr>\n",
       "      <th>1</th>\n",
       "      <td>../Data/MVP_DB/562_rep_viruses/10111.fasta</td>\n",
       "      <td>../Data/MVP_DB/562_rep_viruses/10111.fasta</td>\n",
       "      <td>100.0000</td>\n",
       "      <td>120</td>\n",
       "      <td>120</td>\n",
       "    </tr>\n",
       "    <tr>\n",
       "      <th>2</th>\n",
       "      <td>../Data/MVP_DB/562_rep_viruses/10111.fasta</td>\n",
       "      <td>../Data/MVP_DB/562_rep_viruses/11438.fasta</td>\n",
       "      <td>95.8651</td>\n",
       "      <td>94</td>\n",
       "      <td>120</td>\n",
       "    </tr>\n",
       "    <tr>\n",
       "      <th>3</th>\n",
       "      <td>../Data/MVP_DB/562_rep_viruses/10111.fasta</td>\n",
       "      <td>../Data/MVP_DB/562_rep_viruses/11884.fasta</td>\n",
       "      <td>94.9761</td>\n",
       "      <td>88</td>\n",
       "      <td>120</td>\n",
       "    </tr>\n",
       "    <tr>\n",
       "      <th>4</th>\n",
       "      <td>../Data/MVP_DB/562_rep_viruses/10111.fasta</td>\n",
       "      <td>../Data/MVP_DB/562_rep_viruses/7139.fasta</td>\n",
       "      <td>94.9603</td>\n",
       "      <td>99</td>\n",
       "      <td>120</td>\n",
       "    </tr>\n",
       "  </tbody>\n",
       "</table>\n",
       "</div>"
      ],
      "text/plain": [
       "                                            0  \\\n",
       "0  ../Data/MVP_DB/562_rep_viruses/10044.fasta   \n",
       "1  ../Data/MVP_DB/562_rep_viruses/10111.fasta   \n",
       "2  ../Data/MVP_DB/562_rep_viruses/10111.fasta   \n",
       "3  ../Data/MVP_DB/562_rep_viruses/10111.fasta   \n",
       "4  ../Data/MVP_DB/562_rep_viruses/10111.fasta   \n",
       "\n",
       "                                            1         2    3    4  \n",
       "0  ../Data/MVP_DB/562_rep_viruses/10044.fasta  100.0000  117  120  \n",
       "1  ../Data/MVP_DB/562_rep_viruses/10111.fasta  100.0000  120  120  \n",
       "2  ../Data/MVP_DB/562_rep_viruses/11438.fasta   95.8651   94  120  \n",
       "3  ../Data/MVP_DB/562_rep_viruses/11884.fasta   94.9761   88  120  \n",
       "4   ../Data/MVP_DB/562_rep_viruses/7139.fasta   94.9603   99  120  "
      ]
     },
     "execution_count": 3,
     "metadata": {},
     "output_type": "execute_result"
    }
   ],
   "source": [
    "taxon_id = '562'\n",
    "input_df = pd.read_csv('../Data/MVP_data/fastANI_results/{}_ANI.output'.format(taxon_id), sep='\\t', header=None)\n",
    "print('Shape:', input_df.shape)\n",
    "print('Non-null shape:', input_df[input_df[2].isnull()==False].shape)\n",
    "input_df.head()"
   ]
  },
  {
   "cell_type": "code",
   "execution_count": 4,
   "metadata": {},
   "outputs": [
    {
     "name": "stdout",
     "output_type": "stream",
     "text": [
      "(365, 5)\n",
      "(769, 5)\n"
     ]
    },
    {
     "data": {
      "text/html": [
       "<div>\n",
       "<style scoped>\n",
       "    .dataframe tbody tr th:only-of-type {\n",
       "        vertical-align: middle;\n",
       "    }\n",
       "\n",
       "    .dataframe tbody tr th {\n",
       "        vertical-align: top;\n",
       "    }\n",
       "\n",
       "    .dataframe thead th {\n",
       "        text-align: right;\n",
       "    }\n",
       "</style>\n",
       "<table border=\"1\" class=\"dataframe\">\n",
       "  <thead>\n",
       "    <tr style=\"text-align: right;\">\n",
       "      <th></th>\n",
       "      <th>query_seq</th>\n",
       "      <th>ref_seq</th>\n",
       "      <th>2</th>\n",
       "      <th>3</th>\n",
       "      <th>4</th>\n",
       "    </tr>\n",
       "  </thead>\n",
       "  <tbody>\n",
       "    <tr>\n",
       "      <th>2</th>\n",
       "      <td>10111</td>\n",
       "      <td>11438</td>\n",
       "      <td>95.8651</td>\n",
       "      <td>94</td>\n",
       "      <td>120</td>\n",
       "    </tr>\n",
       "    <tr>\n",
       "      <th>3</th>\n",
       "      <td>10111</td>\n",
       "      <td>11884</td>\n",
       "      <td>94.9761</td>\n",
       "      <td>88</td>\n",
       "      <td>120</td>\n",
       "    </tr>\n",
       "    <tr>\n",
       "      <th>4</th>\n",
       "      <td>10111</td>\n",
       "      <td>7139</td>\n",
       "      <td>94.9603</td>\n",
       "      <td>99</td>\n",
       "      <td>120</td>\n",
       "    </tr>\n",
       "    <tr>\n",
       "      <th>6</th>\n",
       "      <td>10203</td>\n",
       "      <td>9032</td>\n",
       "      <td>96.6925</td>\n",
       "      <td>99</td>\n",
       "      <td>119</td>\n",
       "    </tr>\n",
       "    <tr>\n",
       "      <th>7</th>\n",
       "      <td>10203</td>\n",
       "      <td>8248</td>\n",
       "      <td>96.6038</td>\n",
       "      <td>96</td>\n",
       "      <td>119</td>\n",
       "    </tr>\n",
       "    <tr>\n",
       "      <th>8</th>\n",
       "      <td>10203</td>\n",
       "      <td>1758</td>\n",
       "      <td>96.4027</td>\n",
       "      <td>100</td>\n",
       "      <td>119</td>\n",
       "    </tr>\n",
       "    <tr>\n",
       "      <th>11</th>\n",
       "      <td>1025</td>\n",
       "      <td>652</td>\n",
       "      <td>97.6557</td>\n",
       "      <td>212</td>\n",
       "      <td>248</td>\n",
       "    </tr>\n",
       "    <tr>\n",
       "      <th>12</th>\n",
       "      <td>1025</td>\n",
       "      <td>614</td>\n",
       "      <td>97.3440</td>\n",
       "      <td>216</td>\n",
       "      <td>248</td>\n",
       "    </tr>\n",
       "    <tr>\n",
       "      <th>13</th>\n",
       "      <td>1025</td>\n",
       "      <td>229</td>\n",
       "      <td>97.2761</td>\n",
       "      <td>201</td>\n",
       "      <td>248</td>\n",
       "    </tr>\n",
       "    <tr>\n",
       "      <th>14</th>\n",
       "      <td>1025</td>\n",
       "      <td>2462</td>\n",
       "      <td>96.8932</td>\n",
       "      <td>148</td>\n",
       "      <td>248</td>\n",
       "    </tr>\n",
       "    <tr>\n",
       "      <th>17</th>\n",
       "      <td>10658</td>\n",
       "      <td>11582</td>\n",
       "      <td>96.1928</td>\n",
       "      <td>90</td>\n",
       "      <td>116</td>\n",
       "    </tr>\n",
       "    <tr>\n",
       "      <th>18</th>\n",
       "      <td>10658</td>\n",
       "      <td>11884</td>\n",
       "      <td>95.9137</td>\n",
       "      <td>92</td>\n",
       "      <td>116</td>\n",
       "    </tr>\n",
       "    <tr>\n",
       "      <th>20</th>\n",
       "      <td>1072</td>\n",
       "      <td>382</td>\n",
       "      <td>99.6642</td>\n",
       "      <td>243</td>\n",
       "      <td>243</td>\n",
       "    </tr>\n",
       "    <tr>\n",
       "      <th>22</th>\n",
       "      <td>10857</td>\n",
       "      <td>7680</td>\n",
       "      <td>97.5392</td>\n",
       "      <td>104</td>\n",
       "      <td>115</td>\n",
       "    </tr>\n",
       "    <tr>\n",
       "      <th>23</th>\n",
       "      <td>10857</td>\n",
       "      <td>5210</td>\n",
       "      <td>97.2177</td>\n",
       "      <td>102</td>\n",
       "      <td>115</td>\n",
       "    </tr>\n",
       "    <tr>\n",
       "      <th>25</th>\n",
       "      <td>1085</td>\n",
       "      <td>1086</td>\n",
       "      <td>92.9159</td>\n",
       "      <td>196</td>\n",
       "      <td>241</td>\n",
       "    </tr>\n",
       "    <tr>\n",
       "      <th>27</th>\n",
       "      <td>1086</td>\n",
       "      <td>1085</td>\n",
       "      <td>92.7687</td>\n",
       "      <td>197</td>\n",
       "      <td>241</td>\n",
       "    </tr>\n",
       "    <tr>\n",
       "      <th>32</th>\n",
       "      <td>11286</td>\n",
       "      <td>12529</td>\n",
       "      <td>96.7572</td>\n",
       "      <td>86</td>\n",
       "      <td>112</td>\n",
       "    </tr>\n",
       "    <tr>\n",
       "      <th>33</th>\n",
       "      <td>11286</td>\n",
       "      <td>14566</td>\n",
       "      <td>96.7230</td>\n",
       "      <td>76</td>\n",
       "      <td>112</td>\n",
       "    </tr>\n",
       "    <tr>\n",
       "      <th>34</th>\n",
       "      <td>11286</td>\n",
       "      <td>12799</td>\n",
       "      <td>96.7178</td>\n",
       "      <td>85</td>\n",
       "      <td>112</td>\n",
       "    </tr>\n",
       "  </tbody>\n",
       "</table>\n",
       "</div>"
      ],
      "text/plain": [
       "   query_seq ref_seq        2    3    4\n",
       "2      10111   11438  95.8651   94  120\n",
       "3      10111   11884  94.9761   88  120\n",
       "4      10111    7139  94.9603   99  120\n",
       "6      10203    9032  96.6925   99  119\n",
       "7      10203    8248  96.6038   96  119\n",
       "8      10203    1758  96.4027  100  119\n",
       "11      1025     652  97.6557  212  248\n",
       "12      1025     614  97.3440  216  248\n",
       "13      1025     229  97.2761  201  248\n",
       "14      1025    2462  96.8932  148  248\n",
       "17     10658   11582  96.1928   90  116\n",
       "18     10658   11884  95.9137   92  116\n",
       "20      1072     382  99.6642  243  243\n",
       "22     10857    7680  97.5392  104  115\n",
       "23     10857    5210  97.2177  102  115\n",
       "25      1085    1086  92.9159  196  241\n",
       "27      1086    1085  92.7687  197  241\n",
       "32     11286   12529  96.7572   86  112\n",
       "33     11286   14566  96.7230   76  112\n",
       "34     11286   12799  96.7178   85  112"
      ]
     },
     "execution_count": 4,
     "metadata": {},
     "output_type": "execute_result"
    }
   ],
   "source": [
    "input_df['temp'] = input_df[0].str.split(\"/\").str[-1]\n",
    "input_df['query_seq'] = input_df['temp'].str.split('.').str[0]\n",
    "input_df['temp'] = input_df[1].str.split(\"/\").str[-1]\n",
    "input_df['ref_seq'] = input_df['temp'].str.split('.').str[0]\n",
    "input_df = input_df[['query_seq', 'ref_seq', 2, 3, 4]]\n",
    "print(input_df[input_df[2]==100.].shape)\n",
    "input_df = input_df[input_df['query_seq'] != input_df['ref_seq']]\n",
    "print(input_df.shape)\n",
    "input_df.head(n=20)"
   ]
  },
  {
   "cell_type": "markdown",
   "metadata": {},
   "source": [
    "# Re-create the cd-hit-est algorithm for clustering\n",
    "\n",
    "There's probably a faster way to do this but it seemed straightforward enough to quickly write up the greedy incremental clustering approach."
   ]
  },
  {
   "cell_type": "code",
   "execution_count": 5,
   "metadata": {},
   "outputs": [
    {
     "name": "stdout",
     "output_type": "stream",
     "text": [
      "First, last record sequence length: 176788 , 20317\n",
      "Total sequences: 374\n"
     ]
    }
   ],
   "source": [
    "records = []\n",
    "for infile in glob.glob('../Data/MVP_data/host_linked_genomes/{}_rep_viruses/*.fasta'.format(taxon_id)):\n",
    "    tempy = SeqIO.read(infile, 'fasta')\n",
    "    records.append((infile.split('/')[-1].split('.')[0], len(tempy.seq)))\n",
    "records = sorted(records, key=lambda x: x[1], reverse=True) ###Critical step!\n",
    "print('First, last record sequence length:', records[0][1], ',', records[-1][1])\n",
    "print('Total sequences:', len(records))\n",
    "len_dict = dict(records) #useful for sorting later"
   ]
  },
  {
   "cell_type": "code",
   "execution_count": 11,
   "metadata": {},
   "outputs": [
    {
     "name": "stdout",
     "output_type": "stream",
     "text": [
      "178 374\n"
     ]
    }
   ],
   "source": [
    "input_df_copy = input_df.copy(deep=True)\n",
    "thresh = 80\n",
    "clusters = []\n",
    "found = []\n",
    "for record in records: \n",
    "    ### Records must be sorted in order! (see above)\n",
    "    if record[0] in found:\n",
    "        continue\n",
    "    ###Find all instances of this record in the dataframe\n",
    "    temp_df = input_df_copy[(input_df_copy['query_seq']==record[0]) | (input_df_copy['ref_seq']==record[0])]\n",
    "    ###Select all cases where the identity is greater than the specified threshold\n",
    "    temp_df = temp_df[temp_df[2] > thresh]\n",
    "    \n",
    "    ###Two paths!\n",
    "    ###If there are some cases\n",
    "    if temp_df.shape[0] != 0:\n",
    "        ###Find everyone involved\n",
    "        all_seqs = list(set(list(temp_df['query_seq'])+list(temp_df['ref_seq'])))        \n",
    "        ###Move my sequence (the longest) to the front of the list\n",
    "        all_seqs.insert(0, all_seqs.pop(all_seqs.index(record[0])))\n",
    "        \n",
    "        ###Loop through everyone else\n",
    "        stop = False\n",
    "        while stop == False:\n",
    "            current_len = len(all_seqs)\n",
    "            added = 1\n",
    "            for seq_id in all_seqs[added:]:\n",
    "                ###Find all instances of this record in the dataframe\n",
    "                temp_df = input_df_copy[(input_df_copy['query_seq']==seq_id) | (input_df_copy['ref_seq']==seq_id)]\n",
    "                ###Select all cases where the identity is greater than the specified threshold\n",
    "                temp_df = temp_df[temp_df[2] > thresh]\n",
    "                if temp_df.shape[0] != 0:\n",
    "                    ###Find everyone involved\n",
    "                    all_seqs_rd2 = list(set(list(temp_df['query_seq'])+list(temp_df['ref_seq'])))        \n",
    "                    for new_seq in all_seqs_rd2:\n",
    "                        if new_seq not in all_seqs:\n",
    "                            all_seqs.append(new_seq)\n",
    "                added += 1\n",
    "            final_len = len(all_seqs)\n",
    "            if final_len == current_len:\n",
    "                stop = True\n",
    "        ###Finally, call it a cluster\n",
    "        clusters.append(all_seqs)\n",
    "        ###Note that everyone in the cluster is accounted for and should be skipped\n",
    "        found.extend(all_seqs)\n",
    "        ###Remove everyone that I found from the temporary dataframe\n",
    "        input_df_copy = input_df_copy[input_df_copy['query_seq'].isin(all_seqs)==False]\n",
    "        input_df_copy = input_df_copy[input_df_copy['ref_seq'].isin(all_seqs)==False]\n",
    "    ###If the sequence is a beautiful little snowflake\n",
    "    else:\n",
    "        ###It's a unique cluster of one\n",
    "        clusters.append([record[0]])\n",
    "        ###That has been found, though it found no one\n",
    "        found.append(record[0])\n",
    "        ###Remove everyone that I found from the temporary dataframe\n",
    "        input_df_copy = input_df_copy[input_df_copy['query_seq']!= record[0]]\n",
    "        input_df_copy = input_df_copy[input_df_copy['ref_seq']!= record[0]]\n",
    "for i, j in enumerate(clusters):\n",
    "    clusters[i] = sorted(j, key=lambda x: len_dict[x], reverse=True)\n",
    "    \n",
    "print(len(clusters), sum([len(i) for i in clusters]))"
   ]
  },
  {
   "cell_type": "code",
   "execution_count": null,
   "metadata": {},
   "outputs": [],
   "source": []
  },
  {
   "cell_type": "markdown",
   "metadata": {},
   "source": [
    "# Write to file"
   ]
  },
  {
   "cell_type": "code",
   "execution_count": 12,
   "metadata": {},
   "outputs": [],
   "source": [
    "with open('../Data/MVP_data/host_linked_genomes/{}_independent.txt'.format(taxon_id), 'w') as outfile:\n",
    "    for cluster in clusters:\n",
    "        outfile.write('{}\\n'.format(cluster[0]))"
   ]
  },
  {
   "cell_type": "code",
   "execution_count": null,
   "metadata": {},
   "outputs": [],
   "source": []
  },
  {
   "cell_type": "code",
   "execution_count": null,
   "metadata": {},
   "outputs": [],
   "source": []
  },
  {
   "cell_type": "code",
   "execution_count": null,
   "metadata": {},
   "outputs": [],
   "source": []
  },
  {
   "cell_type": "code",
   "execution_count": null,
   "metadata": {},
   "outputs": [],
   "source": []
  },
  {
   "cell_type": "markdown",
   "metadata": {},
   "source": [
    "# Visualize what those results look like"
   ]
  },
  {
   "cell_type": "code",
   "execution_count": 13,
   "metadata": {},
   "outputs": [
    {
     "name": "stdout",
     "output_type": "stream",
     "text": [
      "Shape: (1141, 5)\n",
      "Non-null shape: (1141, 5)\n",
      "(1141, 5)\n"
     ]
    }
   ],
   "source": [
    "input_df = pd.read_csv('../Data/MVP_data/fastANI_results/{}_ANI.output'.format(taxon_id), sep='\\t', header=None)\n",
    "print('Shape:', input_df.shape)\n",
    "print('Non-null shape:', input_df[input_df[2].isnull()==False].shape)\n",
    "input_df['temp'] = input_df[0].str.split(\"/\").str[-1]\n",
    "input_df['query_seq'] = input_df['temp'].str.split('.').str[0]\n",
    "input_df['temp'] = input_df[1].str.split(\"/\").str[-1]\n",
    "input_df['ref_seq'] = input_df['temp'].str.split('.').str[0]\n",
    "input_df = input_df[['query_seq', 'ref_seq', 2, 3, 4]]\n",
    "print(input_df.shape)\n",
    "\n",
    "sim_df = input_df.pivot(index='query_seq', columns='ref_seq', values=2)\n",
    "sim_matrix = sim_df.values"
   ]
  },
  {
   "cell_type": "code",
   "execution_count": 14,
   "metadata": {},
   "outputs": [],
   "source": [
    "temp = [str(item) for sublist in clusters for item in sublist if item in sim_df.index]\n",
    "ordered_sim_matrix = sim_df.loc[temp][temp].values"
   ]
  },
  {
   "cell_type": "code",
   "execution_count": 15,
   "metadata": {},
   "outputs": [
    {
     "name": "stdout",
     "output_type": "stream",
     "text": [
      "372 372\n"
     ]
    }
   ],
   "source": [
    "print(len(sim_df.index), len(sim_df.index))"
   ]
  },
  {
   "cell_type": "code",
   "execution_count": 16,
   "metadata": {},
   "outputs": [],
   "source": [
    "from matplotlib import pyplot as plt"
   ]
  },
  {
   "cell_type": "code",
   "execution_count": 18,
   "metadata": {},
   "outputs": [
    {
     "data": {
      "text/plain": [
       "Text(0.5, 1.05, 'After greedy algorithm')"
      ]
     },
     "execution_count": 18,
     "metadata": {},
     "output_type": "execute_result"
    },
    {
     "data": {
      "image/png": "[encoded data removed]",
      "text/plain": [
       "<Figure size 1152x576 with 2 Axes>"
      ]
     },
     "metadata": {
      "needs_background": "light"
     },
     "output_type": "display_data"
    }
   ],
   "source": [
    "fig, ax_arr = plt.subplots(nrows=1, ncols=2, figsize=(16,8))\n",
    "ax_arr[0].matshow(sim_matrix)\n",
    "ax_arr[0].set_title('Unsorted in any seemingly logical way')\n",
    "ax_arr[1].matshow(ordered_sim_matrix)\n",
    "ax_arr[1].set_title('After greedy algorithm')"
   ]
  },
  {
   "cell_type": "code",
   "execution_count": null,
   "metadata": {},
   "outputs": [],
   "source": []
  }
 ],
 "metadata": {
  "kernelspec": {
   "display_name": "Python 3",
   "language": "python",
   "name": "python3"
  },
  "language_info": {
   "codemirror_mode": {
    "name": "ipython",
    "version": 3
   },
   "file_extension": ".py",
   "mimetype": "text/x-python",
   "name": "python",
   "nbconvert_exporter": "python",
   "pygments_lexer": "ipython3",
   "version": "3.7.7"
  },
  "toc": {
   "base_numbering": 1,
   "colors": {
    "hover_highlight": "#DAA520",
    "navigate_num": "#000000",
    "navigate_text": "#333333",
    "running_highlight": "#FF0000",
    "selected_highlight": "#FFD700",
    "sidebar_border": "#EEEEEE",
    "wrapper_background": "#FFFFFF"
   },
   "moveMenuLeft": true,
   "nav_menu": {},
   "navigate_menu": true,
   "number_sections": true,
   "sideBar": true,
   "skip_h1_title": false,
   "threshold": 4,
   "title_cell": "Table of Contents",
   "title_sidebar": "Contents",
   "toc_cell": false,
   "toc_position": {},
   "toc_section_display": true,
   "toc_window_display": false,
   "widenNotebook": false
  }
 },
 "nbformat": 4,
 "nbformat_minor": 4
}
