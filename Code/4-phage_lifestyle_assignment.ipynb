{
 "cells": [
  {
   "cell_type": "code",
   "execution_count": null,
   "metadata": {},
   "outputs": [],
   "source": [
    "%matplotlib inline"
   ]
  },
  {
   "cell_type": "markdown",
   "metadata": {},
   "source": [
    "# Imports\n",
    "\n",
    "The only strange import here is `BACPHLIP`. See: https://www.biorxiv.org/content/10.1101/2020.05.13.094805v1 for details and https://github.com/adamhockenberry/bacphlip for installation instructions"
   ]
  },
  {
   "cell_type": "code",
   "execution_count": null,
   "metadata": {},
   "outputs": [],
   "source": [
    "import bacphlip\n",
    "import glob\n",
    "import pandas as pd\n",
    "from collections import Counter"
   ]
  },
  {
   "cell_type": "markdown",
   "metadata": {},
   "source": [
    "# Run BACPHLIP lifestyle predictions"
   ]
  },
  {
   "cell_type": "code",
   "execution_count": null,
   "metadata": {},
   "outputs": [],
   "source": [
    "full_df = pd.read_csv('../Data/NCBI_phage_db/paper_dataset_11_2020_with_clusters.tsv', sep='\\t')\n",
    "full_df.head()"
   ]
  },
  {
   "cell_type": "code",
   "execution_count": null,
   "metadata": {},
   "outputs": [],
   "source": [
    "# host_species_list = [562]\n",
    "host_species_list = list(set(full_df['Host_species_id']))\n",
    "print(host_species_list)"
   ]
  },
  {
   "cell_type": "markdown",
   "metadata": {},
   "source": [
    "**The folowing code block will take quite a while to run (perhaps a few hours) so be forewarned!**"
   ]
  },
  {
   "cell_type": "code",
   "execution_count": null,
   "metadata": {},
   "outputs": [],
   "source": [
    "phage_dir = '../Data/NCBI_phage_db/phage_genomes/'\n",
    "\n",
    "for host_id in host_species_list:\n",
    "    species_df = full_df[(full_df['Host_species_id']==host_id) & (full_df['cluster_representative']==1)]\n",
    "    for index in species_df.index:\n",
    "        virus_id = species_df.loc[index]['Accession']\n",
    "        viral_fasta = phage_dir + '{}_phage_genomes/'.format(host_id) + '{}.fasta'.format(virus_id)\n",
    "        print(viral_fasta)\n",
    "        bacphlip.run_pipeline(viral_fasta)"
   ]
  },
  {
   "cell_type": "code",
   "execution_count": null,
   "metadata": {},
   "outputs": [],
   "source": []
  },
  {
   "cell_type": "markdown",
   "metadata": {},
   "source": [
    "# Compile results into a dataframe"
   ]
  },
  {
   "cell_type": "code",
   "execution_count": null,
   "metadata": {},
   "outputs": [],
   "source": [
    "full_listy = []\n",
    "for host_id in host_species_list:\n",
    "    species_df = full_df[(full_df['Host_species_id']==host_id) & (full_df['cluster_representative']==1)]\n",
    "    for index in species_df.index:\n",
    "        virus_id = species_df.loc[index]['Accession']\n",
    "        bacphlip_file = phage_dir + '{}_phage_genomes/'.format(host_id) + '{}.fasta.bacphlip'.format(virus_id)\n",
    "        temp_df = pd.read_csv(bacphlip_file, '\\t')\n",
    "        prob_diff = abs(temp_df.loc[0]['Virulent']-temp_df.loc[0]['Temperate'])\n",
    "        lifestyle = ''\n",
    "        if temp_df.loc[0]['Virulent']>temp_df.loc[0]['Temperate']:\n",
    "            lifestyle = 'Virulent'\n",
    "        else:\n",
    "            lifestyle = 'Temperate'\n",
    "        full_listy.append((host_id, virus_id, lifestyle, prob_diff))"
   ]
  },
  {
   "cell_type": "code",
   "execution_count": null,
   "metadata": {},
   "outputs": [],
   "source": [
    "df = pd.DataFrame(full_listy, columns=['host_id', 'phage_id', 'phage_lifestyle', 'lifestyle_probability_difference'])\n",
    "df.head()"
   ]
  },
  {
   "cell_type": "code",
   "execution_count": null,
   "metadata": {},
   "outputs": [],
   "source": [
    "df.to_csv('../Data/lifestyle_results_BACPHLIP.tsv', sep='\\t', index=False)"
   ]
  },
  {
   "cell_type": "markdown",
   "metadata": {},
   "source": [
    "**View aggregate results/stats**"
   ]
  },
  {
   "cell_type": "code",
   "execution_count": null,
   "metadata": {},
   "outputs": [],
   "source": [
    "df[df['lifestyle_probability_difference']>=0.7]['phage_lifestyle'].value_counts()"
   ]
  },
  {
   "cell_type": "code",
   "execution_count": null,
   "metadata": {},
   "outputs": [],
   "source": [
    "full_listy = []\n",
    "for host_id in host_species_list:\n",
    "    print(host_id)\n",
    "#     print(df[df['host_id']==host_id]['phage_lifestyle'].value_counts())\n",
    "    print(df[(df['host_id']==host_id)].shape,\n",
    "          df[(df['host_id']==host_id) & (df['lifestyle_probability_difference']>=0.95)].shape)"
   ]
  },
  {
   "cell_type": "code",
   "execution_count": null,
   "metadata": {},
   "outputs": [],
   "source": []
  },
  {
   "cell_type": "code",
   "execution_count": null,
   "metadata": {},
   "outputs": [],
   "source": []
  }
 ],
 "metadata": {
  "kernelspec": {
   "display_name": "Python 3",
   "language": "python",
   "name": "python3"
  },
  "language_info": {
   "codemirror_mode": {
    "name": "ipython",
    "version": 3
   },
   "file_extension": ".py",
   "mimetype": "text/x-python",
   "name": "python",
   "nbconvert_exporter": "python",
   "pygments_lexer": "ipython3",
   "version": "3.7.7"
  },
  "toc": {
   "colors": {
    "hover_highlight": "#DAA520",
    "navigate_num": "#000000",
    "navigate_text": "#333333",
    "running_highlight": "#FF0000",
    "selected_highlight": "#FFD700",
    "sidebar_border": "#EEEEEE",
    "wrapper_background": "#FFFFFF"
   },
   "moveMenuLeft": true,
   "nav_menu": {
    "height": "48px",
    "width": "252px"
   },
   "navigate_menu": true,
   "number_sections": true,
   "sideBar": true,
   "threshold": 4,
   "toc_cell": false,
   "toc_section_display": "block",
   "toc_window_display": false,
   "widenNotebook": false
  }
 },
 "nbformat": 4,
 "nbformat_minor": 2
}
